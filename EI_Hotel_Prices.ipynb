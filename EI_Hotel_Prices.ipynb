{
  "nbformat": 4,
  "nbformat_minor": 0,
  "metadata": {
    "colab": {
      "provenance": []
    },
    "kernelspec": {
      "name": "python3",
      "display_name": "Python 3"
    },
    "language_info": {
      "name": "python"
    }
  },
  "cells": [
    {
      "cell_type": "code",
      "execution_count": null,
      "metadata": {
        "id": "SMJ-eaD1MSDp"
      },
      "outputs": [],
      "source": [
        "import pandas as pd\n",
        "import numpy as np\n",
        "import matplotlib.pyplot as plt"
      ]
    },
    {
      "cell_type": "code",
      "source": [
        "df = pd.read_excel('EI_Hotel_Prices.xlsx',parse_dates=True,index_col='Date ')"
      ],
      "metadata": {
        "id": "5TsGA3BGUOHf"
      },
      "execution_count": null,
      "outputs": []
    },
    {
      "cell_type": "code",
      "source": [
        "df.head()"
      ],
      "metadata": {
        "colab": {
          "base_uri": "https://localhost:8080/",
          "height": 237
        },
        "id": "LE7kLt7_URyV",
        "outputId": "dbbf2166-dedc-4b85-8de3-32724d6d8344"
      },
      "execution_count": null,
      "outputs": [
        {
          "output_type": "execute_result",
          "data": {
            "text/plain": [
              "             OPEN    HIGH     LOW   PREV. CLOSE    ltp   close    vwap   \\\n",
              "Date                                                                      \n",
              "2022-06-20  125.10  126.85  120.25        125.10  123.0  122.30  123.01   \n",
              "2022-06-21  123.50  127.60  122.55        122.30  126.3  126.15  125.87   \n",
              "2022-06-22  123.55  128.30  123.55        126.15  126.3  126.65  126.48   \n",
              "2022-06-23  127.00  127.85  124.00        126.65  126.2  125.90  125.76   \n",
              "2022-06-24  125.90  129.90  125.05        125.90  125.3  125.45  126.98   \n",
              "\n",
              "            52W H   52W L   VOLUME        VALUE   No of trades   \n",
              "Date                                                             \n",
              "2022-06-20  171.75   100.0   203098  24982281.65           4630  \n",
              "2022-06-21  171.75   100.0   142935  17990606.75           3597  \n",
              "2022-06-22  171.75   100.0   156581  19805053.35           8072  \n",
              "2022-06-23  171.75   100.0   149141  18755907.30           4655  \n",
              "2022-06-24  171.75   100.0   244282  31018194.60           3588  "
            ],
            "text/html": [
              "\n",
              "  <div id=\"df-8e678026-d549-40db-96ca-cc687958698b\" class=\"colab-df-container\">\n",
              "    <div>\n",
              "<style scoped>\n",
              "    .dataframe tbody tr th:only-of-type {\n",
              "        vertical-align: middle;\n",
              "    }\n",
              "\n",
              "    .dataframe tbody tr th {\n",
              "        vertical-align: top;\n",
              "    }\n",
              "\n",
              "    .dataframe thead th {\n",
              "        text-align: right;\n",
              "    }\n",
              "</style>\n",
              "<table border=\"1\" class=\"dataframe\">\n",
              "  <thead>\n",
              "    <tr style=\"text-align: right;\">\n",
              "      <th></th>\n",
              "      <th>OPEN</th>\n",
              "      <th>HIGH</th>\n",
              "      <th>LOW</th>\n",
              "      <th>PREV. CLOSE</th>\n",
              "      <th>ltp</th>\n",
              "      <th>close</th>\n",
              "      <th>vwap</th>\n",
              "      <th>52W H</th>\n",
              "      <th>52W L</th>\n",
              "      <th>VOLUME</th>\n",
              "      <th>VALUE</th>\n",
              "      <th>No of trades</th>\n",
              "    </tr>\n",
              "    <tr>\n",
              "      <th>Date</th>\n",
              "      <th></th>\n",
              "      <th></th>\n",
              "      <th></th>\n",
              "      <th></th>\n",
              "      <th></th>\n",
              "      <th></th>\n",
              "      <th></th>\n",
              "      <th></th>\n",
              "      <th></th>\n",
              "      <th></th>\n",
              "      <th></th>\n",
              "      <th></th>\n",
              "    </tr>\n",
              "  </thead>\n",
              "  <tbody>\n",
              "    <tr>\n",
              "      <th>2022-06-20</th>\n",
              "      <td>125.10</td>\n",
              "      <td>126.85</td>\n",
              "      <td>120.25</td>\n",
              "      <td>125.10</td>\n",
              "      <td>123.0</td>\n",
              "      <td>122.30</td>\n",
              "      <td>123.01</td>\n",
              "      <td>171.75</td>\n",
              "      <td>100.0</td>\n",
              "      <td>203098</td>\n",
              "      <td>24982281.65</td>\n",
              "      <td>4630</td>\n",
              "    </tr>\n",
              "    <tr>\n",
              "      <th>2022-06-21</th>\n",
              "      <td>123.50</td>\n",
              "      <td>127.60</td>\n",
              "      <td>122.55</td>\n",
              "      <td>122.30</td>\n",
              "      <td>126.3</td>\n",
              "      <td>126.15</td>\n",
              "      <td>125.87</td>\n",
              "      <td>171.75</td>\n",
              "      <td>100.0</td>\n",
              "      <td>142935</td>\n",
              "      <td>17990606.75</td>\n",
              "      <td>3597</td>\n",
              "    </tr>\n",
              "    <tr>\n",
              "      <th>2022-06-22</th>\n",
              "      <td>123.55</td>\n",
              "      <td>128.30</td>\n",
              "      <td>123.55</td>\n",
              "      <td>126.15</td>\n",
              "      <td>126.3</td>\n",
              "      <td>126.65</td>\n",
              "      <td>126.48</td>\n",
              "      <td>171.75</td>\n",
              "      <td>100.0</td>\n",
              "      <td>156581</td>\n",
              "      <td>19805053.35</td>\n",
              "      <td>8072</td>\n",
              "    </tr>\n",
              "    <tr>\n",
              "      <th>2022-06-23</th>\n",
              "      <td>127.00</td>\n",
              "      <td>127.85</td>\n",
              "      <td>124.00</td>\n",
              "      <td>126.65</td>\n",
              "      <td>126.2</td>\n",
              "      <td>125.90</td>\n",
              "      <td>125.76</td>\n",
              "      <td>171.75</td>\n",
              "      <td>100.0</td>\n",
              "      <td>149141</td>\n",
              "      <td>18755907.30</td>\n",
              "      <td>4655</td>\n",
              "    </tr>\n",
              "    <tr>\n",
              "      <th>2022-06-24</th>\n",
              "      <td>125.90</td>\n",
              "      <td>129.90</td>\n",
              "      <td>125.05</td>\n",
              "      <td>125.90</td>\n",
              "      <td>125.3</td>\n",
              "      <td>125.45</td>\n",
              "      <td>126.98</td>\n",
              "      <td>171.75</td>\n",
              "      <td>100.0</td>\n",
              "      <td>244282</td>\n",
              "      <td>31018194.60</td>\n",
              "      <td>3588</td>\n",
              "    </tr>\n",
              "  </tbody>\n",
              "</table>\n",
              "</div>\n",
              "    <div class=\"colab-df-buttons\">\n",
              "\n",
              "  <div class=\"colab-df-container\">\n",
              "    <button class=\"colab-df-convert\" onclick=\"convertToInteractive('df-8e678026-d549-40db-96ca-cc687958698b')\"\n",
              "            title=\"Convert this dataframe to an interactive table.\"\n",
              "            style=\"display:none;\">\n",
              "\n",
              "  <svg xmlns=\"http://www.w3.org/2000/svg\" height=\"24px\" viewBox=\"0 -960 960 960\">\n",
              "    <path d=\"M120-120v-720h720v720H120Zm60-500h600v-160H180v160Zm220 220h160v-160H400v160Zm0 220h160v-160H400v160ZM180-400h160v-160H180v160Zm440 0h160v-160H620v160ZM180-180h160v-160H180v160Zm440 0h160v-160H620v160Z\"/>\n",
              "  </svg>\n",
              "    </button>\n",
              "\n",
              "  <style>\n",
              "    .colab-df-container {\n",
              "      display:flex;\n",
              "      gap: 12px;\n",
              "    }\n",
              "\n",
              "    .colab-df-convert {\n",
              "      background-color: #E8F0FE;\n",
              "      border: none;\n",
              "      border-radius: 50%;\n",
              "      cursor: pointer;\n",
              "      display: none;\n",
              "      fill: #1967D2;\n",
              "      height: 32px;\n",
              "      padding: 0 0 0 0;\n",
              "      width: 32px;\n",
              "    }\n",
              "\n",
              "    .colab-df-convert:hover {\n",
              "      background-color: #E2EBFA;\n",
              "      box-shadow: 0px 1px 2px rgba(60, 64, 67, 0.3), 0px 1px 3px 1px rgba(60, 64, 67, 0.15);\n",
              "      fill: #174EA6;\n",
              "    }\n",
              "\n",
              "    .colab-df-buttons div {\n",
              "      margin-bottom: 4px;\n",
              "    }\n",
              "\n",
              "    [theme=dark] .colab-df-convert {\n",
              "      background-color: #3B4455;\n",
              "      fill: #D2E3FC;\n",
              "    }\n",
              "\n",
              "    [theme=dark] .colab-df-convert:hover {\n",
              "      background-color: #434B5C;\n",
              "      box-shadow: 0px 1px 3px 1px rgba(0, 0, 0, 0.15);\n",
              "      filter: drop-shadow(0px 1px 2px rgba(0, 0, 0, 0.3));\n",
              "      fill: #FFFFFF;\n",
              "    }\n",
              "  </style>\n",
              "\n",
              "    <script>\n",
              "      const buttonEl =\n",
              "        document.querySelector('#df-8e678026-d549-40db-96ca-cc687958698b button.colab-df-convert');\n",
              "      buttonEl.style.display =\n",
              "        google.colab.kernel.accessAllowed ? 'block' : 'none';\n",
              "\n",
              "      async function convertToInteractive(key) {\n",
              "        const element = document.querySelector('#df-8e678026-d549-40db-96ca-cc687958698b');\n",
              "        const dataTable =\n",
              "          await google.colab.kernel.invokeFunction('convertToInteractive',\n",
              "                                                    [key], {});\n",
              "        if (!dataTable) return;\n",
              "\n",
              "        const docLinkHtml = 'Like what you see? Visit the ' +\n",
              "          '<a target=\"_blank\" href=https://colab.research.google.com/notebooks/data_table.ipynb>data table notebook</a>'\n",
              "          + ' to learn more about interactive tables.';\n",
              "        element.innerHTML = '';\n",
              "        dataTable['output_type'] = 'display_data';\n",
              "        await google.colab.output.renderOutput(dataTable, element);\n",
              "        const docLink = document.createElement('div');\n",
              "        docLink.innerHTML = docLinkHtml;\n",
              "        element.appendChild(docLink);\n",
              "      }\n",
              "    </script>\n",
              "  </div>\n",
              "\n",
              "\n",
              "<div id=\"df-ad9dbad9-a104-4ebc-8390-550b04747f72\">\n",
              "  <button class=\"colab-df-quickchart\" onclick=\"quickchart('df-ad9dbad9-a104-4ebc-8390-550b04747f72')\"\n",
              "            title=\"Suggest charts\"\n",
              "            style=\"display:none;\">\n",
              "\n",
              "<svg xmlns=\"http://www.w3.org/2000/svg\" height=\"24px\"viewBox=\"0 0 24 24\"\n",
              "     width=\"24px\">\n",
              "    <g>\n",
              "        <path d=\"M19 3H5c-1.1 0-2 .9-2 2v14c0 1.1.9 2 2 2h14c1.1 0 2-.9 2-2V5c0-1.1-.9-2-2-2zM9 17H7v-7h2v7zm4 0h-2V7h2v10zm4 0h-2v-4h2v4z\"/>\n",
              "    </g>\n",
              "</svg>\n",
              "  </button>\n",
              "\n",
              "<style>\n",
              "  .colab-df-quickchart {\n",
              "      --bg-color: #E8F0FE;\n",
              "      --fill-color: #1967D2;\n",
              "      --hover-bg-color: #E2EBFA;\n",
              "      --hover-fill-color: #174EA6;\n",
              "      --disabled-fill-color: #AAA;\n",
              "      --disabled-bg-color: #DDD;\n",
              "  }\n",
              "\n",
              "  [theme=dark] .colab-df-quickchart {\n",
              "      --bg-color: #3B4455;\n",
              "      --fill-color: #D2E3FC;\n",
              "      --hover-bg-color: #434B5C;\n",
              "      --hover-fill-color: #FFFFFF;\n",
              "      --disabled-bg-color: #3B4455;\n",
              "      --disabled-fill-color: #666;\n",
              "  }\n",
              "\n",
              "  .colab-df-quickchart {\n",
              "    background-color: var(--bg-color);\n",
              "    border: none;\n",
              "    border-radius: 50%;\n",
              "    cursor: pointer;\n",
              "    display: none;\n",
              "    fill: var(--fill-color);\n",
              "    height: 32px;\n",
              "    padding: 0;\n",
              "    width: 32px;\n",
              "  }\n",
              "\n",
              "  .colab-df-quickchart:hover {\n",
              "    background-color: var(--hover-bg-color);\n",
              "    box-shadow: 0 1px 2px rgba(60, 64, 67, 0.3), 0 1px 3px 1px rgba(60, 64, 67, 0.15);\n",
              "    fill: var(--button-hover-fill-color);\n",
              "  }\n",
              "\n",
              "  .colab-df-quickchart-complete:disabled,\n",
              "  .colab-df-quickchart-complete:disabled:hover {\n",
              "    background-color: var(--disabled-bg-color);\n",
              "    fill: var(--disabled-fill-color);\n",
              "    box-shadow: none;\n",
              "  }\n",
              "\n",
              "  .colab-df-spinner {\n",
              "    border: 2px solid var(--fill-color);\n",
              "    border-color: transparent;\n",
              "    border-bottom-color: var(--fill-color);\n",
              "    animation:\n",
              "      spin 1s steps(1) infinite;\n",
              "  }\n",
              "\n",
              "  @keyframes spin {\n",
              "    0% {\n",
              "      border-color: transparent;\n",
              "      border-bottom-color: var(--fill-color);\n",
              "      border-left-color: var(--fill-color);\n",
              "    }\n",
              "    20% {\n",
              "      border-color: transparent;\n",
              "      border-left-color: var(--fill-color);\n",
              "      border-top-color: var(--fill-color);\n",
              "    }\n",
              "    30% {\n",
              "      border-color: transparent;\n",
              "      border-left-color: var(--fill-color);\n",
              "      border-top-color: var(--fill-color);\n",
              "      border-right-color: var(--fill-color);\n",
              "    }\n",
              "    40% {\n",
              "      border-color: transparent;\n",
              "      border-right-color: var(--fill-color);\n",
              "      border-top-color: var(--fill-color);\n",
              "    }\n",
              "    60% {\n",
              "      border-color: transparent;\n",
              "      border-right-color: var(--fill-color);\n",
              "    }\n",
              "    80% {\n",
              "      border-color: transparent;\n",
              "      border-right-color: var(--fill-color);\n",
              "      border-bottom-color: var(--fill-color);\n",
              "    }\n",
              "    90% {\n",
              "      border-color: transparent;\n",
              "      border-bottom-color: var(--fill-color);\n",
              "    }\n",
              "  }\n",
              "</style>\n",
              "\n",
              "  <script>\n",
              "    async function quickchart(key) {\n",
              "      const quickchartButtonEl =\n",
              "        document.querySelector('#' + key + ' button');\n",
              "      quickchartButtonEl.disabled = true;  // To prevent multiple clicks.\n",
              "      quickchartButtonEl.classList.add('colab-df-spinner');\n",
              "      try {\n",
              "        const charts = await google.colab.kernel.invokeFunction(\n",
              "            'suggestCharts', [key], {});\n",
              "      } catch (error) {\n",
              "        console.error('Error during call to suggestCharts:', error);\n",
              "      }\n",
              "      quickchartButtonEl.classList.remove('colab-df-spinner');\n",
              "      quickchartButtonEl.classList.add('colab-df-quickchart-complete');\n",
              "    }\n",
              "    (() => {\n",
              "      let quickchartButtonEl =\n",
              "        document.querySelector('#df-ad9dbad9-a104-4ebc-8390-550b04747f72 button');\n",
              "      quickchartButtonEl.style.display =\n",
              "        google.colab.kernel.accessAllowed ? 'block' : 'none';\n",
              "    })();\n",
              "  </script>\n",
              "</div>\n",
              "\n",
              "    </div>\n",
              "  </div>\n"
            ],
            "application/vnd.google.colaboratory.intrinsic+json": {
              "type": "dataframe",
              "variable_name": "df",
              "summary": "{\n  \"name\": \"df\",\n  \"rows\": 496,\n  \"fields\": [\n    {\n      \"column\": \"Date \",\n      \"properties\": {\n        \"dtype\": \"date\",\n        \"min\": \"2022-06-20 00:00:00\",\n        \"max\": \"2024-06-19 00:00:00\",\n        \"num_unique_values\": 496,\n        \"samples\": [\n          \"2024-04-24 00:00:00\",\n          \"2022-10-04 00:00:00\",\n          \"2023-05-26 00:00:00\"\n        ],\n        \"semantic_type\": \"\",\n        \"description\": \"\"\n      }\n    },\n    {\n      \"column\": \"OPEN \",\n      \"properties\": {\n        \"dtype\": \"number\",\n        \"std\": 101.99827446800536,\n        \"min\": 123.5,\n        \"max\": 495.4,\n        \"num_unique_values\": 438,\n        \"samples\": [\n          405.0,\n          191.85,\n          223.7\n        ],\n        \"semantic_type\": \"\",\n        \"description\": \"\"\n      }\n    },\n    {\n      \"column\": \"HIGH \",\n      \"properties\": {\n        \"dtype\": \"number\",\n        \"std\": 104.60148486453095,\n        \"min\": 126.65,\n        \"max\": 502.2,\n        \"num_unique_values\": 448,\n        \"samples\": [\n          228.8,\n          233.9,\n          179.85\n        ],\n        \"semantic_type\": \"\",\n        \"description\": \"\"\n      }\n    },\n    {\n      \"column\": \"LOW \",\n      \"properties\": {\n        \"dtype\": \"number\",\n        \"std\": 98.88198606976033,\n        \"min\": 120.25,\n        \"max\": 481.15,\n        \"num_unique_values\": 441,\n        \"samples\": [\n          190.3,\n          438.5,\n          162.6\n        ],\n        \"semantic_type\": \"\",\n        \"description\": \"\"\n      }\n    },\n    {\n      \"column\": \"PREV. CLOSE \",\n      \"properties\": {\n        \"dtype\": \"number\",\n        \"std\": 101.3699019924899,\n        \"min\": 122.3,\n        \"max\": 492.1,\n        \"num_unique_values\": 448,\n        \"samples\": [\n          236.55,\n          227.9,\n          169.65\n        ],\n        \"semantic_type\": \"\",\n        \"description\": \"\"\n      }\n    },\n    {\n      \"column\": \"ltp \",\n      \"properties\": {\n        \"dtype\": \"number\",\n        \"std\": 101.84964286091561,\n        \"min\": 123.0,\n        \"max\": 492.0,\n        \"num_unique_values\": 437,\n        \"samples\": [\n          490.95,\n          189.9,\n          232.85\n        ],\n        \"semantic_type\": \"\",\n        \"description\": \"\"\n      }\n    },\n    {\n      \"column\": \"close \",\n      \"properties\": {\n        \"dtype\": \"number\",\n        \"std\": 101.64446394721159,\n        \"min\": 122.3,\n        \"max\": 492.1,\n        \"num_unique_values\": 448,\n        \"samples\": [\n          232.65,\n          224.95,\n          165.55\n        ],\n        \"semantic_type\": \"\",\n        \"description\": \"\"\n      }\n    },\n    {\n      \"column\": \"vwap \",\n      \"properties\": {\n        \"dtype\": \"number\",\n        \"std\": 101.66143924547974,\n        \"min\": 123.01,\n        \"max\": 491.13,\n        \"num_unique_values\": 488,\n        \"samples\": [\n          193.11,\n          211.63,\n          473.69\n        ],\n        \"semantic_type\": \"\",\n        \"description\": \"\"\n      }\n    },\n    {\n      \"column\": \"52W H \",\n      \"properties\": {\n        \"dtype\": \"number\",\n        \"std\": 108.07882584917876,\n        \"min\": 171.75,\n        \"max\": 502.2,\n        \"num_unique_values\": 33,\n        \"samples\": [\n          496.9,\n          244.6,\n          347.8\n        ],\n        \"semantic_type\": \"\",\n        \"description\": \"\"\n      }\n    },\n    {\n      \"column\": \"52W L \",\n      \"properties\": {\n        \"dtype\": \"number\",\n        \"std\": 25.247660293123467,\n        \"min\": 100.0,\n        \"max\": 203.3,\n        \"num_unique_values\": 24,\n        \"samples\": [\n          123.5,\n          163.8,\n          100.0\n        ],\n        \"semantic_type\": \"\",\n        \"description\": \"\"\n      }\n    },\n    {\n      \"column\": \"VOLUME \",\n      \"properties\": {\n        \"dtype\": \"number\",\n        \"std\": 1473087,\n        \"min\": 29366,\n        \"max\": 15186206,\n        \"num_unique_values\": 495,\n        \"samples\": [\n          528409,\n          854349,\n          665325\n        ],\n        \"semantic_type\": \"\",\n        \"description\": \"\"\n      }\n    },\n    {\n      \"column\": \"VALUE \",\n      \"properties\": {\n        \"dtype\": \"number\",\n        \"std\": 423071723.02260476,\n        \"min\": 14160714.4,\n        \"max\": 6305914084.9,\n        \"num_unique_values\": 496,\n        \"samples\": [\n          242666827.5,\n          167004884.95,\n          151445327.25\n        ],\n        \"semantic_type\": \"\",\n        \"description\": \"\"\n      }\n    },\n    {\n      \"column\": \"No of trades \",\n      \"properties\": {\n        \"dtype\": \"number\",\n        \"std\": 16286,\n        \"min\": 1646,\n        \"max\": 147405,\n        \"num_unique_values\": 489,\n        \"samples\": [\n          48761,\n          8287,\n          62016\n        ],\n        \"semantic_type\": \"\",\n        \"description\": \"\"\n      }\n    }\n  ]\n}"
            }
          },
          "metadata": {},
          "execution_count": 3
        }
      ]
    },
    {
      "cell_type": "code",
      "source": [
        "df.info()"
      ],
      "metadata": {
        "colab": {
          "base_uri": "https://localhost:8080/"
        },
        "id": "Xd9qLgUGUUBG",
        "outputId": "13f2961c-35bc-4742-9c0d-b54e0bb60067"
      },
      "execution_count": null,
      "outputs": [
        {
          "output_type": "stream",
          "name": "stdout",
          "text": [
            "<class 'pandas.core.frame.DataFrame'>\n",
            "DatetimeIndex: 496 entries, 2022-06-20 to 2024-06-19\n",
            "Data columns (total 12 columns):\n",
            " #   Column         Non-Null Count  Dtype  \n",
            "---  ------         --------------  -----  \n",
            " 0   OPEN           496 non-null    float64\n",
            " 1   HIGH           496 non-null    float64\n",
            " 2   LOW            496 non-null    float64\n",
            " 3   PREV. CLOSE    496 non-null    float64\n",
            " 4   ltp            496 non-null    float64\n",
            " 5   close          496 non-null    float64\n",
            " 6   vwap           496 non-null    float64\n",
            " 7   52W H          496 non-null    float64\n",
            " 8   52W L          496 non-null    float64\n",
            " 9   VOLUME         496 non-null    int64  \n",
            " 10  VALUE          496 non-null    float64\n",
            " 11  No of trades   496 non-null    int64  \n",
            "dtypes: float64(10), int64(2)\n",
            "memory usage: 50.4 KB\n"
          ]
        }
      ]
    },
    {
      "cell_type": "code",
      "source": [
        "df['close '].plot()"
      ],
      "metadata": {
        "colab": {
          "base_uri": "https://localhost:8080/",
          "height": 450
        },
        "id": "pdt1EILbUXHd",
        "outputId": "a301b555-ecf7-427d-a112-20f053bfc707"
      },
      "execution_count": null,
      "outputs": [
        {
          "output_type": "execute_result",
          "data": {
            "text/plain": [
              "<Axes: xlabel='Date '>"
            ]
          },
          "metadata": {},
          "execution_count": 5
        },
        {
          "output_type": "display_data",
          "data": {
            "text/plain": [
              "<Figure size 640x480 with 1 Axes>"
            ],
            "image/png": "[encoded data removed]"
          },
          "metadata": {}
        }
      ]
    },
    {
      "cell_type": "code",
      "source": [
        "len(df)"
      ],
      "metadata": {
        "colab": {
          "base_uri": "https://localhost:8080/"
        },
        "id": "U-2G-lMbUeef",
        "outputId": "6101a477-aae3-412f-8b55-478b21838cbb"
      },
      "execution_count": null,
      "outputs": [
        {
          "output_type": "execute_result",
          "data": {
            "text/plain": [
              "496"
            ]
          },
          "metadata": {},
          "execution_count": 6
        }
      ]
    },
    {
      "cell_type": "code",
      "source": [
        "hotel_close = df['close ']"
      ],
      "metadata": {
        "id": "4Zm7izDMUi70"
      },
      "execution_count": null,
      "outputs": []
    },
    {
      "cell_type": "code",
      "source": [
        "hotel_close.reset_index(drop=True,inplace=True)\n",
        "hotel_close.shape"
      ],
      "metadata": {
        "colab": {
          "base_uri": "https://localhost:8080/"
        },
        "id": "US4PXwVtUrl0",
        "outputId": "c547b57f-7bf7-4e97-9b71-424a60e4c97b"
      },
      "execution_count": null,
      "outputs": [
        {
          "output_type": "execute_result",
          "data": {
            "text/plain": [
              "(496,)"
            ]
          },
          "metadata": {},
          "execution_count": 8
        }
      ]
    },
    {
      "cell_type": "code",
      "source": [
        "hotel_close = pd.DataFrame(hotel_close)"
      ],
      "metadata": {
        "id": "tGG5F-4rUxTv"
      },
      "execution_count": null,
      "outputs": []
    },
    {
      "cell_type": "code",
      "source": [
        "train = hotel_close.iloc[:480]\n",
        "test = hotel_close.iloc[480:]"
      ],
      "metadata": {
        "id": "7wN0z1zGU8xp"
      },
      "execution_count": null,
      "outputs": []
    },
    {
      "cell_type": "code",
      "source": [
        "from sklearn.preprocessing import MinMaxScaler"
      ],
      "metadata": {
        "id": "XnRZMJCLVEAh"
      },
      "execution_count": null,
      "outputs": []
    },
    {
      "cell_type": "code",
      "source": [
        "scaler = MinMaxScaler()"
      ],
      "metadata": {
        "id": "xng169xQVHcj"
      },
      "execution_count": null,
      "outputs": []
    },
    {
      "cell_type": "code",
      "source": [
        "scaler.fit(train)"
      ],
      "metadata": {
        "colab": {
          "base_uri": "https://localhost:8080/",
          "height": 74
        },
        "id": "qth33Q_LVz1u",
        "outputId": "230f3e12-96c3-4a77-b4e5-67c090f851d5"
      },
      "execution_count": null,
      "outputs": [
        {
          "output_type": "execute_result",
          "data": {
            "text/plain": [
              "MinMaxScaler()"
            ],
            "text/html": [
              "<style>#sk-container-id-1 {color: black;background-color: white;}#sk-container-id-1 pre{padding: 0;}#sk-container-id-1 div.sk-toggleable {background-color: white;}#sk-container-id-1 label.sk-toggleable__label {cursor: pointer;display: block;width: 100%;margin-bottom: 0;padding: 0.3em;box-sizing: border-box;text-align: center;}#sk-container-id-1 label.sk-toggleable__label-arrow:before {content: \"▸\";float: left;margin-right: 0.25em;color: #696969;}#sk-container-id-1 label.sk-toggleable__label-arrow:hover:before {color: black;}#sk-container-id-1 div.sk-estimator:hover label.sk-toggleable__label-arrow:before {color: black;}#sk-container-id-1 div.sk-toggleable__content {max-height: 0;max-width: 0;overflow: hidden;text-align: left;background-color: #f0f8ff;}#sk-container-id-1 div.sk-toggleable__content pre {margin: 0.2em;color: black;border-radius: 0.25em;background-color: #f0f8ff;}#sk-container-id-1 input.sk-toggleable__control:checked~div.sk-toggleable__content {max-height: 200px;max-width: 100%;overflow: auto;}#sk-container-id-1 input.sk-toggleable__control:checked~label.sk-toggleable__label-arrow:before {content: \"▾\";}#sk-container-id-1 div.sk-estimator input.sk-toggleable__control:checked~label.sk-toggleable__label {background-color: #d4ebff;}#sk-container-id-1 div.sk-label input.sk-toggleable__control:checked~label.sk-toggleable__label {background-color: #d4ebff;}#sk-container-id-1 input.sk-hidden--visually {border: 0;clip: rect(1px 1px 1px 1px);clip: rect(1px, 1px, 1px, 1px);height: 1px;margin: -1px;overflow: hidden;padding: 0;position: absolute;width: 1px;}#sk-container-id-1 div.sk-estimator {font-family: monospace;background-color: #f0f8ff;border: 1px dotted black;border-radius: 0.25em;box-sizing: border-box;margin-bottom: 0.5em;}#sk-container-id-1 div.sk-estimator:hover {background-color: #d4ebff;}#sk-container-id-1 div.sk-parallel-item::after {content: \"\";width: 100%;border-bottom: 1px solid gray;flex-grow: 1;}#sk-container-id-1 div.sk-label:hover label.sk-toggleable__label {background-color: #d4ebff;}#sk-container-id-1 div.sk-serial::before {content: \"\";position: absolute;border-left: 1px solid gray;box-sizing: border-box;top: 0;bottom: 0;left: 50%;z-index: 0;}#sk-container-id-1 div.sk-serial {display: flex;flex-direction: column;align-items: center;background-color: white;padding-right: 0.2em;padding-left: 0.2em;position: relative;}#sk-container-id-1 div.sk-item {position: relative;z-index: 1;}#sk-container-id-1 div.sk-parallel {display: flex;align-items: stretch;justify-content: center;background-color: white;position: relative;}#sk-container-id-1 div.sk-item::before, #sk-container-id-1 div.sk-parallel-item::before {content: \"\";position: absolute;border-left: 1px solid gray;box-sizing: border-box;top: 0;bottom: 0;left: 50%;z-index: -1;}#sk-container-id-1 div.sk-parallel-item {display: flex;flex-direction: column;z-index: 1;position: relative;background-color: white;}#sk-container-id-1 div.sk-parallel-item:first-child::after {align-self: flex-end;width: 50%;}#sk-container-id-1 div.sk-parallel-item:last-child::after {align-self: flex-start;width: 50%;}#sk-container-id-1 div.sk-parallel-item:only-child::after {width: 0;}#sk-container-id-1 div.sk-dashed-wrapped {border: 1px dashed gray;margin: 0 0.4em 0.5em 0.4em;box-sizing: border-box;padding-bottom: 0.4em;background-color: white;}#sk-container-id-1 div.sk-label label {font-family: monospace;font-weight: bold;display: inline-block;line-height: 1.2em;}#sk-container-id-1 div.sk-label-container {text-align: center;}#sk-container-id-1 div.sk-container {/* jupyter's `normalize.less` sets `[hidden] { display: none; }` but bootstrap.min.css set `[hidden] { display: none !important; }` so we also need the `!important` here to be able to override the default hidden behavior on the sphinx rendered scikit-learn.org. See: https://github.com/scikit-learn/scikit-learn/issues/21755 */display: inline-block !important;position: relative;}#sk-container-id-1 div.sk-text-repr-fallback {display: none;}</style><div id=\"sk-container-id-1\" class=\"sk-top-container\"><div class=\"sk-text-repr-fallback\"><pre>MinMaxScaler()</pre><b>In a Jupyter environment, please rerun this cell to show the HTML representation or trust the notebook. <br />On GitHub, the HTML representation is unable to render, please try loading this page with nbviewer.org.</b></div><div class=\"sk-container\" hidden><div class=\"sk-item\"><div class=\"sk-estimator sk-toggleable\"><input class=\"sk-toggleable__control sk-hidden--visually\" id=\"sk-estimator-id-1\" type=\"checkbox\" checked><label for=\"sk-estimator-id-1\" class=\"sk-toggleable__label sk-toggleable__label-arrow\">MinMaxScaler</label><div class=\"sk-toggleable__content\"><pre>MinMaxScaler()</pre></div></div></div></div></div>"
            ]
          },
          "metadata": {},
          "execution_count": 13
        }
      ]
    },
    {
      "cell_type": "code",
      "source": [
        "scaled_train = scaler.transform(train)\n",
        "scaled_test = scaler.transform(test)"
      ],
      "metadata": {
        "id": "W55Ms6OzV34q"
      },
      "execution_count": null,
      "outputs": []
    },
    {
      "cell_type": "markdown",
      "source": [
        "#Create model"
      ],
      "metadata": {
        "id": "BtsoA6oFWGTM"
      }
    },
    {
      "cell_type": "code",
      "source": [
        "from tensorflow.keras.preprocessing.sequence import TimeseriesGenerator"
      ],
      "metadata": {
        "id": "lGS9PogjWI5x"
      },
      "execution_count": null,
      "outputs": []
    },
    {
      "cell_type": "code",
      "source": [
        "test.shape"
      ],
      "metadata": {
        "colab": {
          "base_uri": "https://localhost:8080/"
        },
        "id": "gyMknjfqWQui",
        "outputId": "3915a78a-dd3e-402f-a24f-fc0aa8e1539f"
      },
      "execution_count": null,
      "outputs": [
        {
          "output_type": "execute_result",
          "data": {
            "text/plain": [
              "(16, 1)"
            ]
          },
          "metadata": {},
          "execution_count": 16
        }
      ]
    },
    {
      "cell_type": "code",
      "source": [
        "length = 16\n",
        "batch_size = 32\n",
        "\n",
        "generator = TimeseriesGenerator(scaled_train,scaled_train,\n",
        "                                length = length, batch_size=batch_size)"
      ],
      "metadata": {
        "id": "dPClmROIWSUD"
      },
      "execution_count": null,
      "outputs": []
    },
    {
      "cell_type": "code",
      "source": [
        "from tensorflow.keras.models import Sequential\n",
        "from tensorflow.keras.layers import Dense,SimpleRNN,LSTM,Dropout"
      ],
      "metadata": {
        "id": "fGHH0hgeWYDG"
      },
      "execution_count": null,
      "outputs": []
    },
    {
      "cell_type": "code",
      "source": [
        "n_features = 1"
      ],
      "metadata": {
        "id": "J7BxGiZ0Wah6"
      },
      "execution_count": null,
      "outputs": []
    },
    {
      "cell_type": "code",
      "source": [
        "model = Sequential()\n",
        "\n",
        "model.add(SimpleRNN(30,input_shape=(length,n_features)))\n",
        "\n",
        "model.add(Dropout(rate=0.2))\n",
        "#fully connected layer occupies most of the parameters, and hence, neurons develop co-dependency amongst each other\n",
        "#during training which curbs the individual power of each neuron leading to over-fitting of training data.\n",
        "model.add(Dense(1))\n",
        "\n",
        "model.compile(optimizer='adam', loss='mse')"
      ],
      "metadata": {
        "id": "Sjk19utrWcE7"
      },
      "execution_count": null,
      "outputs": []
    },
    {
      "cell_type": "code",
      "source": [
        "model.fit(generator,epochs=10,shuffle=False)"
      ],
      "metadata": {
        "colab": {
          "base_uri": "https://localhost:8080/"
        },
        "id": "KuPK9bmrLzob",
        "outputId": "4d12bc73-6b2f-4914-a9f3-e6d4723dd4df"
      },
      "execution_count": null,
      "outputs": [
        {
          "output_type": "stream",
          "name": "stdout",
          "text": [
            "Epoch 1/10\n",
            "15/15 [==============================] - 0s 6ms/step - loss: 0.0046\n",
            "Epoch 2/10\n",
            "15/15 [==============================] - 0s 5ms/step - loss: 0.0057\n",
            "Epoch 3/10\n",
            "15/15 [==============================] - 0s 5ms/step - loss: 0.0035\n",
            "Epoch 4/10\n",
            "15/15 [==============================] - 0s 5ms/step - loss: 0.0032\n",
            "Epoch 5/10\n",
            "15/15 [==============================] - 0s 6ms/step - loss: 0.0030\n",
            "Epoch 6/10\n",
            "15/15 [==============================] - 0s 7ms/step - loss: 0.0022\n",
            "Epoch 7/10\n",
            "15/15 [==============================] - 0s 5ms/step - loss: 0.0024\n",
            "Epoch 8/10\n",
            "15/15 [==============================] - 0s 5ms/step - loss: 0.0024\n",
            "Epoch 9/10\n",
            "15/15 [==============================] - 0s 5ms/step - loss: 0.0025\n",
            "Epoch 10/10\n",
            "15/15 [==============================] - 0s 5ms/step - loss: 0.0027\n"
          ]
        },
        {
          "output_type": "execute_result",
          "data": {
            "text/plain": [
              "<keras.src.callbacks.History at 0x7a99cb5b2230>"
            ]
          },
          "metadata": {},
          "execution_count": 81
        }
      ]
    },
    {
      "cell_type": "code",
      "source": [
        "model.summary()"
      ],
      "metadata": {
        "colab": {
          "base_uri": "https://localhost:8080/"
        },
        "id": "6gGPwre7Wueg",
        "outputId": "c46914e1-af0d-4e95-f501-a3297658a8f7"
      },
      "execution_count": null,
      "outputs": [
        {
          "output_type": "stream",
          "name": "stdout",
          "text": [
            "Model: \"sequential_2\"\n",
            "_________________________________________________________________\n",
            " Layer (type)                Output Shape              Param #   \n",
            "=================================================================\n",
            " simple_rnn_2 (SimpleRNN)    (None, 30)                960       \n",
            "                                                                 \n",
            " dropout_2 (Dropout)         (None, 30)                0         \n",
            "                                                                 \n",
            " dense_2 (Dense)             (None, 1)                 31        \n",
            "                                                                 \n",
            "=================================================================\n",
            "Total params: 991 (3.87 KB)\n",
            "Trainable params: 991 (3.87 KB)\n",
            "Non-trainable params: 0 (0.00 Byte)\n",
            "_________________________________________________________________\n"
          ]
        }
      ]
    },
    {
      "cell_type": "code",
      "source": [
        "losses = pd.DataFrame(model.history.history)"
      ],
      "metadata": {
        "id": "ce0K1wFlWz5X"
      },
      "execution_count": null,
      "outputs": []
    },
    {
      "cell_type": "code",
      "source": [
        "losses.plot()"
      ],
      "metadata": {
        "colab": {
          "base_uri": "https://localhost:8080/",
          "height": 447
        },
        "id": "KDXfYQAOW2N3",
        "outputId": "4d0520a6-502f-4084-8f22-9b91cfdd1c1d"
      },
      "execution_count": null,
      "outputs": [
        {
          "output_type": "execute_result",
          "data": {
            "text/plain": [
              "<Axes: >"
            ]
          },
          "metadata": {},
          "execution_count": 84
        },
        {
          "output_type": "display_data",
          "data": {
            "text/plain": [
              "<Figure size 640x480 with 1 Axes>"
            ],
            "image/png": "[encoded data removed]"
          },
          "metadata": {}
        }
      ]
    },
    {
      "cell_type": "markdown",
      "source": [
        "#EVALUATING TEST SET :"
      ],
      "metadata": {
        "id": "W9NzPX5yW8zF"
      }
    },
    {
      "cell_type": "code",
      "source": [
        "first_eval_batch = scaled_train[-length:]"
      ],
      "metadata": {
        "id": "qV9OJJP_W94O"
      },
      "execution_count": null,
      "outputs": []
    },
    {
      "cell_type": "code",
      "source": [
        "first_eval_batch"
      ],
      "metadata": {
        "colab": {
          "base_uri": "https://localhost:8080/"
        },
        "id": "IHbFgtR6XCsC",
        "outputId": "c15e135c-bc90-4cac-8792-808cc2c1dcda"
      },
      "execution_count": null,
      "outputs": [
        {
          "output_type": "execute_result",
          "data": {
            "text/plain": [
              "array([[0.9736344 ],\n",
              "       [1.        ],\n",
              "       [0.9770146 ],\n",
              "       [0.96065441],\n",
              "       [0.98296376],\n",
              "       [0.95173067],\n",
              "       [0.95186587],\n",
              "       [0.96795565],\n",
              "       [0.97174148],\n",
              "       [0.97471606],\n",
              "       [0.9703894 ],\n",
              "       [0.96863169],\n",
              "       [0.96998378],\n",
              "       [0.97349919],\n",
              "       [0.94551109],\n",
              "       [0.86979448]])"
            ]
          },
          "metadata": {},
          "execution_count": 90
        }
      ]
    },
    {
      "cell_type": "code",
      "source": [
        "first_eval_batch = first_eval_batch.reshape((1,length,n_features))"
      ],
      "metadata": {
        "id": "t8i9_SkAXHpz"
      },
      "execution_count": null,
      "outputs": []
    },
    {
      "cell_type": "code",
      "source": [
        "first_eval_batch"
      ],
      "metadata": {
        "colab": {
          "base_uri": "https://localhost:8080/"
        },
        "id": "eknrsleVXJah",
        "outputId": "197ed3e3-1829-4faf-f593-4c86bce80a6c"
      },
      "execution_count": null,
      "outputs": [
        {
          "output_type": "execute_result",
          "data": {
            "text/plain": [
              "array([[[0.9736344 ],\n",
              "        [1.        ],\n",
              "        [0.9770146 ],\n",
              "        [0.96065441],\n",
              "        [0.98296376],\n",
              "        [0.95173067],\n",
              "        [0.95186587],\n",
              "        [0.96795565],\n",
              "        [0.97174148],\n",
              "        [0.97471606],\n",
              "        [0.9703894 ],\n",
              "        [0.96863169],\n",
              "        [0.96998378],\n",
              "        [0.97349919],\n",
              "        [0.94551109],\n",
              "        [0.86979448]]])"
            ]
          },
          "metadata": {},
          "execution_count": 92
        }
      ]
    },
    {
      "cell_type": "code",
      "source": [
        "model.predict(first_eval_batch)"
      ],
      "metadata": {
        "colab": {
          "base_uri": "https://localhost:8080/"
        },
        "id": "eevMk0QVXLRR",
        "outputId": "a62dbc94-2d1f-4ed4-b48e-e2a6a2e47992"
      },
      "execution_count": null,
      "outputs": [
        {
          "output_type": "stream",
          "name": "stdout",
          "text": [
            "1/1 [==============================] - 0s 184ms/step\n"
          ]
        },
        {
          "output_type": "execute_result",
          "data": {
            "text/plain": [
              "array([[0.91994816]], dtype=float32)"
            ]
          },
          "metadata": {},
          "execution_count": 93
        }
      ]
    },
    {
      "cell_type": "code",
      "source": [
        "scaled_test[0]"
      ],
      "metadata": {
        "colab": {
          "base_uri": "https://localhost:8080/"
        },
        "id": "RsFxIoZzXP81",
        "outputId": "b4a782de-9938-460e-847e-dd311cf0b58d"
      },
      "execution_count": null,
      "outputs": [
        {
          "output_type": "execute_result",
          "data": {
            "text/plain": [
              "array([0.83355868])"
            ]
          },
          "metadata": {},
          "execution_count": 94
        }
      ]
    },
    {
      "cell_type": "code",
      "source": [
        "test_predictions = []\n",
        "\n",
        "first_eval_batch = scaled_train[-length:]\n",
        "current_batch = first_eval_batch.reshape((1,length,n_features))\n",
        "\n",
        "for i in range(len(test)):\n",
        "\n",
        "  #get prediction 1 time stamp ahead ([8] is for grabbing just the number instead of (array])\n",
        "  current_pred = model.predict(current_batch)[0]\n",
        "\n",
        "  #store prediction\n",
        "  test_predictions.append(current_pred)\n",
        "\n",
        "  #update batch to now include prediction and drop first value\n",
        "  current_batch = np.append(current_batch[:,1:,:],[[current_pred]],axis=1)"
      ],
      "metadata": {
        "colab": {
          "base_uri": "https://localhost:8080/"
        },
        "id": "SJw3hoJ9XQ8W",
        "outputId": "20ae7e26-f090-454e-a700-4e4e87f9da9a"
      },
      "execution_count": null,
      "outputs": [
        {
          "output_type": "stream",
          "name": "stdout",
          "text": [
            "1/1 [==============================] - 0s 22ms/step\n",
            "1/1 [==============================] - 0s 22ms/step\n",
            "1/1 [==============================] - 0s 27ms/step\n",
            "1/1 [==============================] - 0s 22ms/step\n",
            "1/1 [==============================] - 0s 22ms/step\n",
            "1/1 [==============================] - 0s 25ms/step\n",
            "1/1 [==============================] - 0s 22ms/step\n",
            "1/1 [==============================] - 0s 22ms/step\n",
            "1/1 [==============================] - 0s 22ms/step\n",
            "1/1 [==============================] - 0s 22ms/step\n",
            "1/1 [==============================] - 0s 22ms/step\n",
            "1/1 [==============================] - 0s 22ms/step\n",
            "1/1 [==============================] - 0s 22ms/step\n",
            "1/1 [==============================] - 0s 22ms/step\n",
            "1/1 [==============================] - 0s 30ms/step\n",
            "1/1 [==============================] - 0s 26ms/step\n"
          ]
        }
      ]
    },
    {
      "cell_type": "code",
      "source": [
        "test_predictions"
      ],
      "metadata": {
        "colab": {
          "base_uri": "https://localhost:8080/"
        },
        "id": "XpfN6J7NXXZA",
        "outputId": "4832e385-b2e1-4f4f-ee39-5f83d163eb3a"
      },
      "execution_count": null,
      "outputs": [
        {
          "output_type": "execute_result",
          "data": {
            "text/plain": [
              "[array([0.91994816], dtype=float32),\n",
              " array([0.92631394], dtype=float32),\n",
              " array([0.90581745], dtype=float32),\n",
              " array([0.92002076], dtype=float32),\n",
              " array([0.9266136], dtype=float32),\n",
              " array([0.92547315], dtype=float32),\n",
              " array([0.91996425], dtype=float32),\n",
              " array([0.92315096], dtype=float32),\n",
              " array([0.9120167], dtype=float32),\n",
              " array([0.92866045], dtype=float32),\n",
              " array([0.94232774], dtype=float32),\n",
              " array([0.9277656], dtype=float32),\n",
              " array([0.93669486], dtype=float32),\n",
              " array([0.9534109], dtype=float32),\n",
              " array([0.95175797], dtype=float32),\n",
              " array([0.93689615], dtype=float32)]"
            ]
          },
          "metadata": {},
          "execution_count": 97
        }
      ]
    },
    {
      "cell_type": "code",
      "source": [
        "true_predictions = scaler.inverse_transform(test_predictions)"
      ],
      "metadata": {
        "id": "sod_4Q1WXaew"
      },
      "execution_count": null,
      "outputs": []
    },
    {
      "cell_type": "code",
      "source": [
        "true_predictions"
      ],
      "metadata": {
        "colab": {
          "base_uri": "https://localhost:8080/"
        },
        "id": "DBRTCLl1XdyL",
        "outputId": "748a30f0-5ae6-4841-eeb6-c296022e9cdb"
      },
      "execution_count": null,
      "outputs": [
        {
          "output_type": "execute_result",
          "data": {
            "text/plain": [
              "array([[462.49682981],\n",
              "       [464.8508938 ],\n",
              "       [457.27129267],\n",
              "       [462.52367672],\n",
              "       [464.96171995],\n",
              "       [464.5399722 ],\n",
              "       [462.50278109],\n",
              "       [463.68122376],\n",
              "       [459.56377188],\n",
              "       [465.71863528],\n",
              "       [470.77279744],\n",
              "       [465.38772178],\n",
              "       [468.6897594 ],\n",
              "       [474.8713595 ],\n",
              "       [474.26009637],\n",
              "       [468.76419455]])"
            ]
          },
          "metadata": {},
          "execution_count": 99
        }
      ]
    },
    {
      "cell_type": "code",
      "source": [
        "test.loc[:,'predictions'] = true_predictions"
      ],
      "metadata": {
        "id": "0tmM7PTTXqyV"
      },
      "execution_count": null,
      "outputs": []
    },
    {
      "cell_type": "code",
      "source": [
        "test"
      ],
      "metadata": {
        "colab": {
          "base_uri": "https://localhost:8080/",
          "height": 551
        },
        "id": "LT8p3X0rYFed",
        "outputId": "56861a66-2f87-4edc-ad8e-a12999ac0f39"
      },
      "execution_count": null,
      "outputs": [
        {
          "output_type": "execute_result",
          "data": {
            "text/plain": [
              "     close   predictions\n",
              "480  430.55   462.496830\n",
              "481  436.55   464.850894\n",
              "482  415.95   457.271293\n",
              "483  431.60   462.523677\n",
              "484  422.25   464.961720\n",
              "485  408.45   464.539972\n",
              "486  420.90   462.502781\n",
              "487  418.50   463.681224\n",
              "488  438.70   459.563772\n",
              "489  436.75   465.718635\n",
              "490  428.50   470.772797\n",
              "491  423.95   465.387722\n",
              "492  426.90   468.689759\n",
              "493  442.45   474.871360\n",
              "494  449.05   474.260096\n",
              "495  445.15   468.764195"
            ],
            "text/html": [
              "\n",
              "  <div id=\"df-0a7b8041-7554-4029-8583-ca77fa736880\" class=\"colab-df-container\">\n",
              "    <div>\n",
              "<style scoped>\n",
              "    .dataframe tbody tr th:only-of-type {\n",
              "        vertical-align: middle;\n",
              "    }\n",
              "\n",
              "    .dataframe tbody tr th {\n",
              "        vertical-align: top;\n",
              "    }\n",
              "\n",
              "    .dataframe thead th {\n",
              "        text-align: right;\n",
              "    }\n",
              "</style>\n",
              "<table border=\"1\" class=\"dataframe\">\n",
              "  <thead>\n",
              "    <tr style=\"text-align: right;\">\n",
              "      <th></th>\n",
              "      <th>close</th>\n",
              "      <th>predictions</th>\n",
              "    </tr>\n",
              "  </thead>\n",
              "  <tbody>\n",
              "    <tr>\n",
              "      <th>480</th>\n",
              "      <td>430.55</td>\n",
              "      <td>462.496830</td>\n",
              "    </tr>\n",
              "    <tr>\n",
              "      <th>481</th>\n",
              "      <td>436.55</td>\n",
              "      <td>464.850894</td>\n",
              "    </tr>\n",
              "    <tr>\n",
              "      <th>482</th>\n",
              "      <td>415.95</td>\n",
              "      <td>457.271293</td>\n",
              "    </tr>\n",
              "    <tr>\n",
              "      <th>483</th>\n",
              "      <td>431.60</td>\n",
              "      <td>462.523677</td>\n",
              "    </tr>\n",
              "    <tr>\n",
              "      <th>484</th>\n",
              "      <td>422.25</td>\n",
              "      <td>464.961720</td>\n",
              "    </tr>\n",
              "    <tr>\n",
              "      <th>485</th>\n",
              "      <td>408.45</td>\n",
              "      <td>464.539972</td>\n",
              "    </tr>\n",
              "    <tr>\n",
              "      <th>486</th>\n",
              "      <td>420.90</td>\n",
              "      <td>462.502781</td>\n",
              "    </tr>\n",
              "    <tr>\n",
              "      <th>487</th>\n",
              "      <td>418.50</td>\n",
              "      <td>463.681224</td>\n",
              "    </tr>\n",
              "    <tr>\n",
              "      <th>488</th>\n",
              "      <td>438.70</td>\n",
              "      <td>459.563772</td>\n",
              "    </tr>\n",
              "    <tr>\n",
              "      <th>489</th>\n",
              "      <td>436.75</td>\n",
              "      <td>465.718635</td>\n",
              "    </tr>\n",
              "    <tr>\n",
              "      <th>490</th>\n",
              "      <td>428.50</td>\n",
              "      <td>470.772797</td>\n",
              "    </tr>\n",
              "    <tr>\n",
              "      <th>491</th>\n",
              "      <td>423.95</td>\n",
              "      <td>465.387722</td>\n",
              "    </tr>\n",
              "    <tr>\n",
              "      <th>492</th>\n",
              "      <td>426.90</td>\n",
              "      <td>468.689759</td>\n",
              "    </tr>\n",
              "    <tr>\n",
              "      <th>493</th>\n",
              "      <td>442.45</td>\n",
              "      <td>474.871360</td>\n",
              "    </tr>\n",
              "    <tr>\n",
              "      <th>494</th>\n",
              "      <td>449.05</td>\n",
              "      <td>474.260096</td>\n",
              "    </tr>\n",
              "    <tr>\n",
              "      <th>495</th>\n",
              "      <td>445.15</td>\n",
              "      <td>468.764195</td>\n",
              "    </tr>\n",
              "  </tbody>\n",
              "</table>\n",
              "</div>\n",
              "    <div class=\"colab-df-buttons\">\n",
              "\n",
              "  <div class=\"colab-df-container\">\n",
              "    <button class=\"colab-df-convert\" onclick=\"convertToInteractive('df-0a7b8041-7554-4029-8583-ca77fa736880')\"\n",
              "            title=\"Convert this dataframe to an interactive table.\"\n",
              "            style=\"display:none;\">\n",
              "\n",
              "  <svg xmlns=\"http://www.w3.org/2000/svg\" height=\"24px\" viewBox=\"0 -960 960 960\">\n",
              "    <path d=\"M120-120v-720h720v720H120Zm60-500h600v-160H180v160Zm220 220h160v-160H400v160Zm0 220h160v-160H400v160ZM180-400h160v-160H180v160Zm440 0h160v-160H620v160ZM180-180h160v-160H180v160Zm440 0h160v-160H620v160Z\"/>\n",
              "  </svg>\n",
              "    </button>\n",
              "\n",
              "  <style>\n",
              "    .colab-df-container {\n",
              "      display:flex;\n",
              "      gap: 12px;\n",
              "    }\n",
              "\n",
              "    .colab-df-convert {\n",
              "      background-color: #E8F0FE;\n",
              "      border: none;\n",
              "      border-radius: 50%;\n",
              "      cursor: pointer;\n",
              "      display: none;\n",
              "      fill: #1967D2;\n",
              "      height: 32px;\n",
              "      padding: 0 0 0 0;\n",
              "      width: 32px;\n",
              "    }\n",
              "\n",
              "    .colab-df-convert:hover {\n",
              "      background-color: #E2EBFA;\n",
              "      box-shadow: 0px 1px 2px rgba(60, 64, 67, 0.3), 0px 1px 3px 1px rgba(60, 64, 67, 0.15);\n",
              "      fill: #174EA6;\n",
              "    }\n",
              "\n",
              "    .colab-df-buttons div {\n",
              "      margin-bottom: 4px;\n",
              "    }\n",
              "\n",
              "    [theme=dark] .colab-df-convert {\n",
              "      background-color: #3B4455;\n",
              "      fill: #D2E3FC;\n",
              "    }\n",
              "\n",
              "    [theme=dark] .colab-df-convert:hover {\n",
              "      background-color: #434B5C;\n",
              "      box-shadow: 0px 1px 3px 1px rgba(0, 0, 0, 0.15);\n",
              "      filter: drop-shadow(0px 1px 2px rgba(0, 0, 0, 0.3));\n",
              "      fill: #FFFFFF;\n",
              "    }\n",
              "  </style>\n",
              "\n",
              "    <script>\n",
              "      const buttonEl =\n",
              "        document.querySelector('#df-0a7b8041-7554-4029-8583-ca77fa736880 button.colab-df-convert');\n",
              "      buttonEl.style.display =\n",
              "        google.colab.kernel.accessAllowed ? 'block' : 'none';\n",
              "\n",
              "      async function convertToInteractive(key) {\n",
              "        const element = document.querySelector('#df-0a7b8041-7554-4029-8583-ca77fa736880');\n",
              "        const dataTable =\n",
              "          await google.colab.kernel.invokeFunction('convertToInteractive',\n",
              "                                                    [key], {});\n",
              "        if (!dataTable) return;\n",
              "\n",
              "        const docLinkHtml = 'Like what you see? Visit the ' +\n",
              "          '<a target=\"_blank\" href=https://colab.research.google.com/notebooks/data_table.ipynb>data table notebook</a>'\n",
              "          + ' to learn more about interactive tables.';\n",
              "        element.innerHTML = '';\n",
              "        dataTable['output_type'] = 'display_data';\n",
              "        await google.colab.output.renderOutput(dataTable, element);\n",
              "        const docLink = document.createElement('div');\n",
              "        docLink.innerHTML = docLinkHtml;\n",
              "        element.appendChild(docLink);\n",
              "      }\n",
              "    </script>\n",
              "  </div>\n",
              "\n",
              "\n",
              "<div id=\"df-a185055a-398c-4114-8413-c68d2f219200\">\n",
              "  <button class=\"colab-df-quickchart\" onclick=\"quickchart('df-a185055a-398c-4114-8413-c68d2f219200')\"\n",
              "            title=\"Suggest charts\"\n",
              "            style=\"display:none;\">\n",
              "\n",
              "<svg xmlns=\"http://www.w3.org/2000/svg\" height=\"24px\"viewBox=\"0 0 24 24\"\n",
              "     width=\"24px\">\n",
              "    <g>\n",
              "        <path d=\"M19 3H5c-1.1 0-2 .9-2 2v14c0 1.1.9 2 2 2h14c1.1 0 2-.9 2-2V5c0-1.1-.9-2-2-2zM9 17H7v-7h2v7zm4 0h-2V7h2v10zm4 0h-2v-4h2v4z\"/>\n",
              "    </g>\n",
              "</svg>\n",
              "  </button>\n",
              "\n",
              "<style>\n",
              "  .colab-df-quickchart {\n",
              "      --bg-color: #E8F0FE;\n",
              "      --fill-color: #1967D2;\n",
              "      --hover-bg-color: #E2EBFA;\n",
              "      --hover-fill-color: #174EA6;\n",
              "      --disabled-fill-color: #AAA;\n",
              "      --disabled-bg-color: #DDD;\n",
              "  }\n",
              "\n",
              "  [theme=dark] .colab-df-quickchart {\n",
              "      --bg-color: #3B4455;\n",
              "      --fill-color: #D2E3FC;\n",
              "      --hover-bg-color: #434B5C;\n",
              "      --hover-fill-color: #FFFFFF;\n",
              "      --disabled-bg-color: #3B4455;\n",
              "      --disabled-fill-color: #666;\n",
              "  }\n",
              "\n",
              "  .colab-df-quickchart {\n",
              "    background-color: var(--bg-color);\n",
              "    border: none;\n",
              "    border-radius: 50%;\n",
              "    cursor: pointer;\n",
              "    display: none;\n",
              "    fill: var(--fill-color);\n",
              "    height: 32px;\n",
              "    padding: 0;\n",
              "    width: 32px;\n",
              "  }\n",
              "\n",
              "  .colab-df-quickchart:hover {\n",
              "    background-color: var(--hover-bg-color);\n",
              "    box-shadow: 0 1px 2px rgba(60, 64, 67, 0.3), 0 1px 3px 1px rgba(60, 64, 67, 0.15);\n",
              "    fill: var(--button-hover-fill-color);\n",
              "  }\n",
              "\n",
              "  .colab-df-quickchart-complete:disabled,\n",
              "  .colab-df-quickchart-complete:disabled:hover {\n",
              "    background-color: var(--disabled-bg-color);\n",
              "    fill: var(--disabled-fill-color);\n",
              "    box-shadow: none;\n",
              "  }\n",
              "\n",
              "  .colab-df-spinner {\n",
              "    border: 2px solid var(--fill-color);\n",
              "    border-color: transparent;\n",
              "    border-bottom-color: var(--fill-color);\n",
              "    animation:\n",
              "      spin 1s steps(1) infinite;\n",
              "  }\n",
              "\n",
              "  @keyframes spin {\n",
              "    0% {\n",
              "      border-color: transparent;\n",
              "      border-bottom-color: var(--fill-color);\n",
              "      border-left-color: var(--fill-color);\n",
              "    }\n",
              "    20% {\n",
              "      border-color: transparent;\n",
              "      border-left-color: var(--fill-color);\n",
              "      border-top-color: var(--fill-color);\n",
              "    }\n",
              "    30% {\n",
              "      border-color: transparent;\n",
              "      border-left-color: var(--fill-color);\n",
              "      border-top-color: var(--fill-color);\n",
              "      border-right-color: var(--fill-color);\n",
              "    }\n",
              "    40% {\n",
              "      border-color: transparent;\n",
              "      border-right-color: var(--fill-color);\n",
              "      border-top-color: var(--fill-color);\n",
              "    }\n",
              "    60% {\n",
              "      border-color: transparent;\n",
              "      border-right-color: var(--fill-color);\n",
              "    }\n",
              "    80% {\n",
              "      border-color: transparent;\n",
              "      border-right-color: var(--fill-color);\n",
              "      border-bottom-color: var(--fill-color);\n",
              "    }\n",
              "    90% {\n",
              "      border-color: transparent;\n",
              "      border-bottom-color: var(--fill-color);\n",
              "    }\n",
              "  }\n",
              "</style>\n",
              "\n",
              "  <script>\n",
              "    async function quickchart(key) {\n",
              "      const quickchartButtonEl =\n",
              "        document.querySelector('#' + key + ' button');\n",
              "      quickchartButtonEl.disabled = true;  // To prevent multiple clicks.\n",
              "      quickchartButtonEl.classList.add('colab-df-spinner');\n",
              "      try {\n",
              "        const charts = await google.colab.kernel.invokeFunction(\n",
              "            'suggestCharts', [key], {});\n",
              "      } catch (error) {\n",
              "        console.error('Error during call to suggestCharts:', error);\n",
              "      }\n",
              "      quickchartButtonEl.classList.remove('colab-df-spinner');\n",
              "      quickchartButtonEl.classList.add('colab-df-quickchart-complete');\n",
              "    }\n",
              "    (() => {\n",
              "      let quickchartButtonEl =\n",
              "        document.querySelector('#df-a185055a-398c-4114-8413-c68d2f219200 button');\n",
              "      quickchartButtonEl.style.display =\n",
              "        google.colab.kernel.accessAllowed ? 'block' : 'none';\n",
              "    })();\n",
              "  </script>\n",
              "</div>\n",
              "\n",
              "  <div id=\"id_d9978042-0dd2-43a4-b4a1-bf65a0a05acb\">\n",
              "    <style>\n",
              "      .colab-df-generate {\n",
              "        background-color: #E8F0FE;\n",
              "        border: none;\n",
              "        border-radius: 50%;\n",
              "        cursor: pointer;\n",
              "        display: none;\n",
              "        fill: #1967D2;\n",
              "        height: 32px;\n",
              "        padding: 0 0 0 0;\n",
              "        width: 32px;\n",
              "      }\n",
              "\n",
              "      .colab-df-generate:hover {\n",
              "        background-color: #E2EBFA;\n",
              "        box-shadow: 0px 1px 2px rgba(60, 64, 67, 0.3), 0px 1px 3px 1px rgba(60, 64, 67, 0.15);\n",
              "        fill: #174EA6;\n",
              "      }\n",
              "\n",
              "      [theme=dark] .colab-df-generate {\n",
              "        background-color: #3B4455;\n",
              "        fill: #D2E3FC;\n",
              "      }\n",
              "\n",
              "      [theme=dark] .colab-df-generate:hover {\n",
              "        background-color: #434B5C;\n",
              "        box-shadow: 0px 1px 3px 1px rgba(0, 0, 0, 0.15);\n",
              "        filter: drop-shadow(0px 1px 2px rgba(0, 0, 0, 0.3));\n",
              "        fill: #FFFFFF;\n",
              "      }\n",
              "    </style>\n",
              "    <button class=\"colab-df-generate\" onclick=\"generateWithVariable('test')\"\n",
              "            title=\"Generate code using this dataframe.\"\n",
              "            style=\"display:none;\">\n",
              "\n",
              "  <svg xmlns=\"http://www.w3.org/2000/svg\" height=\"24px\"viewBox=\"0 0 24 24\"\n",
              "       width=\"24px\">\n",
              "    <path d=\"M7,19H8.4L18.45,9,17,7.55,7,17.6ZM5,21V16.75L18.45,3.32a2,2,0,0,1,2.83,0l1.4,1.43a1.91,1.91,0,0,1,.58,1.4,1.91,1.91,0,0,1-.58,1.4L9.25,21ZM18.45,9,17,7.55Zm-12,3A5.31,5.31,0,0,0,4.9,8.1,5.31,5.31,0,0,0,1,6.5,5.31,5.31,0,0,0,4.9,4.9,5.31,5.31,0,0,0,6.5,1,5.31,5.31,0,0,0,8.1,4.9,5.31,5.31,0,0,0,12,6.5,5.46,5.46,0,0,0,6.5,12Z\"/>\n",
              "  </svg>\n",
              "    </button>\n",
              "    <script>\n",
              "      (() => {\n",
              "      const buttonEl =\n",
              "        document.querySelector('#id_d9978042-0dd2-43a4-b4a1-bf65a0a05acb button.colab-df-generate');\n",
              "      buttonEl.style.display =\n",
              "        google.colab.kernel.accessAllowed ? 'block' : 'none';\n",
              "\n",
              "      buttonEl.onclick = () => {\n",
              "        google.colab.notebook.generateWithVariable('test');\n",
              "      }\n",
              "      })();\n",
              "    </script>\n",
              "  </div>\n",
              "\n",
              "    </div>\n",
              "  </div>\n"
            ],
            "application/vnd.google.colaboratory.intrinsic+json": {
              "type": "dataframe",
              "variable_name": "test",
              "summary": "{\n  \"name\": \"test\",\n  \"rows\": 16,\n  \"fields\": [\n    {\n      \"column\": \"close \",\n      \"properties\": {\n        \"dtype\": \"number\",\n        \"std\": 11.251466571074193,\n        \"min\": 408.45,\n        \"max\": 449.05,\n        \"num_unique_values\": 16,\n        \"samples\": [\n          430.55,\n          436.55,\n          408.45\n        ],\n        \"semantic_type\": \"\",\n        \"description\": \"\"\n      }\n    },\n    {\n      \"column\": \"predictions\",\n      \"properties\": {\n        \"dtype\": \"number\",\n        \"std\": 4.8131480319073985,\n        \"min\": 457.2712926745414,\n        \"max\": 474.87135950326916,\n        \"num_unique_values\": 16,\n        \"samples\": [\n          462.4968298077583,\n          464.8508937954902,\n          464.5399721980094\n        ],\n        \"semantic_type\": \"\",\n        \"description\": \"\"\n      }\n    }\n  ]\n}"
            }
          },
          "metadata": {},
          "execution_count": 101
        }
      ]
    },
    {
      "cell_type": "code",
      "source": [
        "test.plot(figsize=(12,8))\n",
        "hotel_close.plot()"
      ],
      "metadata": {
        "colab": {
          "base_uri": "https://localhost:8080/",
          "height": 1000
        },
        "id": "5OfP-aGDYGrU",
        "outputId": "6e073af2-8375-4a0c-bf77-299a438b2dd7"
      },
      "execution_count": null,
      "outputs": [
        {
          "output_type": "execute_result",
          "data": {
            "text/plain": [
              "<Axes: >"
            ]
          },
          "metadata": {},
          "execution_count": 103
        },
        {
          "output_type": "display_data",
          "data": {
            "text/plain": [
              "<Figure size 1200x800 with 1 Axes>"
            ],
            "image/png": "[encoded data removed]"
          },
          "metadata": {}
        },
        {
          "output_type": "display_data",
          "data": {
            "text/plain": [
              "<Figure size 640x480 with 1 Axes>"
            ],
            "image/png": "[encoded data removed]"
          },
          "metadata": {}
        }
      ]
    },
    {
      "cell_type": "markdown",
      "source": [
        "#Full Model"
      ],
      "metadata": {
        "id": "G4eLPc14MmUB"
      }
    },
    {
      "cell_type": "code",
      "source": [
        "full_scaler = MinMaxScaler()\n",
        "scaled_full_data = full_scaler.fit_transform(hotel_close)"
      ],
      "metadata": {
        "id": "ANieqNs2MpDK"
      },
      "execution_count": null,
      "outputs": []
    },
    {
      "cell_type": "code",
      "source": [
        "generator = TimeseriesGenerator(scaled_full_data,scaled_full_data,\n",
        "                                length = length, batch_size=32)"
      ],
      "metadata": {
        "id": "aBaolKmfMvZW"
      },
      "execution_count": null,
      "outputs": []
    },
    {
      "cell_type": "code",
      "source": [
        "model = Sequential()\n",
        "\n",
        "model.add(SimpleRNN(30,input_shape=(length,n_features)))\n",
        "\n",
        "model.add(Dropout(rate=0.2))\n",
        "\n",
        "model.add(Dense(1))\n",
        "\n",
        "model.compile(optimizer='adam', loss='mse')"
      ],
      "metadata": {
        "id": "DrQNiotUMxz2"
      },
      "execution_count": null,
      "outputs": []
    },
    {
      "cell_type": "code",
      "source": [
        "model.summary()"
      ],
      "metadata": {
        "colab": {
          "base_uri": "https://localhost:8080/"
        },
        "id": "tros5nnFM2jR",
        "outputId": "e42e85a8-e141-422a-efcc-e9558de9208a"
      },
      "execution_count": null,
      "outputs": [
        {
          "output_type": "stream",
          "name": "stdout",
          "text": [
            "Model: \"sequential_3\"\n",
            "_________________________________________________________________\n",
            " Layer (type)                Output Shape              Param #   \n",
            "=================================================================\n",
            " simple_rnn_3 (SimpleRNN)    (None, 30)                960       \n",
            "                                                                 \n",
            " dropout_3 (Dropout)         (None, 30)                0         \n",
            "                                                                 \n",
            " dense_3 (Dense)             (None, 1)                 31        \n",
            "                                                                 \n",
            "=================================================================\n",
            "Total params: 991 (3.87 KB)\n",
            "Trainable params: 991 (3.87 KB)\n",
            "Non-trainable params: 0 (0.00 Byte)\n",
            "_________________________________________________________________\n"
          ]
        }
      ]
    },
    {
      "cell_type": "code",
      "source": [
        "model.fit_generator(generator,epochs=10,shuffle=False)"
      ],
      "metadata": {
        "colab": {
          "base_uri": "https://localhost:8080/"
        },
        "id": "rh8PELJLM4Md",
        "outputId": "ca2a1777-adaa-4f97-b4b4-f07157432cf1"
      },
      "execution_count": null,
      "outputs": [
        {
          "output_type": "stream",
          "name": "stdout",
          "text": [
            "Epoch 1/10\n"
          ]
        },
        {
          "output_type": "stream",
          "name": "stderr",
          "text": [
            "<ipython-input-109-b5005ef83afd>:1: UserWarning: `Model.fit_generator` is deprecated and will be removed in a future version. Please use `Model.fit`, which supports generators.\n",
            "  model.fit_generator(generator,epochs=10,shuffle=False)\n"
          ]
        },
        {
          "output_type": "stream",
          "name": "stdout",
          "text": [
            "15/15 [==============================] - 2s 5ms/step - loss: 0.1069\n",
            "Epoch 2/10\n",
            "15/15 [==============================] - 0s 5ms/step - loss: 0.0425\n",
            "Epoch 3/10\n",
            "15/15 [==============================] - 0s 5ms/step - loss: 0.0318\n",
            "Epoch 4/10\n",
            "15/15 [==============================] - 0s 6ms/step - loss: 0.0273\n",
            "Epoch 5/10\n",
            "15/15 [==============================] - 0s 7ms/step - loss: 0.0215\n",
            "Epoch 6/10\n",
            "15/15 [==============================] - 0s 5ms/step - loss: 0.0091\n",
            "Epoch 7/10\n",
            "15/15 [==============================] - 0s 6ms/step - loss: 0.0119\n",
            "Epoch 8/10\n",
            "15/15 [==============================] - 0s 5ms/step - loss: 0.0082\n",
            "Epoch 9/10\n",
            "15/15 [==============================] - 0s 5ms/step - loss: 0.0089\n",
            "Epoch 10/10\n",
            "15/15 [==============================] - 0s 6ms/step - loss: 0.0063\n"
          ]
        },
        {
          "output_type": "execute_result",
          "data": {
            "text/plain": [
              "<keras.src.callbacks.History at 0x7a99c2ac5870>"
            ]
          },
          "metadata": {},
          "execution_count": 109
        }
      ]
    },
    {
      "cell_type": "code",
      "source": [
        "full_model_losses = pd.DataFrame(model.history.history)\n",
        "full_model_losses.plot()"
      ],
      "metadata": {
        "colab": {
          "base_uri": "https://localhost:8080/",
          "height": 447
        },
        "id": "_rnWzXQiNCPg",
        "outputId": "49705403-3c03-4272-9c89-55fce557cdb8"
      },
      "execution_count": null,
      "outputs": [
        {
          "output_type": "execute_result",
          "data": {
            "text/plain": [
              "<Axes: >"
            ]
          },
          "metadata": {},
          "execution_count": 111
        },
        {
          "output_type": "display_data",
          "data": {
            "text/plain": [
              "<Figure size 640x480 with 1 Axes>"
            ],
            "image/png": "[encoded data removed]"
          },
          "metadata": {}
        }
      ]
    },
    {
      "cell_type": "code",
      "source": [
        "forecast = []\n",
        "\n",
        "first_eval_batch = scaled_train[-length:]\n",
        "current_batch = first_eval_batch.reshape((1,length,1))\n",
        "\n",
        "for i in range(20):\n",
        "\n",
        "  #get prediction 1 time stamp ahead ([8] is for grabbing just the number instead of (array])\n",
        "  current_pred = model.predict(current_batch)[0]\n",
        "\n",
        "  #store prediction\n",
        "  forecast.append(current_pred)\n",
        "\n",
        "  #update batch to now include prediction and drop first value\n",
        "  current_batch = np.append(current_batch[:,1:,:],[[current_pred]],axis=1)"
      ],
      "metadata": {
        "colab": {
          "base_uri": "https://localhost:8080/"
        },
        "id": "qYFTnAKGNHiD",
        "outputId": "22263876-1c06-4de1-d5ca-eb6a8965cbd9"
      },
      "execution_count": null,
      "outputs": [
        {
          "output_type": "stream",
          "name": "stdout",
          "text": [
            "1/1 [==============================] - 0s 169ms/step\n",
            "1/1 [==============================] - 0s 24ms/step\n",
            "1/1 [==============================] - 0s 22ms/step\n",
            "1/1 [==============================] - 0s 22ms/step\n",
            "1/1 [==============================] - 0s 22ms/step\n",
            "1/1 [==============================] - 0s 22ms/step\n",
            "1/1 [==============================] - 0s 22ms/step\n",
            "1/1 [==============================] - 0s 22ms/step\n",
            "1/1 [==============================] - 0s 22ms/step\n",
            "1/1 [==============================] - 0s 26ms/step\n",
            "1/1 [==============================] - 0s 23ms/step\n",
            "1/1 [==============================] - 0s 23ms/step\n",
            "1/1 [==============================] - 0s 31ms/step\n",
            "1/1 [==============================] - 0s 23ms/step\n",
            "1/1 [==============================] - 0s 22ms/step\n",
            "1/1 [==============================] - 0s 26ms/step\n",
            "1/1 [==============================] - 0s 21ms/step\n",
            "1/1 [==============================] - 0s 23ms/step\n",
            "1/1 [==============================] - 0s 22ms/step\n",
            "1/1 [==============================] - 0s 23ms/step\n"
          ]
        }
      ]
    },
    {
      "cell_type": "code",
      "source": [
        "forecast = scaler.inverse_transform(forecast)\n",
        "forecast"
      ],
      "metadata": {
        "colab": {
          "base_uri": "https://localhost:8080/"
        },
        "id": "HJCKS-wnNPXG",
        "outputId": "503ee3ab-fca7-448a-cbd1-e0ebd8056866"
      },
      "execution_count": null,
      "outputs": [
        {
          "output_type": "execute_result",
          "data": {
            "text/plain": [
              "array([[462.55748883],\n",
              "       [463.19006639],\n",
              "       [451.15500242],\n",
              "       [448.26485987],\n",
              "       [457.45300525],\n",
              "       [447.85382442],\n",
              "       [443.36064806],\n",
              "       [449.73301992],\n",
              "       [441.03704584],\n",
              "       [436.60217003],\n",
              "       [445.54900181],\n",
              "       [444.37150694],\n",
              "       [429.35460654],\n",
              "       [445.22207787],\n",
              "       [444.68628585],\n",
              "       [425.76338054],\n",
              "       [435.28680371],\n",
              "       [444.00451101],\n",
              "       [429.35509146],\n",
              "       [426.27735118]])"
            ]
          },
          "metadata": {},
          "execution_count": 113
        }
      ]
    },
    {
      "cell_type": "code",
      "source": [
        "forecast.flatten()"
      ],
      "metadata": {
        "colab": {
          "base_uri": "https://localhost:8080/"
        },
        "id": "VwXzd_6eNSd2",
        "outputId": "e229dcd7-3494-41ac-ff85-717bb74bf403"
      },
      "execution_count": null,
      "outputs": [
        {
          "output_type": "execute_result",
          "data": {
            "text/plain": [
              "array([462.55748883, 463.19006639, 451.15500242, 448.26485987,\n",
              "       457.45300525, 447.85382442, 443.36064806, 449.73301992,\n",
              "       441.03704584, 436.60217003, 445.54900181, 444.37150694,\n",
              "       429.35460654, 445.22207787, 444.68628585, 425.76338054,\n",
              "       435.28680371, 444.00451101, 429.35509146, 426.27735118])"
            ]
          },
          "metadata": {},
          "execution_count": 114
        }
      ]
    },
    {
      "cell_type": "code",
      "source": [
        "df_array = np.array(hotel_close)\n",
        "df_array"
      ],
      "metadata": {
        "colab": {
          "base_uri": "https://localhost:8080/"
        },
        "id": "5bM4QLr3NWww",
        "outputId": "8c79462d-d16c-478e-f1b3-abca40a3e8f1"
      },
      "execution_count": null,
      "outputs": [
        {
          "output_type": "execute_result",
          "data": {
            "text/plain": [
              "array([[122.3 ],\n",
              "       [126.15],\n",
              "       [126.65],\n",
              "       [125.9 ],\n",
              "       [125.45],\n",
              "       [125.15],\n",
              "       [125.15],\n",
              "       [126.05],\n",
              "       [124.9 ],\n",
              "       [126.7 ],\n",
              "       [126.6 ],\n",
              "       [127.8 ],\n",
              "       [127.5 ],\n",
              "       [130.4 ],\n",
              "       [133.75],\n",
              "       [134.25],\n",
              "       [133.3 ],\n",
              "       [130.65],\n",
              "       [130.05],\n",
              "       [130.5 ],\n",
              "       [132.45],\n",
              "       [130.3 ],\n",
              "       [131.6 ],\n",
              "       [138.2 ],\n",
              "       [140.25],\n",
              "       [144.1 ],\n",
              "       [155.  ],\n",
              "       [149.8 ],\n",
              "       [152.6 ],\n",
              "       [151.15],\n",
              "       [149.4 ],\n",
              "       [153.9 ],\n",
              "       [153.35],\n",
              "       [153.7 ],\n",
              "       [156.05],\n",
              "       [153.05],\n",
              "       [155.4 ],\n",
              "       [153.6 ],\n",
              "       [152.05],\n",
              "       [156.2 ],\n",
              "       [157.35],\n",
              "       [156.9 ],\n",
              "       [154.2 ],\n",
              "       [155.05],\n",
              "       [155.  ],\n",
              "       [159.75],\n",
              "       [160.  ],\n",
              "       [161.  ],\n",
              "       [156.5 ],\n",
              "       [160.3 ],\n",
              "       [159.6 ],\n",
              "       [187.95],\n",
              "       [184.15],\n",
              "       [180.2 ],\n",
              "       [201.1 ],\n",
              "       [195.05],\n",
              "       [188.7 ],\n",
              "       [187.  ],\n",
              "       [184.6 ],\n",
              "       [183.65],\n",
              "       [181.4 ],\n",
              "       [184.4 ],\n",
              "       [183.45],\n",
              "       [188.05],\n",
              "       [196.2 ],\n",
              "       [194.95],\n",
              "       [198.85],\n",
              "       [194.8 ],\n",
              "       [186.9 ],\n",
              "       [188.75],\n",
              "       [184.85],\n",
              "       [187.3 ],\n",
              "       [195.95],\n",
              "       [193.5 ],\n",
              "       [190.25],\n",
              "       [191.05],\n",
              "       [187.3 ],\n",
              "       [185.3 ],\n",
              "       [182.9 ],\n",
              "       [184.55],\n",
              "       [182.25],\n",
              "       [184.5 ],\n",
              "       [187.8 ],\n",
              "       [185.8 ],\n",
              "       [183.85],\n",
              "       [190.2 ],\n",
              "       [192.4 ],\n",
              "       [190.25],\n",
              "       [189.35],\n",
              "       [189.  ],\n",
              "       [193.85],\n",
              "       [191.55],\n",
              "       [192.4 ],\n",
              "       [188.45],\n",
              "       [186.8 ],\n",
              "       [185.4 ],\n",
              "       [186.15],\n",
              "       [182.5 ],\n",
              "       [184.65],\n",
              "       [178.05],\n",
              "       [174.05],\n",
              "       [173.75],\n",
              "       [169.  ],\n",
              "       [165.95],\n",
              "       [172.4 ],\n",
              "       [171.35],\n",
              "       [171.85],\n",
              "       [171.8 ],\n",
              "       [177.  ],\n",
              "       [175.15],\n",
              "       [173.95],\n",
              "       [178.9 ],\n",
              "       [175.95],\n",
              "       [175.95],\n",
              "       [177.3 ],\n",
              "       [179.85],\n",
              "       [182.  ],\n",
              "       [184.65],\n",
              "       [183.35],\n",
              "       [183.45],\n",
              "       [183.35],\n",
              "       [181.15],\n",
              "       [181.5 ],\n",
              "       [179.35],\n",
              "       [175.6 ],\n",
              "       [178.05],\n",
              "       [169.65],\n",
              "       [165.55],\n",
              "       [158.5 ],\n",
              "       [163.55],\n",
              "       [162.1 ],\n",
              "       [173.1 ],\n",
              "       [168.45],\n",
              "       [177.3 ],\n",
              "       [176.75],\n",
              "       [179.15],\n",
              "       [176.15],\n",
              "       [175.75],\n",
              "       [176.95],\n",
              "       [177.3 ],\n",
              "       [177.9 ],\n",
              "       [175.25],\n",
              "       [174.45],\n",
              "       [174.85],\n",
              "       [175.45],\n",
              "       [172.25],\n",
              "       [170.25],\n",
              "       [168.75],\n",
              "       [168.1 ],\n",
              "       [165.9 ],\n",
              "       [164.1 ],\n",
              "       [164.65],\n",
              "       [160.65],\n",
              "       [157.05],\n",
              "       [163.  ],\n",
              "       [175.45],\n",
              "       [170.2 ],\n",
              "       [166.95],\n",
              "       [166.7 ],\n",
              "       [166.85],\n",
              "       [166.85],\n",
              "       [169.65],\n",
              "       [171.85],\n",
              "       [168.45],\n",
              "       [163.6 ],\n",
              "       [164.6 ],\n",
              "       [167.35],\n",
              "       [163.85],\n",
              "       [161.75],\n",
              "       [161.75],\n",
              "       [156.6 ],\n",
              "       [164.6 ],\n",
              "       [162.5 ],\n",
              "       [158.85],\n",
              "       [157.25],\n",
              "       [159.8 ],\n",
              "       [158.2 ],\n",
              "       [160.55],\n",
              "       [161.05],\n",
              "       [170.2 ],\n",
              "       [167.05],\n",
              "       [165.95],\n",
              "       [162.05],\n",
              "       [168.4 ],\n",
              "       [165.8 ],\n",
              "       [163.9 ],\n",
              "       [162.8 ],\n",
              "       [161.45],\n",
              "       [160.5 ],\n",
              "       [159.6 ],\n",
              "       [158.  ],\n",
              "       [155.85],\n",
              "       [152.2 ],\n",
              "       [156.5 ],\n",
              "       [164.65],\n",
              "       [165.65],\n",
              "       [163.95],\n",
              "       [167.35],\n",
              "       [163.85],\n",
              "       [165.95],\n",
              "       [167.35],\n",
              "       [170.25],\n",
              "       [171.  ],\n",
              "       [173.4 ],\n",
              "       [172.75],\n",
              "       [169.55],\n",
              "       [171.45],\n",
              "       [170.75],\n",
              "       [170.3 ],\n",
              "       [169.85],\n",
              "       [172.2 ],\n",
              "       [171.5 ],\n",
              "       [188.75],\n",
              "       [188.6 ],\n",
              "       [190.5 ],\n",
              "       [187.3 ],\n",
              "       [185.45],\n",
              "       [189.1 ],\n",
              "       [188.5 ],\n",
              "       [188.9 ],\n",
              "       [190.45],\n",
              "       [189.4 ],\n",
              "       [191.6 ],\n",
              "       [194.7 ],\n",
              "       [193.25],\n",
              "       [207.65],\n",
              "       [205.25],\n",
              "       [201.25],\n",
              "       [200.75],\n",
              "       [199.95],\n",
              "       [204.  ],\n",
              "       [204.95],\n",
              "       [205.3 ],\n",
              "       [207.  ],\n",
              "       [208.8 ],\n",
              "       [216.1 ],\n",
              "       [214.45],\n",
              "       [216.15],\n",
              "       [215.05],\n",
              "       [213.7 ],\n",
              "       [208.9 ],\n",
              "       [207.55],\n",
              "       [210.15],\n",
              "       [213.85],\n",
              "       [212.45],\n",
              "       [212.65],\n",
              "       [212.55],\n",
              "       [213.  ],\n",
              "       [212.25],\n",
              "       [213.3 ],\n",
              "       [208.65],\n",
              "       [207.5 ],\n",
              "       [210.95],\n",
              "       [207.95],\n",
              "       [208.  ],\n",
              "       [212.  ],\n",
              "       [210.3 ],\n",
              "       [209.55],\n",
              "       [208.45],\n",
              "       [207.85],\n",
              "       [206.15],\n",
              "       [205.6 ],\n",
              "       [211.7 ],\n",
              "       [214.45],\n",
              "       [210.3 ],\n",
              "       [212.35],\n",
              "       [215.85],\n",
              "       [214.05],\n",
              "       [218.25],\n",
              "       [219.4 ],\n",
              "       [218.5 ],\n",
              "       [218.1 ],\n",
              "       [215.05],\n",
              "       [214.2 ],\n",
              "       [211.7 ],\n",
              "       [214.55],\n",
              "       [212.  ],\n",
              "       [209.75],\n",
              "       [208.45],\n",
              "       [210.65],\n",
              "       [209.35],\n",
              "       [209.9 ],\n",
              "       [209.8 ],\n",
              "       [213.2 ],\n",
              "       [210.2 ],\n",
              "       [210.  ],\n",
              "       [206.05],\n",
              "       [211.35],\n",
              "       [214.95],\n",
              "       [224.2 ],\n",
              "       [236.65],\n",
              "       [237.9 ],\n",
              "       [239.75],\n",
              "       [237.45],\n",
              "       [235.2 ],\n",
              "       [232.45],\n",
              "       [232.5 ],\n",
              "       [242.05],\n",
              "       [248.85],\n",
              "       [272.25],\n",
              "       [251.9 ],\n",
              "       [249.65],\n",
              "       [255.6 ],\n",
              "       [253.9 ],\n",
              "       [251.3 ],\n",
              "       [253.  ],\n",
              "       [238.65],\n",
              "       [240.05],\n",
              "       [244.65],\n",
              "       [236.65],\n",
              "       [233.05],\n",
              "       [228.6 ],\n",
              "       [228.65],\n",
              "       [233.35],\n",
              "       [227.6 ],\n",
              "       [225.1 ],\n",
              "       [225.55],\n",
              "       [223.6 ],\n",
              "       [223.05],\n",
              "       [232.2 ],\n",
              "       [232.6 ],\n",
              "       [233.2 ],\n",
              "       [236.55],\n",
              "       [228.65],\n",
              "       [232.65],\n",
              "       [231.15],\n",
              "       [232.5 ],\n",
              "       [230.2 ],\n",
              "       [229.  ],\n",
              "       [229.05],\n",
              "       [229.1 ],\n",
              "       [225.55],\n",
              "       [223.2 ],\n",
              "       [216.85],\n",
              "       [213.8 ],\n",
              "       [213.15],\n",
              "       [211.35],\n",
              "       [227.9 ],\n",
              "       [224.95],\n",
              "       [225.95],\n",
              "       [224.  ],\n",
              "       [222.6 ],\n",
              "       [233.55],\n",
              "       [238.05],\n",
              "       [241.25],\n",
              "       [233.1 ],\n",
              "       [230.85],\n",
              "       [234.6 ],\n",
              "       [231.35],\n",
              "       [234.85],\n",
              "       [232.05],\n",
              "       [232.5 ],\n",
              "       [243.3 ],\n",
              "       [240.05],\n",
              "       [236.95],\n",
              "       [238.2 ],\n",
              "       [234.6 ],\n",
              "       [239.  ],\n",
              "       [235.45],\n",
              "       [237.9 ],\n",
              "       [236.2 ],\n",
              "       [238.85],\n",
              "       [239.95],\n",
              "       [239.15],\n",
              "       [249.4 ],\n",
              "       [247.35],\n",
              "       [248.65],\n",
              "       [244.75],\n",
              "       [241.55],\n",
              "       [242.6 ],\n",
              "       [243.75],\n",
              "       [245.15],\n",
              "       [243.25],\n",
              "       [228.5 ],\n",
              "       [234.7 ],\n",
              "       [237.55],\n",
              "       [241.35],\n",
              "       [241.95],\n",
              "       [243.2 ],\n",
              "       [249.5 ],\n",
              "       [250.85],\n",
              "       [265.55],\n",
              "       [269.05],\n",
              "       [280.5 ],\n",
              "       [279.2 ],\n",
              "       [271.3 ],\n",
              "       [275.15],\n",
              "       [275.9 ],\n",
              "       [278.25],\n",
              "       [279.7 ],\n",
              "       [288.95],\n",
              "       [289.25],\n",
              "       [283.35],\n",
              "       [285.7 ],\n",
              "       [288.45],\n",
              "       [293.45],\n",
              "       [295.45],\n",
              "       [308.7 ],\n",
              "       [310.45],\n",
              "       [323.4 ],\n",
              "       [319.35],\n",
              "       [327.85],\n",
              "       [327.3 ],\n",
              "       [339.  ],\n",
              "       [344.25],\n",
              "       [355.45],\n",
              "       [425.  ],\n",
              "       [414.15],\n",
              "       [407.5 ],\n",
              "       [391.1 ],\n",
              "       [388.3 ],\n",
              "       [391.9 ],\n",
              "       [409.55],\n",
              "       [394.7 ],\n",
              "       [404.8 ],\n",
              "       [398.3 ],\n",
              "       [400.6 ],\n",
              "       [397.4 ],\n",
              "       [407.35],\n",
              "       [404.85],\n",
              "       [398.35],\n",
              "       [393.95],\n",
              "       [403.95],\n",
              "       [406.1 ],\n",
              "       [404.6 ],\n",
              "       [413.65],\n",
              "       [426.9 ],\n",
              "       [428.05],\n",
              "       [424.85],\n",
              "       [414.5 ],\n",
              "       [406.25],\n",
              "       [385.95],\n",
              "       [420.  ],\n",
              "       [417.05],\n",
              "       [405.05],\n",
              "       [398.55],\n",
              "       [416.25],\n",
              "       [419.15],\n",
              "       [421.75],\n",
              "       [442.5 ],\n",
              "       [439.8 ],\n",
              "       [449.5 ],\n",
              "       [474.9 ],\n",
              "       [464.45],\n",
              "       [470.2 ],\n",
              "       [471.45],\n",
              "       [479.25],\n",
              "       [484.4 ],\n",
              "       [490.65],\n",
              "       [487.8 ],\n",
              "       [475.35],\n",
              "       [462.05],\n",
              "       [467.2 ],\n",
              "       [455.4 ],\n",
              "       [453.35],\n",
              "       [478.2 ],\n",
              "       [468.05],\n",
              "       [454.7 ],\n",
              "       [456.05],\n",
              "       [474.9 ],\n",
              "       [474.55],\n",
              "       [478.35],\n",
              "       [467.15],\n",
              "       [477.2 ],\n",
              "       [482.35],\n",
              "       [492.1 ],\n",
              "       [483.6 ],\n",
              "       [477.55],\n",
              "       [485.8 ],\n",
              "       [474.25],\n",
              "       [474.3 ],\n",
              "       [480.25],\n",
              "       [481.65],\n",
              "       [482.75],\n",
              "       [481.15],\n",
              "       [480.5 ],\n",
              "       [481.  ],\n",
              "       [482.3 ],\n",
              "       [471.95],\n",
              "       [443.95],\n",
              "       [430.55],\n",
              "       [436.55],\n",
              "       [415.95],\n",
              "       [431.6 ],\n",
              "       [422.25],\n",
              "       [408.45],\n",
              "       [420.9 ],\n",
              "       [418.5 ],\n",
              "       [438.7 ],\n",
              "       [436.75],\n",
              "       [428.5 ],\n",
              "       [423.95],\n",
              "       [426.9 ],\n",
              "       [442.45],\n",
              "       [449.05],\n",
              "       [445.15]])"
            ]
          },
          "metadata": {},
          "execution_count": 116
        }
      ]
    },
    {
      "cell_type": "code",
      "source": [
        "full_data = pd.DataFrame(np.concatenate((df_array.flatten(), forecast.flatten())))"
      ],
      "metadata": {
        "id": "T2yMC_ZENaZi"
      },
      "execution_count": null,
      "outputs": []
    },
    {
      "cell_type": "code",
      "source": [
        "full_data.plot()"
      ],
      "metadata": {
        "id": "onbM_1bnNf6y",
        "outputId": "f9986d4a-da56-4436-c885-7fd86cfc34b4",
        "colab": {
          "base_uri": "https://localhost:8080/",
          "height": 447
        }
      },
      "execution_count": null,
      "outputs": [
        {
          "output_type": "execute_result",
          "data": {
            "text/plain": [
              "<Axes: >"
            ]
          },
          "metadata": {},
          "execution_count": 118
        },
        {
          "output_type": "display_data",
          "data": {
            "text/plain": [
              "<Figure size 640x480 with 1 Axes>"
            ],
            "image/png": "[encoded data removed]"
          },
          "metadata": {}
        }
      ]
    }
  ]
}