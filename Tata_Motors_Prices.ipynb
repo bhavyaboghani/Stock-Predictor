{
  "nbformat": 4,
  "nbformat_minor": 0,
  "metadata": {
    "colab": {
      "provenance": []
    },
    "kernelspec": {
      "name": "python3",
      "display_name": "Python 3"
    },
    "language_info": {
      "name": "python"
    }
  },
  "cells": [
    {
      "cell_type": "code",
      "execution_count": null,
      "metadata": {
        "id": "oSBpa2T2Cq1t"
      },
      "outputs": [],
      "source": [
        "import pandas as pd\n",
        "import numpy as np\n",
        "import matplotlib.pyplot as plt"
      ]
    },
    {
      "cell_type": "code",
      "source": [
        "df = pd.read_excel('Tata_Motors_Prices.xlsx',parse_dates=True,index_col='Date ')"
      ],
      "metadata": {
        "id": "T8hb2xwcDRMk"
      },
      "execution_count": null,
      "outputs": []
    },
    {
      "cell_type": "code",
      "source": [
        "df.head()"
      ],
      "metadata": {
        "colab": {
          "base_uri": "https://localhost:8080/",
          "height": 237
        },
        "id": "ZCQ-_69UDVuI",
        "outputId": "c8d3bee6-d65f-4ee4-fd39-0b0280002b53"
      },
      "execution_count": null,
      "outputs": [
        {
          "output_type": "execute_result",
          "data": {
            "text/plain": [
              "             OPEN    HIGH     LOW   PREV. CLOSE     ltp   close    vwap   \\\n",
              "Date                                                                       \n",
              "2022-06-20  390.55  392.95  376.65        388.95  384.75   382.7  382.70   \n",
              "2022-06-21  389.00  399.00  387.00        382.70  398.10   397.6  394.92   \n",
              "2022-06-22  396.40  397.00  390.50        397.60  392.80   393.1  393.64   \n",
              "2022-06-23  396.30  409.90  394.55        393.10  407.15   407.2  403.60   \n",
              "2022-06-24  410.00  412.85  406.15        407.20  408.75   409.3  409.69   \n",
              "\n",
              "            52W H   52W L    VOLUME         VALUE   No of trades   \n",
              "Date                                                               \n",
              "2022-06-20   536.7  268.45  17049013  6.524742e+09         215323  \n",
              "2022-06-21   536.7  268.45  14743366  5.822391e+09         148497  \n",
              "2022-06-22   536.7  268.45  12426604  4.891632e+09         120100  \n",
              "2022-06-23   536.7  268.45  26514004  1.070105e+10         284438  \n",
              "2022-06-24   536.7  268.45  14806456  6.066055e+09         168066  "
            ],
            "text/html": [
              "\n",
              "  <div id=\"df-54771625-2eaf-4072-a02b-1216288112ea\" class=\"colab-df-container\">\n",
              "    <div>\n",
              "<style scoped>\n",
              "    .dataframe tbody tr th:only-of-type {\n",
              "        vertical-align: middle;\n",
              "    }\n",
              "\n",
              "    .dataframe tbody tr th {\n",
              "        vertical-align: top;\n",
              "    }\n",
              "\n",
              "    .dataframe thead th {\n",
              "        text-align: right;\n",
              "    }\n",
              "</style>\n",
              "<table border=\"1\" class=\"dataframe\">\n",
              "  <thead>\n",
              "    <tr style=\"text-align: right;\">\n",
              "      <th></th>\n",
              "      <th>OPEN</th>\n",
              "      <th>HIGH</th>\n",
              "      <th>LOW</th>\n",
              "      <th>PREV. CLOSE</th>\n",
              "      <th>ltp</th>\n",
              "      <th>close</th>\n",
              "      <th>vwap</th>\n",
              "      <th>52W H</th>\n",
              "      <th>52W L</th>\n",
              "      <th>VOLUME</th>\n",
              "      <th>VALUE</th>\n",
              "      <th>No of trades</th>\n",
              "    </tr>\n",
              "    <tr>\n",
              "      <th>Date</th>\n",
              "      <th></th>\n",
              "      <th></th>\n",
              "      <th></th>\n",
              "      <th></th>\n",
              "      <th></th>\n",
              "      <th></th>\n",
              "      <th></th>\n",
              "      <th></th>\n",
              "      <th></th>\n",
              "      <th></th>\n",
              "      <th></th>\n",
              "      <th></th>\n",
              "    </tr>\n",
              "  </thead>\n",
              "  <tbody>\n",
              "    <tr>\n",
              "      <th>2022-06-20</th>\n",
              "      <td>390.55</td>\n",
              "      <td>392.95</td>\n",
              "      <td>376.65</td>\n",
              "      <td>388.95</td>\n",
              "      <td>384.75</td>\n",
              "      <td>382.7</td>\n",
              "      <td>382.70</td>\n",
              "      <td>536.7</td>\n",
              "      <td>268.45</td>\n",
              "      <td>17049013</td>\n",
              "      <td>6.524742e+09</td>\n",
              "      <td>215323</td>\n",
              "    </tr>\n",
              "    <tr>\n",
              "      <th>2022-06-21</th>\n",
              "      <td>389.00</td>\n",
              "      <td>399.00</td>\n",
              "      <td>387.00</td>\n",
              "      <td>382.70</td>\n",
              "      <td>398.10</td>\n",
              "      <td>397.6</td>\n",
              "      <td>394.92</td>\n",
              "      <td>536.7</td>\n",
              "      <td>268.45</td>\n",
              "      <td>14743366</td>\n",
              "      <td>5.822391e+09</td>\n",
              "      <td>148497</td>\n",
              "    </tr>\n",
              "    <tr>\n",
              "      <th>2022-06-22</th>\n",
              "      <td>396.40</td>\n",
              "      <td>397.00</td>\n",
              "      <td>390.50</td>\n",
              "      <td>397.60</td>\n",
              "      <td>392.80</td>\n",
              "      <td>393.1</td>\n",
              "      <td>393.64</td>\n",
              "      <td>536.7</td>\n",
              "      <td>268.45</td>\n",
              "      <td>12426604</td>\n",
              "      <td>4.891632e+09</td>\n",
              "      <td>120100</td>\n",
              "    </tr>\n",
              "    <tr>\n",
              "      <th>2022-06-23</th>\n",
              "      <td>396.30</td>\n",
              "      <td>409.90</td>\n",
              "      <td>394.55</td>\n",
              "      <td>393.10</td>\n",
              "      <td>407.15</td>\n",
              "      <td>407.2</td>\n",
              "      <td>403.60</td>\n",
              "      <td>536.7</td>\n",
              "      <td>268.45</td>\n",
              "      <td>26514004</td>\n",
              "      <td>1.070105e+10</td>\n",
              "      <td>284438</td>\n",
              "    </tr>\n",
              "    <tr>\n",
              "      <th>2022-06-24</th>\n",
              "      <td>410.00</td>\n",
              "      <td>412.85</td>\n",
              "      <td>406.15</td>\n",
              "      <td>407.20</td>\n",
              "      <td>408.75</td>\n",
              "      <td>409.3</td>\n",
              "      <td>409.69</td>\n",
              "      <td>536.7</td>\n",
              "      <td>268.45</td>\n",
              "      <td>14806456</td>\n",
              "      <td>6.066055e+09</td>\n",
              "      <td>168066</td>\n",
              "    </tr>\n",
              "  </tbody>\n",
              "</table>\n",
              "</div>\n",
              "    <div class=\"colab-df-buttons\">\n",
              "\n",
              "  <div class=\"colab-df-container\">\n",
              "    <button class=\"colab-df-convert\" onclick=\"convertToInteractive('df-54771625-2eaf-4072-a02b-1216288112ea')\"\n",
              "            title=\"Convert this dataframe to an interactive table.\"\n",
              "            style=\"display:none;\">\n",
              "\n",
              "  <svg xmlns=\"http://www.w3.org/2000/svg\" height=\"24px\" viewBox=\"0 -960 960 960\">\n",
              "    <path d=\"M120-120v-720h720v720H120Zm60-500h600v-160H180v160Zm220 220h160v-160H400v160Zm0 220h160v-160H400v160ZM180-400h160v-160H180v160Zm440 0h160v-160H620v160ZM180-180h160v-160H180v160Zm440 0h160v-160H620v160Z\"/>\n",
              "  </svg>\n",
              "    </button>\n",
              "\n",
              "  <style>\n",
              "    .colab-df-container {\n",
              "      display:flex;\n",
              "      gap: 12px;\n",
              "    }\n",
              "\n",
              "    .colab-df-convert {\n",
              "      background-color: #E8F0FE;\n",
              "      border: none;\n",
              "      border-radius: 50%;\n",
              "      cursor: pointer;\n",
              "      display: none;\n",
              "      fill: #1967D2;\n",
              "      height: 32px;\n",
              "      padding: 0 0 0 0;\n",
              "      width: 32px;\n",
              "    }\n",
              "\n",
              "    .colab-df-convert:hover {\n",
              "      background-color: #E2EBFA;\n",
              "      box-shadow: 0px 1px 2px rgba(60, 64, 67, 0.3), 0px 1px 3px 1px rgba(60, 64, 67, 0.15);\n",
              "      fill: #174EA6;\n",
              "    }\n",
              "\n",
              "    .colab-df-buttons div {\n",
              "      margin-bottom: 4px;\n",
              "    }\n",
              "\n",
              "    [theme=dark] .colab-df-convert {\n",
              "      background-color: #3B4455;\n",
              "      fill: #D2E3FC;\n",
              "    }\n",
              "\n",
              "    [theme=dark] .colab-df-convert:hover {\n",
              "      background-color: #434B5C;\n",
              "      box-shadow: 0px 1px 3px 1px rgba(0, 0, 0, 0.15);\n",
              "      filter: drop-shadow(0px 1px 2px rgba(0, 0, 0, 0.3));\n",
              "      fill: #FFFFFF;\n",
              "    }\n",
              "  </style>\n",
              "\n",
              "    <script>\n",
              "      const buttonEl =\n",
              "        document.querySelector('#df-54771625-2eaf-4072-a02b-1216288112ea button.colab-df-convert');\n",
              "      buttonEl.style.display =\n",
              "        google.colab.kernel.accessAllowed ? 'block' : 'none';\n",
              "\n",
              "      async function convertToInteractive(key) {\n",
              "        const element = document.querySelector('#df-54771625-2eaf-4072-a02b-1216288112ea');\n",
              "        const dataTable =\n",
              "          await google.colab.kernel.invokeFunction('convertToInteractive',\n",
              "                                                    [key], {});\n",
              "        if (!dataTable) return;\n",
              "\n",
              "        const docLinkHtml = 'Like what you see? Visit the ' +\n",
              "          '<a target=\"_blank\" href=https://colab.research.google.com/notebooks/data_table.ipynb>data table notebook</a>'\n",
              "          + ' to learn more about interactive tables.';\n",
              "        element.innerHTML = '';\n",
              "        dataTable['output_type'] = 'display_data';\n",
              "        await google.colab.output.renderOutput(dataTable, element);\n",
              "        const docLink = document.createElement('div');\n",
              "        docLink.innerHTML = docLinkHtml;\n",
              "        element.appendChild(docLink);\n",
              "      }\n",
              "    </script>\n",
              "  </div>\n",
              "\n",
              "\n",
              "<div id=\"df-59d5472e-3475-4f1b-a7a4-0b26f3faa142\">\n",
              "  <button class=\"colab-df-quickchart\" onclick=\"quickchart('df-59d5472e-3475-4f1b-a7a4-0b26f3faa142')\"\n",
              "            title=\"Suggest charts\"\n",
              "            style=\"display:none;\">\n",
              "\n",
              "<svg xmlns=\"http://www.w3.org/2000/svg\" height=\"24px\"viewBox=\"0 0 24 24\"\n",
              "     width=\"24px\">\n",
              "    <g>\n",
              "        <path d=\"M19 3H5c-1.1 0-2 .9-2 2v14c0 1.1.9 2 2 2h14c1.1 0 2-.9 2-2V5c0-1.1-.9-2-2-2zM9 17H7v-7h2v7zm4 0h-2V7h2v10zm4 0h-2v-4h2v4z\"/>\n",
              "    </g>\n",
              "</svg>\n",
              "  </button>\n",
              "\n",
              "<style>\n",
              "  .colab-df-quickchart {\n",
              "      --bg-color: #E8F0FE;\n",
              "      --fill-color: #1967D2;\n",
              "      --hover-bg-color: #E2EBFA;\n",
              "      --hover-fill-color: #174EA6;\n",
              "      --disabled-fill-color: #AAA;\n",
              "      --disabled-bg-color: #DDD;\n",
              "  }\n",
              "\n",
              "  [theme=dark] .colab-df-quickchart {\n",
              "      --bg-color: #3B4455;\n",
              "      --fill-color: #D2E3FC;\n",
              "      --hover-bg-color: #434B5C;\n",
              "      --hover-fill-color: #FFFFFF;\n",
              "      --disabled-bg-color: #3B4455;\n",
              "      --disabled-fill-color: #666;\n",
              "  }\n",
              "\n",
              "  .colab-df-quickchart {\n",
              "    background-color: var(--bg-color);\n",
              "    border: none;\n",
              "    border-radius: 50%;\n",
              "    cursor: pointer;\n",
              "    display: none;\n",
              "    fill: var(--fill-color);\n",
              "    height: 32px;\n",
              "    padding: 0;\n",
              "    width: 32px;\n",
              "  }\n",
              "\n",
              "  .colab-df-quickchart:hover {\n",
              "    background-color: var(--hover-bg-color);\n",
              "    box-shadow: 0 1px 2px rgba(60, 64, 67, 0.3), 0 1px 3px 1px rgba(60, 64, 67, 0.15);\n",
              "    fill: var(--button-hover-fill-color);\n",
              "  }\n",
              "\n",
              "  .colab-df-quickchart-complete:disabled,\n",
              "  .colab-df-quickchart-complete:disabled:hover {\n",
              "    background-color: var(--disabled-bg-color);\n",
              "    fill: var(--disabled-fill-color);\n",
              "    box-shadow: none;\n",
              "  }\n",
              "\n",
              "  .colab-df-spinner {\n",
              "    border: 2px solid var(--fill-color);\n",
              "    border-color: transparent;\n",
              "    border-bottom-color: var(--fill-color);\n",
              "    animation:\n",
              "      spin 1s steps(1) infinite;\n",
              "  }\n",
              "\n",
              "  @keyframes spin {\n",
              "    0% {\n",
              "      border-color: transparent;\n",
              "      border-bottom-color: var(--fill-color);\n",
              "      border-left-color: var(--fill-color);\n",
              "    }\n",
              "    20% {\n",
              "      border-color: transparent;\n",
              "      border-left-color: var(--fill-color);\n",
              "      border-top-color: var(--fill-color);\n",
              "    }\n",
              "    30% {\n",
              "      border-color: transparent;\n",
              "      border-left-color: var(--fill-color);\n",
              "      border-top-color: var(--fill-color);\n",
              "      border-right-color: var(--fill-color);\n",
              "    }\n",
              "    40% {\n",
              "      border-color: transparent;\n",
              "      border-right-color: var(--fill-color);\n",
              "      border-top-color: var(--fill-color);\n",
              "    }\n",
              "    60% {\n",
              "      border-color: transparent;\n",
              "      border-right-color: var(--fill-color);\n",
              "    }\n",
              "    80% {\n",
              "      border-color: transparent;\n",
              "      border-right-color: var(--fill-color);\n",
              "      border-bottom-color: var(--fill-color);\n",
              "    }\n",
              "    90% {\n",
              "      border-color: transparent;\n",
              "      border-bottom-color: var(--fill-color);\n",
              "    }\n",
              "  }\n",
              "</style>\n",
              "\n",
              "  <script>\n",
              "    async function quickchart(key) {\n",
              "      const quickchartButtonEl =\n",
              "        document.querySelector('#' + key + ' button');\n",
              "      quickchartButtonEl.disabled = true;  // To prevent multiple clicks.\n",
              "      quickchartButtonEl.classList.add('colab-df-spinner');\n",
              "      try {\n",
              "        const charts = await google.colab.kernel.invokeFunction(\n",
              "            'suggestCharts', [key], {});\n",
              "      } catch (error) {\n",
              "        console.error('Error during call to suggestCharts:', error);\n",
              "      }\n",
              "      quickchartButtonEl.classList.remove('colab-df-spinner');\n",
              "      quickchartButtonEl.classList.add('colab-df-quickchart-complete');\n",
              "    }\n",
              "    (() => {\n",
              "      let quickchartButtonEl =\n",
              "        document.querySelector('#df-59d5472e-3475-4f1b-a7a4-0b26f3faa142 button');\n",
              "      quickchartButtonEl.style.display =\n",
              "        google.colab.kernel.accessAllowed ? 'block' : 'none';\n",
              "    })();\n",
              "  </script>\n",
              "</div>\n",
              "\n",
              "    </div>\n",
              "  </div>\n"
            ],
            "application/vnd.google.colaboratory.intrinsic+json": {
              "type": "dataframe",
              "variable_name": "df",
              "summary": "{\n  \"name\": \"df\",\n  \"rows\": 496,\n  \"fields\": [\n    {\n      \"column\": \"Date \",\n      \"properties\": {\n        \"dtype\": \"date\",\n        \"min\": \"2022-06-20 00:00:00\",\n        \"max\": \"2024-06-19 00:00:00\",\n        \"num_unique_values\": 496,\n        \"samples\": [\n          \"2024-04-24 00:00:00\",\n          \"2022-10-04 00:00:00\",\n          \"2023-05-26 00:00:00\"\n        ],\n        \"semantic_type\": \"\",\n        \"description\": \"\"\n      }\n    },\n    {\n      \"column\": \"OPEN \",\n      \"properties\": {\n        \"dtype\": \"number\",\n        \"std\": 205.9947242814922,\n        \"min\": 380.25,\n        \"max\": 1038.0,\n        \"num_unique_values\": 443,\n        \"samples\": [\n          703.0,\n          438.0,\n          406.0\n        ],\n        \"semantic_type\": \"\",\n        \"description\": \"\"\n      }\n    },\n    {\n      \"column\": \"HIGH \",\n      \"properties\": {\n        \"dtype\": \"number\",\n        \"std\": 207.90209214712388,\n        \"min\": 388.4,\n        \"max\": 1065.6,\n        \"num_unique_values\": 472,\n        \"samples\": [\n          452.55,\n          408.95,\n          473.95\n        ],\n        \"semantic_type\": \"\",\n        \"description\": \"\"\n      }\n    },\n    {\n      \"column\": \"LOW \",\n      \"properties\": {\n        \"dtype\": \"number\",\n        \"std\": 202.869726392574,\n        \"min\": 375.2,\n        \"max\": 1030.4,\n        \"num_unique_values\": 478,\n        \"samples\": [\n          931.2,\n          456.45,\n          385.0\n        ],\n        \"semantic_type\": \"\",\n        \"description\": \"\"\n      }\n    },\n    {\n      \"column\": \"PREV. CLOSE \",\n      \"properties\": {\n        \"dtype\": \"number\",\n        \"std\": 204.94105204433706,\n        \"min\": 378.35,\n        \"max\": 1046.65,\n        \"num_unique_values\": 484,\n        \"samples\": [\n          1039.3,\n          903.9,\n          412.55\n        ],\n        \"semantic_type\": \"\",\n        \"description\": \"\"\n      }\n    },\n    {\n      \"column\": \"ltp \",\n      \"properties\": {\n        \"dtype\": \"number\",\n        \"std\": 205.58410010105683,\n        \"min\": 378.5,\n        \"max\": 1047.0,\n        \"num_unique_values\": 473,\n        \"samples\": [\n          442.35,\n          396.55,\n          466.7\n        ],\n        \"semantic_type\": \"\",\n        \"description\": \"\"\n      }\n    },\n    {\n      \"column\": \"close \",\n      \"properties\": {\n        \"dtype\": \"number\",\n        \"std\": 205.3527764473365,\n        \"min\": 378.35,\n        \"max\": 1046.65,\n        \"num_unique_values\": 484,\n        \"samples\": [\n          1028.0,\n          929.95,\n          416.1\n        ],\n        \"semantic_type\": \"\",\n        \"description\": \"\"\n      }\n    },\n    {\n      \"column\": \"vwap \",\n      \"properties\": {\n        \"dtype\": \"number\",\n        \"std\": 205.4777322568349,\n        \"min\": 381.94,\n        \"max\": 1041.7,\n        \"num_unique_values\": 494,\n        \"samples\": [\n          991.57,\n          406.5,\n          631.47\n        ],\n        \"semantic_type\": \"\",\n        \"description\": \"\"\n      }\n    },\n    {\n      \"column\": \"52W H \",\n      \"properties\": {\n        \"dtype\": \"number\",\n        \"std\": 194.93289639683718,\n        \"min\": 494.4,\n        \"max\": 1065.6,\n        \"num_unique_values\": 62,\n        \"samples\": [\n          827.6,\n          965.0,\n          536.7\n        ],\n        \"semantic_type\": \"\",\n        \"description\": \"\"\n      }\n    },\n    {\n      \"column\": \"52W L \",\n      \"properties\": {\n        \"dtype\": \"number\",\n        \"std\": 56.60163298761814,\n        \"min\": 268.45,\n        \"max\": 557.7,\n        \"num_unique_values\": 23,\n        \"samples\": [\n          468.3,\n          385.0,\n          268.45\n        ],\n        \"semantic_type\": \"\",\n        \"description\": \"\"\n      }\n    },\n    {\n      \"column\": \"VOLUME \",\n      \"properties\": {\n        \"dtype\": \"number\",\n        \"std\": 7697449,\n        \"min\": 1783565,\n        \"max\": 63360467,\n        \"num_unique_values\": 496,\n        \"samples\": [\n          4671450,\n          12761425,\n          8360570\n        ],\n        \"semantic_type\": \"\",\n        \"description\": \"\"\n      }\n    },\n    {\n      \"column\": \"VALUE \",\n      \"properties\": {\n        \"dtype\": \"number\",\n        \"std\": 5591058723.921413,\n        \"min\": 1154337705.8,\n        \"max\": 61860832911.3,\n        \"num_unique_values\": 496,\n        \"samples\": [\n          4632068971.7,\n          5187541978.5,\n          4320440656.1\n        ],\n        \"semantic_type\": \"\",\n        \"description\": \"\"\n      }\n    },\n    {\n      \"column\": \"No of trades \",\n      \"properties\": {\n        \"dtype\": \"number\",\n        \"std\": 115353,\n        \"min\": 44527,\n        \"max\": 1249124,\n        \"num_unique_values\": 496,\n        \"samples\": [\n          132021,\n          130059,\n          117543\n        ],\n        \"semantic_type\": \"\",\n        \"description\": \"\"\n      }\n    }\n  ]\n}"
            }
          },
          "metadata": {},
          "execution_count": 8
        }
      ]
    },
    {
      "cell_type": "code",
      "source": [
        "df.info()"
      ],
      "metadata": {
        "colab": {
          "base_uri": "https://localhost:8080/"
        },
        "id": "OQ14Mq7mDZej",
        "outputId": "461eb0f7-052e-496c-fd92-b55583fd3edb"
      },
      "execution_count": null,
      "outputs": [
        {
          "output_type": "stream",
          "name": "stdout",
          "text": [
            "<class 'pandas.core.frame.DataFrame'>\n",
            "DatetimeIndex: 496 entries, 2022-06-20 to 2024-06-19\n",
            "Data columns (total 12 columns):\n",
            " #   Column         Non-Null Count  Dtype  \n",
            "---  ------         --------------  -----  \n",
            " 0   OPEN           496 non-null    float64\n",
            " 1   HIGH           496 non-null    float64\n",
            " 2   LOW            496 non-null    float64\n",
            " 3   PREV. CLOSE    496 non-null    float64\n",
            " 4   ltp            496 non-null    float64\n",
            " 5   close          496 non-null    float64\n",
            " 6   vwap           496 non-null    float64\n",
            " 7   52W H          496 non-null    float64\n",
            " 8   52W L          496 non-null    float64\n",
            " 9   VOLUME         496 non-null    int64  \n",
            " 10  VALUE          496 non-null    float64\n",
            " 11  No of trades   496 non-null    int64  \n",
            "dtypes: float64(10), int64(2)\n",
            "memory usage: 50.4 KB\n"
          ]
        }
      ]
    },
    {
      "cell_type": "code",
      "source": [
        "df['close '].plot()"
      ],
      "metadata": {
        "colab": {
          "base_uri": "https://localhost:8080/",
          "height": 450
        },
        "id": "aPsXvV3jDc5m",
        "outputId": "c8c70cff-0ce9-4829-f5ef-acec049f26da"
      },
      "execution_count": null,
      "outputs": [
        {
          "output_type": "execute_result",
          "data": {
            "text/plain": [
              "<Axes: xlabel='Date '>"
            ]
          },
          "metadata": {},
          "execution_count": 10
        },
        {
          "output_type": "display_data",
          "data": {
            "text/plain": [
              "<Figure size 640x480 with 1 Axes>"
            ],
            "image/png": "[encoded data removed]"
          },
          "metadata": {}
        }
      ]
    },
    {
      "cell_type": "code",
      "source": [
        "len(df)"
      ],
      "metadata": {
        "colab": {
          "base_uri": "https://localhost:8080/"
        },
        "id": "coNCLcrPHcW9",
        "outputId": "6f91fcca-734b-4560-deab-5ebc267deb38"
      },
      "execution_count": null,
      "outputs": [
        {
          "output_type": "execute_result",
          "data": {
            "text/plain": [
              "496"
            ]
          },
          "metadata": {},
          "execution_count": 11
        }
      ]
    },
    {
      "cell_type": "code",
      "source": [
        "motors_close = df['close ']"
      ],
      "metadata": {
        "id": "R7unVQmZHfHw"
      },
      "execution_count": null,
      "outputs": []
    },
    {
      "cell_type": "code",
      "source": [
        "motors_close.reset_index(drop=True,inplace=True)\n",
        "motors_close.shape"
      ],
      "metadata": {
        "colab": {
          "base_uri": "https://localhost:8080/"
        },
        "id": "5-_cvKQPHkaX",
        "outputId": "2359db0b-2cef-44c4-df2f-d50ad051216c"
      },
      "execution_count": null,
      "outputs": [
        {
          "output_type": "execute_result",
          "data": {
            "text/plain": [
              "(496,)"
            ]
          },
          "metadata": {},
          "execution_count": 13
        }
      ]
    },
    {
      "cell_type": "code",
      "source": [
        "motors_close = pd.DataFrame(motors_close)"
      ],
      "metadata": {
        "id": "C1SveE95Hpx8"
      },
      "execution_count": null,
      "outputs": []
    },
    {
      "cell_type": "code",
      "source": [
        "train = motors_close.iloc[:480]\n",
        "test = motors_close.iloc[480:]"
      ],
      "metadata": {
        "id": "LWcskDc2HtfZ"
      },
      "execution_count": null,
      "outputs": []
    },
    {
      "cell_type": "code",
      "source": [
        "from sklearn.preprocessing import MinMaxScaler"
      ],
      "metadata": {
        "id": "cTXYhSxeIcTy"
      },
      "execution_count": null,
      "outputs": []
    },
    {
      "cell_type": "code",
      "source": [
        "scaler = MinMaxScaler()"
      ],
      "metadata": {
        "id": "qiBEh9rVIdW3"
      },
      "execution_count": null,
      "outputs": []
    },
    {
      "cell_type": "code",
      "source": [
        "scaler.fit(train)"
      ],
      "metadata": {
        "colab": {
          "base_uri": "https://localhost:8080/",
          "height": 74
        },
        "id": "a2olgsPaIffW",
        "outputId": "4a953968-19ec-4028-c20d-b8ee22706ed4"
      },
      "execution_count": null,
      "outputs": [
        {
          "output_type": "execute_result",
          "data": {
            "text/plain": [
              "MinMaxScaler()"
            ],
            "text/html": [
              "<style>#sk-container-id-1 {color: black;background-color: white;}#sk-container-id-1 pre{padding: 0;}#sk-container-id-1 div.sk-toggleable {background-color: white;}#sk-container-id-1 label.sk-toggleable__label {cursor: pointer;display: block;width: 100%;margin-bottom: 0;padding: 0.3em;box-sizing: border-box;text-align: center;}#sk-container-id-1 label.sk-toggleable__label-arrow:before {content: \"▸\";float: left;margin-right: 0.25em;color: #696969;}#sk-container-id-1 label.sk-toggleable__label-arrow:hover:before {color: black;}#sk-container-id-1 div.sk-estimator:hover label.sk-toggleable__label-arrow:before {color: black;}#sk-container-id-1 div.sk-toggleable__content {max-height: 0;max-width: 0;overflow: hidden;text-align: left;background-color: #f0f8ff;}#sk-container-id-1 div.sk-toggleable__content pre {margin: 0.2em;color: black;border-radius: 0.25em;background-color: #f0f8ff;}#sk-container-id-1 input.sk-toggleable__control:checked~div.sk-toggleable__content {max-height: 200px;max-width: 100%;overflow: auto;}#sk-container-id-1 input.sk-toggleable__control:checked~label.sk-toggleable__label-arrow:before {content: \"▾\";}#sk-container-id-1 div.sk-estimator input.sk-toggleable__control:checked~label.sk-toggleable__label {background-color: #d4ebff;}#sk-container-id-1 div.sk-label input.sk-toggleable__control:checked~label.sk-toggleable__label {background-color: #d4ebff;}#sk-container-id-1 input.sk-hidden--visually {border: 0;clip: rect(1px 1px 1px 1px);clip: rect(1px, 1px, 1px, 1px);height: 1px;margin: -1px;overflow: hidden;padding: 0;position: absolute;width: 1px;}#sk-container-id-1 div.sk-estimator {font-family: monospace;background-color: #f0f8ff;border: 1px dotted black;border-radius: 0.25em;box-sizing: border-box;margin-bottom: 0.5em;}#sk-container-id-1 div.sk-estimator:hover {background-color: #d4ebff;}#sk-container-id-1 div.sk-parallel-item::after {content: \"\";width: 100%;border-bottom: 1px solid gray;flex-grow: 1;}#sk-container-id-1 div.sk-label:hover label.sk-toggleable__label {background-color: #d4ebff;}#sk-container-id-1 div.sk-serial::before {content: \"\";position: absolute;border-left: 1px solid gray;box-sizing: border-box;top: 0;bottom: 0;left: 50%;z-index: 0;}#sk-container-id-1 div.sk-serial {display: flex;flex-direction: column;align-items: center;background-color: white;padding-right: 0.2em;padding-left: 0.2em;position: relative;}#sk-container-id-1 div.sk-item {position: relative;z-index: 1;}#sk-container-id-1 div.sk-parallel {display: flex;align-items: stretch;justify-content: center;background-color: white;position: relative;}#sk-container-id-1 div.sk-item::before, #sk-container-id-1 div.sk-parallel-item::before {content: \"\";position: absolute;border-left: 1px solid gray;box-sizing: border-box;top: 0;bottom: 0;left: 50%;z-index: -1;}#sk-container-id-1 div.sk-parallel-item {display: flex;flex-direction: column;z-index: 1;position: relative;background-color: white;}#sk-container-id-1 div.sk-parallel-item:first-child::after {align-self: flex-end;width: 50%;}#sk-container-id-1 div.sk-parallel-item:last-child::after {align-self: flex-start;width: 50%;}#sk-container-id-1 div.sk-parallel-item:only-child::after {width: 0;}#sk-container-id-1 div.sk-dashed-wrapped {border: 1px dashed gray;margin: 0 0.4em 0.5em 0.4em;box-sizing: border-box;padding-bottom: 0.4em;background-color: white;}#sk-container-id-1 div.sk-label label {font-family: monospace;font-weight: bold;display: inline-block;line-height: 1.2em;}#sk-container-id-1 div.sk-label-container {text-align: center;}#sk-container-id-1 div.sk-container {/* jupyter's `normalize.less` sets `[hidden] { display: none; }` but bootstrap.min.css set `[hidden] { display: none !important; }` so we also need the `!important` here to be able to override the default hidden behavior on the sphinx rendered scikit-learn.org. See: https://github.com/scikit-learn/scikit-learn/issues/21755 */display: inline-block !important;position: relative;}#sk-container-id-1 div.sk-text-repr-fallback {display: none;}</style><div id=\"sk-container-id-1\" class=\"sk-top-container\"><div class=\"sk-text-repr-fallback\"><pre>MinMaxScaler()</pre><b>In a Jupyter environment, please rerun this cell to show the HTML representation or trust the notebook. <br />On GitHub, the HTML representation is unable to render, please try loading this page with nbviewer.org.</b></div><div class=\"sk-container\" hidden><div class=\"sk-item\"><div class=\"sk-estimator sk-toggleable\"><input class=\"sk-toggleable__control sk-hidden--visually\" id=\"sk-estimator-id-1\" type=\"checkbox\" checked><label for=\"sk-estimator-id-1\" class=\"sk-toggleable__label sk-toggleable__label-arrow\">MinMaxScaler</label><div class=\"sk-toggleable__content\"><pre>MinMaxScaler()</pre></div></div></div></div></div>"
            ]
          },
          "metadata": {},
          "execution_count": 24
        }
      ]
    },
    {
      "cell_type": "code",
      "source": [
        "scaled_train = scaler.transform(train)\n",
        "scaled_test = scaler.transform(test)"
      ],
      "metadata": {
        "id": "O8IqOZYDIhN7"
      },
      "execution_count": null,
      "outputs": []
    },
    {
      "cell_type": "markdown",
      "source": [
        "# Creating the model"
      ],
      "metadata": {
        "id": "BCmsvTy_H7WM"
      }
    },
    {
      "cell_type": "code",
      "source": [
        "from tensorflow.keras.preprocessing.sequence import TimeseriesGenerator"
      ],
      "metadata": {
        "id": "XgmZWK5yH-YI"
      },
      "execution_count": null,
      "outputs": []
    },
    {
      "cell_type": "code",
      "source": [
        "test.shape"
      ],
      "metadata": {
        "colab": {
          "base_uri": "https://localhost:8080/"
        },
        "id": "tw-hZxogICJt",
        "outputId": "4e189435-6e84-4872-b2cd-9f9d6fd02bb8"
      },
      "execution_count": null,
      "outputs": [
        {
          "output_type": "execute_result",
          "data": {
            "text/plain": [
              "(16, 1)"
            ]
          },
          "metadata": {},
          "execution_count": 20
        }
      ]
    },
    {
      "cell_type": "code",
      "source": [
        "length = 16\n",
        "batch_size = 32\n",
        "\n",
        "generator = TimeseriesGenerator(scaled_train,scaled_train,\n",
        "                                length = length, batch_size=batch_size)\n",
        "\n",
        "#creates an object of train - length and last 16 values will be predicted and validated"
      ],
      "metadata": {
        "id": "NsJ3mJGrITPd"
      },
      "execution_count": null,
      "outputs": []
    },
    {
      "cell_type": "code",
      "source": [
        "from tensorflow.keras.models import Sequential\n",
        "from tensorflow.keras.layers import Dense,SimpleRNN,LSTM,Dropout"
      ],
      "metadata": {
        "id": "PomsLU3UIldi"
      },
      "execution_count": null,
      "outputs": []
    },
    {
      "cell_type": "code",
      "source": [
        "n_features = 1"
      ],
      "metadata": {
        "id": "VyJJJS5YInkk"
      },
      "execution_count": null,
      "outputs": []
    },
    {
      "cell_type": "code",
      "source": [
        "model = Sequential()\n",
        "\n",
        "model.add(SimpleRNN(30,input_shape=(length,n_features)))\n",
        "\n",
        "model.add(Dropout(rate=0.2))\n",
        "#fully connected layer occupies most of the parameters, and hence, neurons develop co-dependency amongst each other\n",
        "#during training which curbs the individual power of each neuron leading to over-fitting of training data.\n",
        "model.add(Dense(1))\n",
        "\n",
        "model.compile(optimizer='adam', loss='mse')"
      ],
      "metadata": {
        "id": "IBUaS3ErIpbK"
      },
      "execution_count": null,
      "outputs": []
    },
    {
      "cell_type": "code",
      "source": [
        "model.fit(generator,epochs=10,shuffle=False) #generally takes much longer time than ANN"
      ],
      "metadata": {
        "colab": {
          "base_uri": "https://localhost:8080/"
        },
        "id": "bGe4YDprItCL",
        "outputId": "bf2bf028-e52d-4d02-ff2d-7d2349e84a00"
      },
      "execution_count": null,
      "outputs": [
        {
          "output_type": "stream",
          "name": "stdout",
          "text": [
            "Epoch 1/10\n",
            "15/15 [==============================] - 1s 6ms/step - loss: 0.0359\n",
            "Epoch 2/10\n",
            "15/15 [==============================] - 0s 5ms/step - loss: 0.0546\n",
            "Epoch 3/10\n",
            "15/15 [==============================] - 0s 5ms/step - loss: 0.0154\n",
            "Epoch 4/10\n",
            "15/15 [==============================] - 0s 6ms/step - loss: 0.0107\n",
            "Epoch 5/10\n",
            "15/15 [==============================] - 0s 7ms/step - loss: 0.0113\n",
            "Epoch 6/10\n",
            "15/15 [==============================] - 0s 6ms/step - loss: 0.0167\n",
            "Epoch 7/10\n",
            "15/15 [==============================] - 0s 5ms/step - loss: 0.0147\n",
            "Epoch 8/10\n",
            "15/15 [==============================] - 0s 7ms/step - loss: 0.0185\n",
            "Epoch 9/10\n",
            "15/15 [==============================] - 0s 5ms/step - loss: 0.0176\n",
            "Epoch 10/10\n",
            "15/15 [==============================] - 0s 5ms/step - loss: 0.0165\n"
          ]
        },
        {
          "output_type": "execute_result",
          "data": {
            "text/plain": [
              "<keras.src.callbacks.History at 0x788fc3e2c550>"
            ]
          },
          "metadata": {},
          "execution_count": 55
        }
      ]
    },
    {
      "cell_type": "code",
      "source": [
        "model.summary()"
      ],
      "metadata": {
        "colab": {
          "base_uri": "https://localhost:8080/"
        },
        "id": "qmWwG_kPIw8d",
        "outputId": "23f93455-e40e-4fd0-a397-70c25ef242e5"
      },
      "execution_count": null,
      "outputs": [
        {
          "output_type": "stream",
          "name": "stdout",
          "text": [
            "Model: \"sequential_2\"\n",
            "_________________________________________________________________\n",
            " Layer (type)                Output Shape              Param #   \n",
            "=================================================================\n",
            " simple_rnn_2 (SimpleRNN)    (None, 30)                960       \n",
            "                                                                 \n",
            " dropout_1 (Dropout)         (None, 30)                0         \n",
            "                                                                 \n",
            " dense_1 (Dense)             (None, 1)                 31        \n",
            "                                                                 \n",
            "=================================================================\n",
            "Total params: 991 (3.87 KB)\n",
            "Trainable params: 991 (3.87 KB)\n",
            "Non-trainable params: 0 (0.00 Byte)\n",
            "_________________________________________________________________\n"
          ]
        }
      ]
    },
    {
      "cell_type": "code",
      "source": [
        "losses = pd.DataFrame(model.history.history)"
      ],
      "metadata": {
        "id": "efiV5OFvIzt6"
      },
      "execution_count": null,
      "outputs": []
    },
    {
      "cell_type": "code",
      "source": [
        "losses.plot()"
      ],
      "metadata": {
        "colab": {
          "base_uri": "https://localhost:8080/",
          "height": 447
        },
        "id": "PPKkOhJ_I1_x",
        "outputId": "2f00ac38-4b88-4e30-9aca-bcc13e38fd15"
      },
      "execution_count": null,
      "outputs": [
        {
          "output_type": "execute_result",
          "data": {
            "text/plain": [
              "<Axes: >"
            ]
          },
          "metadata": {},
          "execution_count": 58
        },
        {
          "output_type": "display_data",
          "data": {
            "text/plain": [
              "<Figure size 640x480 with 1 Axes>"
            ],
            "image/png": "[encoded data removed]"
          },
          "metadata": {}
        }
      ]
    },
    {
      "cell_type": "markdown",
      "source": [
        "#EVALUATING TEST SET :"
      ],
      "metadata": {
        "id": "e2r5BSLAI7dY"
      }
    },
    {
      "cell_type": "code",
      "source": [
        "first_eval_batch = scaled_train[-length:] #picks last 16 values in train set"
      ],
      "metadata": {
        "id": "IumosOLZI87s"
      },
      "execution_count": null,
      "outputs": []
    },
    {
      "cell_type": "code",
      "source": [
        "first_eval_batch"
      ],
      "metadata": {
        "colab": {
          "base_uri": "https://localhost:8080/"
        },
        "id": "2SXOCkFGJA3B",
        "outputId": "2e074a00-1978-44e1-fc03-745856a018c2"
      },
      "execution_count": null,
      "outputs": [
        {
          "output_type": "execute_result",
          "data": {
            "text/plain": [
              "array([[0.95443663],\n",
              "       [0.913063  ],\n",
              "       [0.94830166],\n",
              "       [0.97553494],\n",
              "       [1.        ],\n",
              "       [0.86996858],\n",
              "       [0.87730061],\n",
              "       [0.85133922],\n",
              "       [0.83502918],\n",
              "       [0.84894508],\n",
              "       [0.86128984],\n",
              "       [0.85732455],\n",
              "       [0.85163849],\n",
              "       [0.87385905],\n",
              "       [0.87116564],\n",
              "       [0.86809816]])"
            ]
          },
          "metadata": {},
          "execution_count": 60
        }
      ]
    },
    {
      "cell_type": "code",
      "source": [
        "first_eval_batch = first_eval_batch.reshape((1,length,1))"
      ],
      "metadata": {
        "id": "vtUwLP8XJDxn"
      },
      "execution_count": null,
      "outputs": []
    },
    {
      "cell_type": "code",
      "source": [
        "first_eval_batch"
      ],
      "metadata": {
        "colab": {
          "base_uri": "https://localhost:8080/"
        },
        "id": "haOZ3JJ7JFpF",
        "outputId": "54541b09-da93-4ddf-95d4-e5f12e75a737"
      },
      "execution_count": null,
      "outputs": [
        {
          "output_type": "execute_result",
          "data": {
            "text/plain": [
              "array([[[0.95443663],\n",
              "        [0.913063  ],\n",
              "        [0.94830166],\n",
              "        [0.97553494],\n",
              "        [1.        ],\n",
              "        [0.86996858],\n",
              "        [0.87730061],\n",
              "        [0.85133922],\n",
              "        [0.83502918],\n",
              "        [0.84894508],\n",
              "        [0.86128984],\n",
              "        [0.85732455],\n",
              "        [0.85163849],\n",
              "        [0.87385905],\n",
              "        [0.87116564],\n",
              "        [0.86809816]]])"
            ]
          },
          "metadata": {},
          "execution_count": 62
        }
      ]
    },
    {
      "cell_type": "code",
      "source": [
        "model.predict(first_eval_batch)"
      ],
      "metadata": {
        "colab": {
          "base_uri": "https://localhost:8080/"
        },
        "id": "rmEs-JAGJJ6E",
        "outputId": "81072dc6-1991-4eb6-ded8-7ba783ba45ff"
      },
      "execution_count": null,
      "outputs": [
        {
          "output_type": "stream",
          "name": "stdout",
          "text": [
            "1/1 [==============================] - 0s 239ms/step\n"
          ]
        },
        {
          "output_type": "execute_result",
          "data": {
            "text/plain": [
              "array([[0.88891613]], dtype=float32)"
            ]
          },
          "metadata": {},
          "execution_count": 63
        }
      ]
    },
    {
      "cell_type": "code",
      "source": [
        "scaled_test[0]"
      ],
      "metadata": {
        "colab": {
          "base_uri": "https://localhost:8080/"
        },
        "id": "Fcpmv_c3JMIc",
        "outputId": "fd989efd-f634-4af0-a30e-85e10e25a110"
      },
      "execution_count": null,
      "outputs": [
        {
          "output_type": "execute_result",
          "data": {
            "text/plain": [
              "array([0.8517133])"
            ]
          },
          "metadata": {},
          "execution_count": 64
        }
      ]
    },
    {
      "cell_type": "code",
      "source": [
        "test_predictions = []\n",
        "\n",
        "first_eval_batch = scaled_train[-length:]\n",
        "current_batch = first_eval_batch.reshape((1,length,n_features))\n",
        "\n",
        "for i in range(len(test)):\n",
        "\n",
        "  #get prediction 1 time stamp ahead ([8] is for grabbing just the number instead of (array])\n",
        "  current_pred = model.predict(current_batch)[0]\n",
        "\n",
        "  #store prediction\n",
        "  test_predictions.append(current_pred)\n",
        "\n",
        "  #update batch to now include prediction and drop first value\n",
        "  current_batch = np.append(current_batch[:,1:,:],[[current_pred]],axis=1)"
      ],
      "metadata": {
        "colab": {
          "base_uri": "https://localhost:8080/"
        },
        "id": "FIlGDX02JNFD",
        "outputId": "5372b3fd-af91-47bd-b759-fc4aad309a5a"
      },
      "execution_count": null,
      "outputs": [
        {
          "output_type": "stream",
          "name": "stdout",
          "text": [
            "1/1 [==============================] - 0s 23ms/step\n",
            "1/1 [==============================] - 0s 27ms/step\n",
            "1/1 [==============================] - 0s 25ms/step\n",
            "1/1 [==============================] - 0s 26ms/step\n",
            "1/1 [==============================] - 0s 30ms/step\n",
            "1/1 [==============================] - 0s 32ms/step\n",
            "1/1 [==============================] - 0s 36ms/step\n",
            "1/1 [==============================] - 0s 33ms/step\n",
            "1/1 [==============================] - 0s 31ms/step\n",
            "1/1 [==============================] - 0s 31ms/step\n",
            "1/1 [==============================] - 0s 31ms/step\n",
            "1/1 [==============================] - 0s 31ms/step\n",
            "1/1 [==============================] - 0s 34ms/step\n",
            "1/1 [==============================] - 0s 32ms/step\n",
            "1/1 [==============================] - 0s 32ms/step\n",
            "1/1 [==============================] - 0s 34ms/step\n"
          ]
        }
      ]
    },
    {
      "cell_type": "code",
      "source": [
        "test_predictions"
      ],
      "metadata": {
        "colab": {
          "base_uri": "https://localhost:8080/"
        },
        "id": "xkmoQcf7JRAV",
        "outputId": "a3cbcf62-bf70-4a8b-e978-d6d9dda4d93e"
      },
      "execution_count": null,
      "outputs": [
        {
          "output_type": "execute_result",
          "data": {
            "text/plain": [
              "[array([0.88891613], dtype=float32),\n",
              " array([0.8707835], dtype=float32),\n",
              " array([0.8730212], dtype=float32),\n",
              " array([0.9311634], dtype=float32),\n",
              " array([0.9244415], dtype=float32),\n",
              " array([0.8766635], dtype=float32),\n",
              " array([0.91698104], dtype=float32),\n",
              " array([0.8892493], dtype=float32),\n",
              " array([0.8623038], dtype=float32),\n",
              " array([0.90309733], dtype=float32),\n",
              " array([0.8961993], dtype=float32),\n",
              " array([0.8301507], dtype=float32),\n",
              " array([0.88260096], dtype=float32),\n",
              " array([0.89608455], dtype=float32),\n",
              " array([0.83855355], dtype=float32),\n",
              " array([0.888685], dtype=float32)]"
            ]
          },
          "metadata": {},
          "execution_count": 67
        }
      ]
    },
    {
      "cell_type": "code",
      "source": [
        "true_predictions = scaler.inverse_transform(test_predictions)"
      ],
      "metadata": {
        "id": "bGTLWQ23JUd8"
      },
      "execution_count": null,
      "outputs": []
    },
    {
      "cell_type": "code",
      "source": [
        "true_predictions"
      ],
      "metadata": {
        "colab": {
          "base_uri": "https://localhost:8080/"
        },
        "id": "C0qsrk_3JXLZ",
        "outputId": "bc0642aa-1bd0-43a4-95fc-2b46bf60063a"
      },
      "execution_count": null,
      "outputs": [
        {
          "output_type": "execute_result",
          "data": {
            "text/plain": [
              "array([[ 972.41265291],\n",
              "       [ 960.29461828],\n",
              "       [ 961.7900582 ],\n",
              "       [1000.64648058],\n",
              "       [ 996.15426541],\n",
              "       [ 964.22422108],\n",
              "       [ 991.16842999],\n",
              "       [ 972.63532376],\n",
              "       [ 954.62762515],\n",
              "       [ 981.88994666],\n",
              "       [ 977.27998282],\n",
              "       [ 933.13972849],\n",
              "       [ 968.19222365],\n",
              "       [ 977.20330279],\n",
              "       [ 938.75533603],\n",
              "       [ 972.2581775 ]])"
            ]
          },
          "metadata": {},
          "execution_count": 69
        }
      ]
    },
    {
      "cell_type": "code",
      "source": [
        "test.loc[:,'predictions'] = true_predictions"
      ],
      "metadata": {
        "id": "r9-4H9ZJJYaU"
      },
      "execution_count": null,
      "outputs": []
    },
    {
      "cell_type": "code",
      "source": [
        "test"
      ],
      "metadata": {
        "colab": {
          "base_uri": "https://localhost:8080/",
          "height": 551
        },
        "id": "ZxSoPj0lJyTB",
        "outputId": "1c8536c4-8ae6-4293-d795-85c9cea8aba1"
      },
      "execution_count": null,
      "outputs": [
        {
          "output_type": "execute_result",
          "data": {
            "text/plain": [
              "     close   predictions\n",
              "480  947.55   972.412653\n",
              "481  943.60   960.294618\n",
              "482  923.95   961.790058\n",
              "483  923.00  1000.646481\n",
              "484  950.45   996.154265\n",
              "485  903.90   964.224221\n",
              "486  929.95   991.168430\n",
              "487  938.25   972.635324\n",
              "488  970.50   954.627625\n",
              "489  975.15   981.889947\n",
              "490  987.10   977.279983\n",
              "491  988.70   933.139728\n",
              "492  985.85   968.192224\n",
              "493  993.40   977.203303\n",
              "494  985.90   938.755336\n",
              "495  977.35   972.258177"
            ],
            "text/html": [
              "\n",
              "  <div id=\"df-e96c09d4-89e5-4b36-bc02-95173e7a5a05\" class=\"colab-df-container\">\n",
              "    <div>\n",
              "<style scoped>\n",
              "    .dataframe tbody tr th:only-of-type {\n",
              "        vertical-align: middle;\n",
              "    }\n",
              "\n",
              "    .dataframe tbody tr th {\n",
              "        vertical-align: top;\n",
              "    }\n",
              "\n",
              "    .dataframe thead th {\n",
              "        text-align: right;\n",
              "    }\n",
              "</style>\n",
              "<table border=\"1\" class=\"dataframe\">\n",
              "  <thead>\n",
              "    <tr style=\"text-align: right;\">\n",
              "      <th></th>\n",
              "      <th>close</th>\n",
              "      <th>predictions</th>\n",
              "    </tr>\n",
              "  </thead>\n",
              "  <tbody>\n",
              "    <tr>\n",
              "      <th>480</th>\n",
              "      <td>947.55</td>\n",
              "      <td>972.412653</td>\n",
              "    </tr>\n",
              "    <tr>\n",
              "      <th>481</th>\n",
              "      <td>943.60</td>\n",
              "      <td>960.294618</td>\n",
              "    </tr>\n",
              "    <tr>\n",
              "      <th>482</th>\n",
              "      <td>923.95</td>\n",
              "      <td>961.790058</td>\n",
              "    </tr>\n",
              "    <tr>\n",
              "      <th>483</th>\n",
              "      <td>923.00</td>\n",
              "      <td>1000.646481</td>\n",
              "    </tr>\n",
              "    <tr>\n",
              "      <th>484</th>\n",
              "      <td>950.45</td>\n",
              "      <td>996.154265</td>\n",
              "    </tr>\n",
              "    <tr>\n",
              "      <th>485</th>\n",
              "      <td>903.90</td>\n",
              "      <td>964.224221</td>\n",
              "    </tr>\n",
              "    <tr>\n",
              "      <th>486</th>\n",
              "      <td>929.95</td>\n",
              "      <td>991.168430</td>\n",
              "    </tr>\n",
              "    <tr>\n",
              "      <th>487</th>\n",
              "      <td>938.25</td>\n",
              "      <td>972.635324</td>\n",
              "    </tr>\n",
              "    <tr>\n",
              "      <th>488</th>\n",
              "      <td>970.50</td>\n",
              "      <td>954.627625</td>\n",
              "    </tr>\n",
              "    <tr>\n",
              "      <th>489</th>\n",
              "      <td>975.15</td>\n",
              "      <td>981.889947</td>\n",
              "    </tr>\n",
              "    <tr>\n",
              "      <th>490</th>\n",
              "      <td>987.10</td>\n",
              "      <td>977.279983</td>\n",
              "    </tr>\n",
              "    <tr>\n",
              "      <th>491</th>\n",
              "      <td>988.70</td>\n",
              "      <td>933.139728</td>\n",
              "    </tr>\n",
              "    <tr>\n",
              "      <th>492</th>\n",
              "      <td>985.85</td>\n",
              "      <td>968.192224</td>\n",
              "    </tr>\n",
              "    <tr>\n",
              "      <th>493</th>\n",
              "      <td>993.40</td>\n",
              "      <td>977.203303</td>\n",
              "    </tr>\n",
              "    <tr>\n",
              "      <th>494</th>\n",
              "      <td>985.90</td>\n",
              "      <td>938.755336</td>\n",
              "    </tr>\n",
              "    <tr>\n",
              "      <th>495</th>\n",
              "      <td>977.35</td>\n",
              "      <td>972.258177</td>\n",
              "    </tr>\n",
              "  </tbody>\n",
              "</table>\n",
              "</div>\n",
              "    <div class=\"colab-df-buttons\">\n",
              "\n",
              "  <div class=\"colab-df-container\">\n",
              "    <button class=\"colab-df-convert\" onclick=\"convertToInteractive('df-e96c09d4-89e5-4b36-bc02-95173e7a5a05')\"\n",
              "            title=\"Convert this dataframe to an interactive table.\"\n",
              "            style=\"display:none;\">\n",
              "\n",
              "  <svg xmlns=\"http://www.w3.org/2000/svg\" height=\"24px\" viewBox=\"0 -960 960 960\">\n",
              "    <path d=\"M120-120v-720h720v720H120Zm60-500h600v-160H180v160Zm220 220h160v-160H400v160Zm0 220h160v-160H400v160ZM180-400h160v-160H180v160Zm440 0h160v-160H620v160ZM180-180h160v-160H180v160Zm440 0h160v-160H620v160Z\"/>\n",
              "  </svg>\n",
              "    </button>\n",
              "\n",
              "  <style>\n",
              "    .colab-df-container {\n",
              "      display:flex;\n",
              "      gap: 12px;\n",
              "    }\n",
              "\n",
              "    .colab-df-convert {\n",
              "      background-color: #E8F0FE;\n",
              "      border: none;\n",
              "      border-radius: 50%;\n",
              "      cursor: pointer;\n",
              "      display: none;\n",
              "      fill: #1967D2;\n",
              "      height: 32px;\n",
              "      padding: 0 0 0 0;\n",
              "      width: 32px;\n",
              "    }\n",
              "\n",
              "    .colab-df-convert:hover {\n",
              "      background-color: #E2EBFA;\n",
              "      box-shadow: 0px 1px 2px rgba(60, 64, 67, 0.3), 0px 1px 3px 1px rgba(60, 64, 67, 0.15);\n",
              "      fill: #174EA6;\n",
              "    }\n",
              "\n",
              "    .colab-df-buttons div {\n",
              "      margin-bottom: 4px;\n",
              "    }\n",
              "\n",
              "    [theme=dark] .colab-df-convert {\n",
              "      background-color: #3B4455;\n",
              "      fill: #D2E3FC;\n",
              "    }\n",
              "\n",
              "    [theme=dark] .colab-df-convert:hover {\n",
              "      background-color: #434B5C;\n",
              "      box-shadow: 0px 1px 3px 1px rgba(0, 0, 0, 0.15);\n",
              "      filter: drop-shadow(0px 1px 2px rgba(0, 0, 0, 0.3));\n",
              "      fill: #FFFFFF;\n",
              "    }\n",
              "  </style>\n",
              "\n",
              "    <script>\n",
              "      const buttonEl =\n",
              "        document.querySelector('#df-e96c09d4-89e5-4b36-bc02-95173e7a5a05 button.colab-df-convert');\n",
              "      buttonEl.style.display =\n",
              "        google.colab.kernel.accessAllowed ? 'block' : 'none';\n",
              "\n",
              "      async function convertToInteractive(key) {\n",
              "        const element = document.querySelector('#df-e96c09d4-89e5-4b36-bc02-95173e7a5a05');\n",
              "        const dataTable =\n",
              "          await google.colab.kernel.invokeFunction('convertToInteractive',\n",
              "                                                    [key], {});\n",
              "        if (!dataTable) return;\n",
              "\n",
              "        const docLinkHtml = 'Like what you see? Visit the ' +\n",
              "          '<a target=\"_blank\" href=https://colab.research.google.com/notebooks/data_table.ipynb>data table notebook</a>'\n",
              "          + ' to learn more about interactive tables.';\n",
              "        element.innerHTML = '';\n",
              "        dataTable['output_type'] = 'display_data';\n",
              "        await google.colab.output.renderOutput(dataTable, element);\n",
              "        const docLink = document.createElement('div');\n",
              "        docLink.innerHTML = docLinkHtml;\n",
              "        element.appendChild(docLink);\n",
              "      }\n",
              "    </script>\n",
              "  </div>\n",
              "\n",
              "\n",
              "<div id=\"df-b8503b19-583e-4cae-8956-41831c056edc\">\n",
              "  <button class=\"colab-df-quickchart\" onclick=\"quickchart('df-b8503b19-583e-4cae-8956-41831c056edc')\"\n",
              "            title=\"Suggest charts\"\n",
              "            style=\"display:none;\">\n",
              "\n",
              "<svg xmlns=\"http://www.w3.org/2000/svg\" height=\"24px\"viewBox=\"0 0 24 24\"\n",
              "     width=\"24px\">\n",
              "    <g>\n",
              "        <path d=\"M19 3H5c-1.1 0-2 .9-2 2v14c0 1.1.9 2 2 2h14c1.1 0 2-.9 2-2V5c0-1.1-.9-2-2-2zM9 17H7v-7h2v7zm4 0h-2V7h2v10zm4 0h-2v-4h2v4z\"/>\n",
              "    </g>\n",
              "</svg>\n",
              "  </button>\n",
              "\n",
              "<style>\n",
              "  .colab-df-quickchart {\n",
              "      --bg-color: #E8F0FE;\n",
              "      --fill-color: #1967D2;\n",
              "      --hover-bg-color: #E2EBFA;\n",
              "      --hover-fill-color: #174EA6;\n",
              "      --disabled-fill-color: #AAA;\n",
              "      --disabled-bg-color: #DDD;\n",
              "  }\n",
              "\n",
              "  [theme=dark] .colab-df-quickchart {\n",
              "      --bg-color: #3B4455;\n",
              "      --fill-color: #D2E3FC;\n",
              "      --hover-bg-color: #434B5C;\n",
              "      --hover-fill-color: #FFFFFF;\n",
              "      --disabled-bg-color: #3B4455;\n",
              "      --disabled-fill-color: #666;\n",
              "  }\n",
              "\n",
              "  .colab-df-quickchart {\n",
              "    background-color: var(--bg-color);\n",
              "    border: none;\n",
              "    border-radius: 50%;\n",
              "    cursor: pointer;\n",
              "    display: none;\n",
              "    fill: var(--fill-color);\n",
              "    height: 32px;\n",
              "    padding: 0;\n",
              "    width: 32px;\n",
              "  }\n",
              "\n",
              "  .colab-df-quickchart:hover {\n",
              "    background-color: var(--hover-bg-color);\n",
              "    box-shadow: 0 1px 2px rgba(60, 64, 67, 0.3), 0 1px 3px 1px rgba(60, 64, 67, 0.15);\n",
              "    fill: var(--button-hover-fill-color);\n",
              "  }\n",
              "\n",
              "  .colab-df-quickchart-complete:disabled,\n",
              "  .colab-df-quickchart-complete:disabled:hover {\n",
              "    background-color: var(--disabled-bg-color);\n",
              "    fill: var(--disabled-fill-color);\n",
              "    box-shadow: none;\n",
              "  }\n",
              "\n",
              "  .colab-df-spinner {\n",
              "    border: 2px solid var(--fill-color);\n",
              "    border-color: transparent;\n",
              "    border-bottom-color: var(--fill-color);\n",
              "    animation:\n",
              "      spin 1s steps(1) infinite;\n",
              "  }\n",
              "\n",
              "  @keyframes spin {\n",
              "    0% {\n",
              "      border-color: transparent;\n",
              "      border-bottom-color: var(--fill-color);\n",
              "      border-left-color: var(--fill-color);\n",
              "    }\n",
              "    20% {\n",
              "      border-color: transparent;\n",
              "      border-left-color: var(--fill-color);\n",
              "      border-top-color: var(--fill-color);\n",
              "    }\n",
              "    30% {\n",
              "      border-color: transparent;\n",
              "      border-left-color: var(--fill-color);\n",
              "      border-top-color: var(--fill-color);\n",
              "      border-right-color: var(--fill-color);\n",
              "    }\n",
              "    40% {\n",
              "      border-color: transparent;\n",
              "      border-right-color: var(--fill-color);\n",
              "      border-top-color: var(--fill-color);\n",
              "    }\n",
              "    60% {\n",
              "      border-color: transparent;\n",
              "      border-right-color: var(--fill-color);\n",
              "    }\n",
              "    80% {\n",
              "      border-color: transparent;\n",
              "      border-right-color: var(--fill-color);\n",
              "      border-bottom-color: var(--fill-color);\n",
              "    }\n",
              "    90% {\n",
              "      border-color: transparent;\n",
              "      border-bottom-color: var(--fill-color);\n",
              "    }\n",
              "  }\n",
              "</style>\n",
              "\n",
              "  <script>\n",
              "    async function quickchart(key) {\n",
              "      const quickchartButtonEl =\n",
              "        document.querySelector('#' + key + ' button');\n",
              "      quickchartButtonEl.disabled = true;  // To prevent multiple clicks.\n",
              "      quickchartButtonEl.classList.add('colab-df-spinner');\n",
              "      try {\n",
              "        const charts = await google.colab.kernel.invokeFunction(\n",
              "            'suggestCharts', [key], {});\n",
              "      } catch (error) {\n",
              "        console.error('Error during call to suggestCharts:', error);\n",
              "      }\n",
              "      quickchartButtonEl.classList.remove('colab-df-spinner');\n",
              "      quickchartButtonEl.classList.add('colab-df-quickchart-complete');\n",
              "    }\n",
              "    (() => {\n",
              "      let quickchartButtonEl =\n",
              "        document.querySelector('#df-b8503b19-583e-4cae-8956-41831c056edc button');\n",
              "      quickchartButtonEl.style.display =\n",
              "        google.colab.kernel.accessAllowed ? 'block' : 'none';\n",
              "    })();\n",
              "  </script>\n",
              "</div>\n",
              "\n",
              "  <div id=\"id_a335c362-b60f-4c52-afa0-21f1ed7134d7\">\n",
              "    <style>\n",
              "      .colab-df-generate {\n",
              "        background-color: #E8F0FE;\n",
              "        border: none;\n",
              "        border-radius: 50%;\n",
              "        cursor: pointer;\n",
              "        display: none;\n",
              "        fill: #1967D2;\n",
              "        height: 32px;\n",
              "        padding: 0 0 0 0;\n",
              "        width: 32px;\n",
              "      }\n",
              "\n",
              "      .colab-df-generate:hover {\n",
              "        background-color: #E2EBFA;\n",
              "        box-shadow: 0px 1px 2px rgba(60, 64, 67, 0.3), 0px 1px 3px 1px rgba(60, 64, 67, 0.15);\n",
              "        fill: #174EA6;\n",
              "      }\n",
              "\n",
              "      [theme=dark] .colab-df-generate {\n",
              "        background-color: #3B4455;\n",
              "        fill: #D2E3FC;\n",
              "      }\n",
              "\n",
              "      [theme=dark] .colab-df-generate:hover {\n",
              "        background-color: #434B5C;\n",
              "        box-shadow: 0px 1px 3px 1px rgba(0, 0, 0, 0.15);\n",
              "        filter: drop-shadow(0px 1px 2px rgba(0, 0, 0, 0.3));\n",
              "        fill: #FFFFFF;\n",
              "      }\n",
              "    </style>\n",
              "    <button class=\"colab-df-generate\" onclick=\"generateWithVariable('test')\"\n",
              "            title=\"Generate code using this dataframe.\"\n",
              "            style=\"display:none;\">\n",
              "\n",
              "  <svg xmlns=\"http://www.w3.org/2000/svg\" height=\"24px\"viewBox=\"0 0 24 24\"\n",
              "       width=\"24px\">\n",
              "    <path d=\"M7,19H8.4L18.45,9,17,7.55,7,17.6ZM5,21V16.75L18.45,3.32a2,2,0,0,1,2.83,0l1.4,1.43a1.91,1.91,0,0,1,.58,1.4,1.91,1.91,0,0,1-.58,1.4L9.25,21ZM18.45,9,17,7.55Zm-12,3A5.31,5.31,0,0,0,4.9,8.1,5.31,5.31,0,0,0,1,6.5,5.31,5.31,0,0,0,4.9,4.9,5.31,5.31,0,0,0,6.5,1,5.31,5.31,0,0,0,8.1,4.9,5.31,5.31,0,0,0,12,6.5,5.46,5.46,0,0,0,6.5,12Z\"/>\n",
              "  </svg>\n",
              "    </button>\n",
              "    <script>\n",
              "      (() => {\n",
              "      const buttonEl =\n",
              "        document.querySelector('#id_a335c362-b60f-4c52-afa0-21f1ed7134d7 button.colab-df-generate');\n",
              "      buttonEl.style.display =\n",
              "        google.colab.kernel.accessAllowed ? 'block' : 'none';\n",
              "\n",
              "      buttonEl.onclick = () => {\n",
              "        google.colab.notebook.generateWithVariable('test');\n",
              "      }\n",
              "      })();\n",
              "    </script>\n",
              "  </div>\n",
              "\n",
              "    </div>\n",
              "  </div>\n"
            ],
            "application/vnd.google.colaboratory.intrinsic+json": {
              "type": "dataframe",
              "variable_name": "test",
              "summary": "{\n  \"name\": \"test\",\n  \"rows\": 16,\n  \"fields\": [\n    {\n      \"column\": \"close \",\n      \"properties\": {\n        \"dtype\": \"number\",\n        \"std\": 28.614923262754584,\n        \"min\": 903.9,\n        \"max\": 993.4,\n        \"num_unique_values\": 16,\n        \"samples\": [\n          947.55,\n          943.6,\n          903.9\n        ],\n        \"semantic_type\": \"\",\n        \"description\": \"\"\n      }\n    },\n    {\n      \"column\": \"predictions\",\n      \"properties\": {\n        \"dtype\": \"number\",\n        \"std\": 18.447175033947094,\n        \"min\": 933.1397284865379,\n        \"max\": 1000.6464805781842,\n        \"num_unique_values\": 16,\n        \"samples\": [\n          972.4126529097557,\n          960.2946182787418,\n          964.2242210805416\n        ],\n        \"semantic_type\": \"\",\n        \"description\": \"\"\n      }\n    }\n  ]\n}"
            }
          },
          "metadata": {},
          "execution_count": 71
        }
      ]
    },
    {
      "cell_type": "code",
      "source": [
        "test.plot(figsize=(12,8))\n",
        "motors_close.plot()"
      ],
      "metadata": {
        "colab": {
          "base_uri": "https://localhost:8080/",
          "height": 1000
        },
        "id": "zN8vcQTyJznl",
        "outputId": "810bb0cf-c1b9-4242-9c09-450a9187f3d7"
      },
      "execution_count": null,
      "outputs": [
        {
          "output_type": "execute_result",
          "data": {
            "text/plain": [
              "<Axes: >"
            ]
          },
          "metadata": {},
          "execution_count": 72
        },
        {
          "output_type": "display_data",
          "data": {
            "text/plain": [
              "<Figure size 1200x800 with 1 Axes>"
            ],
            "image/png": "[encoded data removed]"
          },
          "metadata": {}
        },
        {
          "output_type": "display_data",
          "data": {
            "text/plain": [
              "<Figure size 640x480 with 1 Axes>"
            ],
            "image/png": "[encoded data removed]"
          },
          "metadata": {}
        }
      ]
    },
    {
      "cell_type": "markdown",
      "source": [
        "#Full model"
      ],
      "metadata": {
        "id": "xQABwpdZKjBK"
      }
    },
    {
      "cell_type": "code",
      "source": [
        "full_scaler = MinMaxScaler()\n",
        "scaled_full_data = full_scaler.fit_transform(motors_close)"
      ],
      "metadata": {
        "id": "LvLRsWZMKlqm"
      },
      "execution_count": null,
      "outputs": []
    },
    {
      "cell_type": "code",
      "source": [
        "generator = TimeseriesGenerator(scaled_full_data,scaled_full_data,\n",
        "                                length = length, batch_size=32)"
      ],
      "metadata": {
        "id": "NRcPjFcSKrsi"
      },
      "execution_count": null,
      "outputs": []
    },
    {
      "cell_type": "code",
      "source": [
        "model = Sequential()\n",
        "\n",
        "model.add(SimpleRNN(30,input_shape=(length,n_features)))\n",
        "\n",
        "model.add(Dropout(rate=0.2))\n",
        "\n",
        "model.add(Dense(1))\n",
        "\n",
        "model.compile(optimizer='adam', loss='mse')"
      ],
      "metadata": {
        "id": "7wz6HXBPKujB"
      },
      "execution_count": null,
      "outputs": []
    },
    {
      "cell_type": "code",
      "source": [
        "model.summary()"
      ],
      "metadata": {
        "colab": {
          "base_uri": "https://localhost:8080/"
        },
        "id": "GHjyF_8oKxjq",
        "outputId": "c6777bb6-c80c-406b-de5e-23c1aac53c3a"
      },
      "execution_count": null,
      "outputs": [
        {
          "output_type": "stream",
          "name": "stdout",
          "text": [
            "Model: \"sequential_3\"\n",
            "_________________________________________________________________\n",
            " Layer (type)                Output Shape              Param #   \n",
            "=================================================================\n",
            " simple_rnn_3 (SimpleRNN)    (None, 30)                960       \n",
            "                                                                 \n",
            " dropout_2 (Dropout)         (None, 30)                0         \n",
            "                                                                 \n",
            " dense_2 (Dense)             (None, 1)                 31        \n",
            "                                                                 \n",
            "=================================================================\n",
            "Total params: 991 (3.87 KB)\n",
            "Trainable params: 991 (3.87 KB)\n",
            "Non-trainable params: 0 (0.00 Byte)\n",
            "_________________________________________________________________\n"
          ]
        }
      ]
    },
    {
      "cell_type": "code",
      "source": [
        "model.fit_generator(generator,epochs=10,shuffle=False)"
      ],
      "metadata": {
        "colab": {
          "base_uri": "https://localhost:8080/"
        },
        "id": "l6QOers8KzUw",
        "outputId": "55edf973-d571-4209-c29c-ab3484a37fee"
      },
      "execution_count": null,
      "outputs": [
        {
          "output_type": "stream",
          "name": "stdout",
          "text": [
            "Epoch 1/10\n"
          ]
        },
        {
          "output_type": "stream",
          "name": "stderr",
          "text": [
            "<ipython-input-79-b5005ef83afd>:1: UserWarning: `Model.fit_generator` is deprecated and will be removed in a future version. Please use `Model.fit`, which supports generators.\n",
            "  model.fit_generator(generator,epochs=10,shuffle=False)\n"
          ]
        },
        {
          "output_type": "stream",
          "name": "stdout",
          "text": [
            "15/15 [==============================] - 1s 5ms/step - loss: 0.0209\n",
            "Epoch 2/10\n",
            "15/15 [==============================] - 0s 6ms/step - loss: 0.0270\n",
            "Epoch 3/10\n",
            "15/15 [==============================] - 0s 5ms/step - loss: 0.0094\n",
            "Epoch 4/10\n",
            "15/15 [==============================] - 0s 5ms/step - loss: 0.0070\n",
            "Epoch 5/10\n",
            "15/15 [==============================] - 0s 6ms/step - loss: 0.0052\n",
            "Epoch 6/10\n",
            "15/15 [==============================] - 0s 6ms/step - loss: 0.0051\n",
            "Epoch 7/10\n",
            "15/15 [==============================] - 0s 5ms/step - loss: 0.0046\n",
            "Epoch 8/10\n",
            "15/15 [==============================] - 0s 5ms/step - loss: 0.0067\n",
            "Epoch 9/10\n",
            "15/15 [==============================] - 0s 6ms/step - loss: 0.0055\n",
            "Epoch 10/10\n",
            "15/15 [==============================] - 0s 5ms/step - loss: 0.0058\n"
          ]
        },
        {
          "output_type": "execute_result",
          "data": {
            "text/plain": [
              "<keras.src.callbacks.History at 0x788fc3198280>"
            ]
          },
          "metadata": {},
          "execution_count": 79
        }
      ]
    },
    {
      "cell_type": "code",
      "source": [
        "full_model_losses = pd.DataFrame(model.history.history)\n",
        "full_model_losses.plot()"
      ],
      "metadata": {
        "colab": {
          "base_uri": "https://localhost:8080/",
          "height": 447
        },
        "id": "fLb7lz0LK3Ae",
        "outputId": "d5077bd8-0afc-49a3-d8b0-a20d4b7daef3"
      },
      "execution_count": null,
      "outputs": [
        {
          "output_type": "execute_result",
          "data": {
            "text/plain": [
              "<Axes: >"
            ]
          },
          "metadata": {},
          "execution_count": 80
        },
        {
          "output_type": "display_data",
          "data": {
            "text/plain": [
              "<Figure size 640x480 with 1 Axes>"
            ],
            "image/png": "[encoded data removed]"
          },
          "metadata": {}
        }
      ]
    },
    {
      "cell_type": "code",
      "source": [
        "forecast = []\n",
        "\n",
        "first_eval_batch = scaled_train[-length:]\n",
        "current_batch = first_eval_batch.reshape((1,length,n_features))\n",
        "\n",
        "for i in range(20):\n",
        "\n",
        "  #get prediction 1 time stamp ahead ([8] is for grabbing just the number instead of (array])\n",
        "  current_pred = model.predict(current_batch)[0]\n",
        "\n",
        "  #store prediction\n",
        "  forecast.append(current_pred)\n",
        "\n",
        "  #update batch to now include prediction and drop first value\n",
        "  current_batch = np.append(current_batch[:,1:,:],[[current_pred]],axis=1)"
      ],
      "metadata": {
        "colab": {
          "base_uri": "https://localhost:8080/"
        },
        "id": "aXM9u-rPK77C",
        "outputId": "89aeb596-e7a0-4a3e-93df-8e67273417f9"
      },
      "execution_count": null,
      "outputs": [
        {
          "output_type": "stream",
          "name": "stdout",
          "text": [
            "1/1 [==============================] - 0s 154ms/step\n",
            "1/1 [==============================] - 0s 31ms/step\n",
            "1/1 [==============================] - 0s 37ms/step\n",
            "1/1 [==============================] - 0s 35ms/step\n",
            "1/1 [==============================] - 0s 33ms/step\n",
            "1/1 [==============================] - 0s 32ms/step\n",
            "1/1 [==============================] - 0s 35ms/step\n",
            "1/1 [==============================] - 0s 33ms/step\n",
            "1/1 [==============================] - 0s 31ms/step\n",
            "1/1 [==============================] - 0s 31ms/step\n",
            "1/1 [==============================] - 0s 30ms/step\n",
            "1/1 [==============================] - 0s 32ms/step\n",
            "1/1 [==============================] - 0s 34ms/step\n",
            "1/1 [==============================] - 0s 30ms/step\n",
            "1/1 [==============================] - 0s 35ms/step\n",
            "1/1 [==============================] - 0s 53ms/step\n",
            "1/1 [==============================] - 0s 35ms/step\n",
            "1/1 [==============================] - 0s 32ms/step\n",
            "1/1 [==============================] - 0s 36ms/step\n",
            "1/1 [==============================] - 0s 35ms/step\n"
          ]
        }
      ]
    },
    {
      "cell_type": "code",
      "source": [
        "forecast = scaler.inverse_transform(forecast)\n",
        "forecast"
      ],
      "metadata": {
        "colab": {
          "base_uri": "https://localhost:8080/"
        },
        "id": "a8YcWR6eK-q1",
        "outputId": "82d7a838-adae-4ec7-95e1-6a49af4eb414"
      },
      "execution_count": null,
      "outputs": [
        {
          "output_type": "execute_result",
          "data": {
            "text/plain": [
              "array([[944.85599957],\n",
              "       [947.69710439],\n",
              "       [932.55309635],\n",
              "       [925.26391219],\n",
              "       [930.32590981],\n",
              "       [915.40389545],\n",
              "       [901.98572594],\n",
              "       [906.28092321],\n",
              "       [901.30871094],\n",
              "       [883.91477128],\n",
              "       [883.6013989 ],\n",
              "       [886.34590679],\n",
              "       [873.19139709],\n",
              "       [866.13277088],\n",
              "       [872.09700371],\n",
              "       [865.65070243],\n",
              "       [852.60840451],\n",
              "       [859.54649369],\n",
              "       [859.11991369],\n",
              "       [842.9967514 ]])"
            ]
          },
          "metadata": {},
          "execution_count": 83
        }
      ]
    },
    {
      "cell_type": "code",
      "source": [
        "forecast.flatten()"
      ],
      "metadata": {
        "colab": {
          "base_uri": "https://localhost:8080/"
        },
        "id": "HdFoHkm9LDY8",
        "outputId": "483de864-f8b0-45ea-accb-35d4a1dc8066"
      },
      "execution_count": null,
      "outputs": [
        {
          "output_type": "execute_result",
          "data": {
            "text/plain": [
              "array([944.85599957, 947.69710439, 932.55309635, 925.26391219,\n",
              "       930.32590981, 915.40389545, 901.98572594, 906.28092321,\n",
              "       901.30871094, 883.91477128, 883.6013989 , 886.34590679,\n",
              "       873.19139709, 866.13277088, 872.09700371, 865.65070243,\n",
              "       852.60840451, 859.54649369, 859.11991369, 842.9967514 ])"
            ]
          },
          "metadata": {},
          "execution_count": 84
        }
      ]
    },
    {
      "cell_type": "code",
      "source": [
        "df_array = np.array(motors_close)\n",
        "df_array"
      ],
      "metadata": {
        "colab": {
          "base_uri": "https://localhost:8080/"
        },
        "id": "amaoHfAXLFp2",
        "outputId": "88994679-0e12-40f1-bdfa-b197ef2a8906"
      },
      "execution_count": null,
      "outputs": [
        {
          "output_type": "execute_result",
          "data": {
            "text/plain": [
              "array([[ 382.7 ],\n",
              "       [ 397.6 ],\n",
              "       [ 393.1 ],\n",
              "       [ 407.2 ],\n",
              "       [ 409.3 ],\n",
              "       [ 414.5 ],\n",
              "       [ 417.1 ],\n",
              "       [ 416.95],\n",
              "       [ 411.8 ],\n",
              "       [ 412.7 ],\n",
              "       [ 408.45],\n",
              "       [ 412.  ],\n",
              "       [ 416.35],\n",
              "       [ 430.85],\n",
              "       [ 441.55],\n",
              "       [ 437.05],\n",
              "       [ 430.55],\n",
              "       [ 427.1 ],\n",
              "       [ 428.05],\n",
              "       [ 440.2 ],\n",
              "       [ 450.9 ],\n",
              "       [ 449.05],\n",
              "       [ 453.45],\n",
              "       [ 454.85],\n",
              "       [ 454.9 ],\n",
              "       [ 449.55],\n",
              "       [ 441.15],\n",
              "       [ 444.05],\n",
              "       [ 442.25],\n",
              "       [ 449.6 ],\n",
              "       [ 479.2 ],\n",
              "       [ 476.25],\n",
              "       [ 467.8 ],\n",
              "       [ 468.9 ],\n",
              "       [ 465.25],\n",
              "       [ 468.25],\n",
              "       [ 475.55],\n",
              "       [ 476.65],\n",
              "       [ 477.55],\n",
              "       [ 489.85],\n",
              "       [ 485.4 ],\n",
              "       [ 484.8 ],\n",
              "       [ 471.  ],\n",
              "       [ 454.6 ],\n",
              "       [ 460.45],\n",
              "       [ 463.2 ],\n",
              "       [ 459.2 ],\n",
              "       [ 465.05],\n",
              "       [ 453.35],\n",
              "       [ 471.1 ],\n",
              "       [ 466.9 ],\n",
              "       [ 461.75],\n",
              "       [ 459.  ],\n",
              "       [ 457.75],\n",
              "       [ 445.85],\n",
              "       [ 442.2 ],\n",
              "       [ 445.9 ],\n",
              "       [ 451.  ],\n",
              "       [ 456.8 ],\n",
              "       [ 450.2 ],\n",
              "       [ 447.25],\n",
              "       [ 432.5 ],\n",
              "       [ 425.45],\n",
              "       [ 434.25],\n",
              "       [ 427.65],\n",
              "       [ 432.2 ],\n",
              "       [ 423.1 ],\n",
              "       [ 397.5 ],\n",
              "       [ 398.8 ],\n",
              "       [ 399.1 ],\n",
              "       [ 402.25],\n",
              "       [ 404.6 ],\n",
              "       [ 397.65],\n",
              "       [ 407.9 ],\n",
              "       [ 414.1 ],\n",
              "       [ 412.15],\n",
              "       [ 395.95],\n",
              "       [ 393.35],\n",
              "       [ 396.55],\n",
              "       [ 399.  ],\n",
              "       [ 396.25],\n",
              "       [ 396.1 ],\n",
              "       [ 404.25],\n",
              "       [ 399.05],\n",
              "       [ 398.1 ],\n",
              "       [ 398.05],\n",
              "       [ 401.6 ],\n",
              "       [ 404.55],\n",
              "       [ 407.7 ],\n",
              "       [ 409.9 ],\n",
              "       [ 412.75],\n",
              "       [ 421.35],\n",
              "       [ 422.15],\n",
              "       [ 416.25],\n",
              "       [ 425.35],\n",
              "       [ 435.  ],\n",
              "       [ 433.15],\n",
              "       [ 412.2 ],\n",
              "       [ 423.5 ],\n",
              "       [ 433.7 ],\n",
              "       [ 437.15],\n",
              "       [ 431.55],\n",
              "       [ 423.15],\n",
              "       [ 423.8 ],\n",
              "       [ 421.1 ],\n",
              "       [ 424.7 ],\n",
              "       [ 424.05],\n",
              "       [ 423.4 ],\n",
              "       [ 433.2 ],\n",
              "       [ 433.25],\n",
              "       [ 433.15],\n",
              "       [ 439.4 ],\n",
              "       [ 438.25],\n",
              "       [ 435.4 ],\n",
              "       [ 428.75],\n",
              "       [ 427.1 ],\n",
              "       [ 420.1 ],\n",
              "       [ 417.2 ],\n",
              "       [ 413.3 ],\n",
              "       [ 414.15],\n",
              "       [ 418.5 ],\n",
              "       [ 417.9 ],\n",
              "       [ 416.7 ],\n",
              "       [ 421.6 ],\n",
              "       [ 418.  ],\n",
              "       [ 410.5 ],\n",
              "       [ 402.6 ],\n",
              "       [ 394.45],\n",
              "       [ 378.35],\n",
              "       [ 384.8 ],\n",
              "       [ 394.15],\n",
              "       [ 391.3 ],\n",
              "       [ 385.9 ],\n",
              "       [ 387.95],\n",
              "       [ 394.8 ],\n",
              "       [ 393.9 ],\n",
              "       [ 385.6 ],\n",
              "       [ 386.9 ],\n",
              "       [ 382.  ],\n",
              "       [ 389.45],\n",
              "       [ 412.9 ],\n",
              "       [ 418.2 ],\n",
              "       [ 412.25],\n",
              "       [ 411.5 ],\n",
              "       [ 413.  ],\n",
              "       [ 415.3 ],\n",
              "       [ 408.4 ],\n",
              "       [ 400.75],\n",
              "       [ 403.15],\n",
              "       [ 408.4 ],\n",
              "       [ 422.15],\n",
              "       [ 419.05],\n",
              "       [ 445.6 ],\n",
              "       [ 443.65],\n",
              "       [ 452.1 ],\n",
              "       [ 446.65],\n",
              "       [ 444.8 ],\n",
              "       [ 445.45],\n",
              "       [ 442.  ],\n",
              "       [ 435.45],\n",
              "       [ 440.1 ],\n",
              "       [ 436.75],\n",
              "       [ 445.85],\n",
              "       [ 441.05],\n",
              "       [ 440.55],\n",
              "       [ 444.15],\n",
              "       [ 441.6 ],\n",
              "       [ 439.9 ],\n",
              "       [ 443.  ],\n",
              "       [ 436.5 ],\n",
              "       [ 429.45],\n",
              "       [ 433.2 ],\n",
              "       [ 427.75],\n",
              "       [ 417.95],\n",
              "       [ 420.7 ],\n",
              "       [ 426.  ],\n",
              "       [ 420.45],\n",
              "       [ 428.  ],\n",
              "       [ 440.1 ],\n",
              "       [ 439.3 ],\n",
              "       [ 432.2 ],\n",
              "       [ 435.85],\n",
              "       [ 422.4 ],\n",
              "       [ 416.65],\n",
              "       [ 411.35],\n",
              "       [ 415.7 ],\n",
              "       [ 419.  ],\n",
              "       [ 410.75],\n",
              "       [ 412.55],\n",
              "       [ 416.1 ],\n",
              "       [ 419.15],\n",
              "       [ 416.5 ],\n",
              "       [ 412.05],\n",
              "       [ 401.6 ],\n",
              "       [ 409.2 ],\n",
              "       [ 420.8 ],\n",
              "       [ 424.25],\n",
              "       [ 426.55],\n",
              "       [ 437.65],\n",
              "       [ 461.3 ],\n",
              "       [ 458.7 ],\n",
              "       [ 465.5 ],\n",
              "       [ 469.5 ],\n",
              "       [ 472.15],\n",
              "       [ 473.  ],\n",
              "       [ 469.4 ],\n",
              "       [ 476.8 ],\n",
              "       [ 471.2 ],\n",
              "       [ 475.2 ],\n",
              "       [ 473.55],\n",
              "       [ 478.2 ],\n",
              "       [ 481.6 ],\n",
              "       [ 484.95],\n",
              "       [ 480.25],\n",
              "       [ 483.7 ],\n",
              "       [ 480.8 ],\n",
              "       [ 477.1 ],\n",
              "       [ 500.5 ],\n",
              "       [ 503.65],\n",
              "       [ 509.5 ],\n",
              "       [ 511.6 ],\n",
              "       [ 515.95],\n",
              "       [ 530.85],\n",
              "       [ 521.15],\n",
              "       [ 515.5 ],\n",
              "       [ 508.45],\n",
              "       [ 524.95],\n",
              "       [ 522.5 ],\n",
              "       [ 528.5 ],\n",
              "       [ 520.2 ],\n",
              "       [ 514.85],\n",
              "       [ 518.45],\n",
              "       [ 521.45],\n",
              "       [ 518.8 ],\n",
              "       [ 526.3 ],\n",
              "       [ 535.2 ],\n",
              "       [ 535.9 ],\n",
              "       [ 546.25],\n",
              "       [ 555.75],\n",
              "       [ 567.95],\n",
              "       [ 559.7 ],\n",
              "       [ 562.3 ],\n",
              "       [ 564.15],\n",
              "       [ 562.2 ],\n",
              "       [ 570.3 ],\n",
              "       [ 568.45],\n",
              "       [ 569.8 ],\n",
              "       [ 566.05],\n",
              "       [ 583.25],\n",
              "       [ 581.4 ],\n",
              "       [ 569.35],\n",
              "       [ 559.65],\n",
              "       [ 567.85],\n",
              "       [ 573.1 ],\n",
              "       [ 586.65],\n",
              "       [ 595.55],\n",
              "       [ 590.8 ],\n",
              "       [ 591.45],\n",
              "       [ 588.25],\n",
              "       [ 600.8 ],\n",
              "       [ 618.2 ],\n",
              "       [ 618.65],\n",
              "       [ 628.5 ],\n",
              "       [ 621.45],\n",
              "       [ 620.65],\n",
              "       [ 624.9 ],\n",
              "       [ 618.5 ],\n",
              "       [ 612.1 ],\n",
              "       [ 620.6 ],\n",
              "       [ 621.65],\n",
              "       [ 625.75],\n",
              "       [ 629.25],\n",
              "       [ 639.45],\n",
              "       [ 641.1 ],\n",
              "       [ 643.7 ],\n",
              "       [ 635.3 ],\n",
              "       [ 644.3 ],\n",
              "       [ 643.65],\n",
              "       [ 622.65],\n",
              "       [ 618.95],\n",
              "       [ 615.  ],\n",
              "       [ 609.5 ],\n",
              "       [ 607.3 ],\n",
              "       [ 622.55],\n",
              "       [ 618.25],\n",
              "       [ 611.8 ],\n",
              "       [ 607.35],\n",
              "       [ 618.75],\n",
              "       [ 613.75],\n",
              "       [ 615.8 ],\n",
              "       [ 620.5 ],\n",
              "       [ 620.2 ],\n",
              "       [ 613.9 ],\n",
              "       [ 610.95],\n",
              "       [ 605.1 ],\n",
              "       [ 602.4 ],\n",
              "       [ 607.15],\n",
              "       [ 605.55],\n",
              "       [ 601.  ],\n",
              "       [ 611.2 ],\n",
              "       [ 609.  ],\n",
              "       [ 611.15],\n",
              "       [ 610.25],\n",
              "       [ 614.9 ],\n",
              "       [ 627.25],\n",
              "       [ 634.85],\n",
              "       [ 620.8 ],\n",
              "       [ 625.9 ],\n",
              "       [ 624.6 ],\n",
              "       [ 634.25],\n",
              "       [ 640.65],\n",
              "       [ 638.5 ],\n",
              "       [ 627.05],\n",
              "       [ 620.45],\n",
              "       [ 618.7 ],\n",
              "       [ 619.8 ],\n",
              "       [ 620.15],\n",
              "       [ 614.1 ],\n",
              "       [ 630.2 ],\n",
              "       [ 620.45],\n",
              "       [ 613.6 ],\n",
              "       [ 619.6 ],\n",
              "       [ 622.45],\n",
              "       [ 617.35],\n",
              "       [ 630.55],\n",
              "       [ 634.  ],\n",
              "       [ 636.95],\n",
              "       [ 667.1 ],\n",
              "       [ 666.2 ],\n",
              "       [ 655.7 ],\n",
              "       [ 668.5 ],\n",
              "       [ 668.8 ],\n",
              "       [ 663.2 ],\n",
              "       [ 647.35],\n",
              "       [ 637.85],\n",
              "       [ 626.55],\n",
              "       [ 641.05],\n",
              "       [ 628.5 ],\n",
              "       [ 628.65],\n",
              "       [ 627.7 ],\n",
              "       [ 636.45],\n",
              "       [ 647.5 ],\n",
              "       [ 646.05],\n",
              "       [ 645.  ],\n",
              "       [ 642.55],\n",
              "       [ 649.35],\n",
              "       [ 651.05],\n",
              "       [ 653.55],\n",
              "       [ 653.25],\n",
              "       [ 671.55],\n",
              "       [ 680.4 ],\n",
              "       [ 681.55],\n",
              "       [ 674.3 ],\n",
              "       [ 681.7 ],\n",
              "       [ 681.2 ],\n",
              "       [ 679.95],\n",
              "       [ 673.7 ],\n",
              "       [ 697.5 ],\n",
              "       [ 712.35],\n",
              "       [ 706.4 ],\n",
              "       [ 705.45],\n",
              "       [ 705.6 ],\n",
              "       [ 708.95],\n",
              "       [ 722.45],\n",
              "       [ 721.95],\n",
              "       [ 714.55],\n",
              "       [ 720.8 ],\n",
              "       [ 715.4 ],\n",
              "       [ 720.3 ],\n",
              "       [ 719.75],\n",
              "       [ 732.4 ],\n",
              "       [ 730.8 ],\n",
              "       [ 728.95],\n",
              "       [ 705.25],\n",
              "       [ 708.85],\n",
              "       [ 724.7 ],\n",
              "       [ 719.55],\n",
              "       [ 740.9 ],\n",
              "       [ 753.9 ],\n",
              "       [ 779.95],\n",
              "       [ 790.6 ],\n",
              "       [ 784.4 ],\n",
              "       [ 781.45],\n",
              "       [ 795.75],\n",
              "       [ 790.95],\n",
              "       [ 789.1 ],\n",
              "       [ 799.8 ],\n",
              "       [ 808.45],\n",
              "       [ 815.65],\n",
              "       [ 816.45],\n",
              "       [ 812.45],\n",
              "       [ 818.85],\n",
              "       [ 805.55],\n",
              "       [ 819.05],\n",
              "       [ 823.55],\n",
              "       [ 818.9 ],\n",
              "       [ 800.45],\n",
              "       [ 810.9 ],\n",
              "       [ 811.85],\n",
              "       [ 841.  ],\n",
              "       [ 858.85],\n",
              "       [ 884.2 ],\n",
              "       [ 878.5 ],\n",
              "       [ 878.75],\n",
              "       [ 926.8 ],\n",
              "       [ 939.55],\n",
              "       [ 933.8 ],\n",
              "       [ 924.3 ],\n",
              "       [ 915.  ],\n",
              "       [ 911.6 ],\n",
              "       [ 906.9 ],\n",
              "       [ 918.3 ],\n",
              "       [ 920.55],\n",
              "       [ 938.6 ],\n",
              "       [ 932.6 ],\n",
              "       [ 926.35],\n",
              "       [ 921.05],\n",
              "       [ 932.3 ],\n",
              "       [ 937.4 ],\n",
              "       [ 936.95],\n",
              "       [ 962.7 ],\n",
              "       [ 958.05],\n",
              "       [ 950.2 ],\n",
              "       [ 977.4 ],\n",
              "       [ 988.35],\n",
              "       [ 987.2 ],\n",
              "       [1021.9 ],\n",
              "       [1017.65],\n",
              "       [1039.3 ],\n",
              "       [1028.  ],\n",
              "       [1016.5 ],\n",
              "       [ 973.2 ],\n",
              "       [ 967.75],\n",
              "       [ 945.85],\n",
              "       [ 972.45],\n",
              "       [ 957.75],\n",
              "       [ 940.45],\n",
              "       [ 964.9 ],\n",
              "       [ 979.8 ],\n",
              "       [ 986.2 ],\n",
              "       [ 978.65],\n",
              "       [ 992.8 ],\n",
              "       [ 992.25],\n",
              "       [1004.65],\n",
              "       [1009.15],\n",
              "       [1011.6 ],\n",
              "       [1007.1 ],\n",
              "       [1013.2 ],\n",
              "       [1008.5 ],\n",
              "       [1013.5 ],\n",
              "       [1018.5 ],\n",
              "       [ 998.8 ],\n",
              "       [ 992.8 ],\n",
              "       [ 971.35],\n",
              "       [ 963.2 ],\n",
              "       [ 973.55],\n",
              "       [ 986.75],\n",
              "       [ 991.65],\n",
              "       [1001.25],\n",
              "       [ 999.5 ],\n",
              "       [1000.6 ],\n",
              "       [1007.9 ],\n",
              "       [1027.8 ],\n",
              "       [1013.4 ],\n",
              "       [1016.2 ],\n",
              "       [ 988.55],\n",
              "       [1012.1 ],\n",
              "       [1030.3 ],\n",
              "       [1046.65],\n",
              "       [ 959.75],\n",
              "       [ 964.65],\n",
              "       [ 947.3 ],\n",
              "       [ 936.4 ],\n",
              "       [ 945.7 ],\n",
              "       [ 953.95],\n",
              "       [ 951.3 ],\n",
              "       [ 947.5 ],\n",
              "       [ 962.35],\n",
              "       [ 960.55],\n",
              "       [ 958.5 ],\n",
              "       [ 947.55],\n",
              "       [ 943.6 ],\n",
              "       [ 923.95],\n",
              "       [ 923.  ],\n",
              "       [ 950.45],\n",
              "       [ 903.9 ],\n",
              "       [ 929.95],\n",
              "       [ 938.25],\n",
              "       [ 970.5 ],\n",
              "       [ 975.15],\n",
              "       [ 987.1 ],\n",
              "       [ 988.7 ],\n",
              "       [ 985.85],\n",
              "       [ 993.4 ],\n",
              "       [ 985.9 ],\n",
              "       [ 977.35]])"
            ]
          },
          "metadata": {},
          "execution_count": 85
        }
      ]
    },
    {
      "cell_type": "code",
      "source": [
        "full_data = pd.DataFrame(np.concatenate((df_array.flatten(), forecast.flatten())))"
      ],
      "metadata": {
        "id": "2fAWMtGGLI3O"
      },
      "execution_count": null,
      "outputs": []
    },
    {
      "cell_type": "code",
      "source": [
        "full_data.plot()"
      ],
      "metadata": {
        "colab": {
          "base_uri": "https://localhost:8080/",
          "height": 447
        },
        "id": "kEo9v6olLMT8",
        "outputId": "5e2b1467-7f78-4067-b48e-36ad250825d8"
      },
      "execution_count": null,
      "outputs": [
        {
          "output_type": "execute_result",
          "data": {
            "text/plain": [
              "<Axes: >"
            ]
          },
          "metadata": {},
          "execution_count": 87
        },
        {
          "output_type": "display_data",
          "data": {
            "text/plain": [
              "<Figure size 640x480 with 1 Axes>"
            ],
            "image/png": "[encoded data removed]"
          },
          "metadata": {}
        }
      ]
    },
    {
      "cell_type": "markdown",
      "source": [
        "#LSTM model"
      ],
      "metadata": {
        "id": "pH3KyUm9LhyW"
      }
    },
    {
      "cell_type": "code",
      "source": [
        "from tensorflow.keras.callbacks import EarlyStopping\n",
        "early_stop = EarlyStopping(monitor='val_loss',patience=2)"
      ],
      "metadata": {
        "id": "k_BaXJE-LjQ1"
      },
      "execution_count": null,
      "outputs": []
    },
    {
      "cell_type": "code",
      "source": [
        "length"
      ],
      "metadata": {
        "colab": {
          "base_uri": "https://localhost:8080/"
        },
        "id": "jBwG7ofvLlKS",
        "outputId": "35725ad5-98bc-4730-f2ac-3e2090b47b36"
      },
      "execution_count": null,
      "outputs": [
        {
          "output_type": "execute_result",
          "data": {
            "text/plain": [
              "16"
            ]
          },
          "metadata": {},
          "execution_count": 89
        }
      ]
    },
    {
      "cell_type": "code",
      "source": [
        "scaled_test.shape"
      ],
      "metadata": {
        "colab": {
          "base_uri": "https://localhost:8080/"
        },
        "id": "rEM134T5LmZg",
        "outputId": "bfe0273d-dd68-41ac-aeb8-3f27fda4a1b8"
      },
      "execution_count": null,
      "outputs": [
        {
          "output_type": "execute_result",
          "data": {
            "text/plain": [
              "(16, 1)"
            ]
          },
          "metadata": {},
          "execution_count": 90
        }
      ]
    },
    {
      "cell_type": "code",
      "source": [
        "length = 15\n",
        "generator = TimeseriesGenerator(scaled_train,scaled_train,\n",
        "                                length = length, batch_size=32)\n",
        "validation_generator = TimeseriesGenerator(scaled_test,scaled_test,\n",
        "                                length = length, batch_size=32)\n"
      ],
      "metadata": {
        "id": "tAqVNQq0LoCR"
      },
      "execution_count": null,
      "outputs": []
    },
    {
      "cell_type": "code",
      "source": [
        "model = Sequential()\n",
        "\n",
        "model.add(LSTM(30,input_shape=(length,n_features)))\n",
        "\n",
        "#model.add(LSTM(30)) - stacked LSTM\n",
        "\n",
        "model.add(Dropout(rate=0.2))\n",
        "\n",
        "model.add(Dense(1))\n",
        "\n",
        "model.compile(optimizer='adam',loss='mse')"
      ],
      "metadata": {
        "id": "84D0pHPXLsqU"
      },
      "execution_count": null,
      "outputs": []
    },
    {
      "cell_type": "code",
      "source": [
        "model.fit(generator,epochs=20,\n",
        "          validation_data = validation_generator,\n",
        "          callbacks=[early_stop],shuffle=False)"
      ],
      "metadata": {
        "colab": {
          "base_uri": "https://localhost:8080/"
        },
        "id": "b9nfdoNaLuzN",
        "outputId": "51949cf3-b85f-4696-a47a-74e6873d4b7a"
      },
      "execution_count": null,
      "outputs": [
        {
          "output_type": "stream",
          "name": "stdout",
          "text": [
            "Epoch 1/20\n",
            "15/15 [==============================] - 3s 50ms/step - loss: 0.0493 - val_loss: 0.1045\n",
            "Epoch 2/20\n",
            "15/15 [==============================] - 0s 11ms/step - loss: 0.0082 - val_loss: 0.0019\n",
            "Epoch 3/20\n",
            "15/15 [==============================] - 0s 11ms/step - loss: 0.0103 - val_loss: 0.0033\n",
            "Epoch 4/20\n",
            "15/15 [==============================] - 0s 12ms/step - loss: 0.0060 - val_loss: 0.0021\n"
          ]
        },
        {
          "output_type": "execute_result",
          "data": {
            "text/plain": [
              "<keras.src.callbacks.History at 0x788fc00e4b50>"
            ]
          },
          "metadata": {},
          "execution_count": 95
        }
      ]
    },
    {
      "cell_type": "code",
      "source": [
        "losses=pd.DataFrame(model.history.history)\n",
        "losses.plot()"
      ],
      "metadata": {
        "colab": {
          "base_uri": "https://localhost:8080/",
          "height": 447
        },
        "id": "9RClDhuCL0GV",
        "outputId": "16730236-3ed7-40ca-dcff-a815b87d7e02"
      },
      "execution_count": null,
      "outputs": [
        {
          "output_type": "execute_result",
          "data": {
            "text/plain": [
              "<Axes: >"
            ]
          },
          "metadata": {},
          "execution_count": 96
        },
        {
          "output_type": "display_data",
          "data": {
            "text/plain": [
              "<Figure size 640x480 with 1 Axes>"
            ],
            "image/png": "[encoded data removed]"
          },
          "metadata": {}
        }
      ]
    },
    {
      "cell_type": "code",
      "source": [
        "test_predictions = []\n",
        "\n",
        "first_eval_batch = scaled_train[-length:]\n",
        "current_batch = first_eval_batch.reshape((1,length,n_features))\n",
        "\n",
        "for i in range(len(test)):\n",
        "\n",
        "  #get prediction 1 time stamp ahead ([8] is for grabbing just the number instead of (array])\n",
        "  current_pred = model.predict(current_batch)[0]\n",
        "\n",
        "  #store prediction\n",
        "  test_predictions.append(current_pred)\n",
        "\n",
        "  #update batch to now include prediction and drop first value\n",
        "  current_batch = np.append(current_batch[:,1:,:],[[current_pred]],axis=1)"
      ],
      "metadata": {
        "colab": {
          "base_uri": "https://localhost:8080/"
        },
        "id": "aE3Z-7MsL2OX",
        "outputId": "3167f40c-cadb-48b8-a7d6-f9ff5fc4e6ff"
      },
      "execution_count": null,
      "outputs": [
        {
          "output_type": "stream",
          "name": "stdout",
          "text": [
            "1/1 [==============================] - 0s 452ms/step\n",
            "1/1 [==============================] - 0s 22ms/step\n",
            "1/1 [==============================] - 0s 21ms/step\n",
            "1/1 [==============================] - 0s 23ms/step\n",
            "1/1 [==============================] - 0s 28ms/step\n",
            "1/1 [==============================] - 0s 21ms/step\n",
            "1/1 [==============================] - 0s 24ms/step\n",
            "1/1 [==============================] - 0s 32ms/step\n",
            "1/1 [==============================] - 0s 22ms/step\n",
            "1/1 [==============================] - 0s 23ms/step\n",
            "1/1 [==============================] - 0s 26ms/step\n",
            "1/1 [==============================] - 0s 22ms/step\n",
            "1/1 [==============================] - 0s 26ms/step\n",
            "1/1 [==============================] - 0s 22ms/step\n",
            "1/1 [==============================] - 0s 21ms/step\n",
            "1/1 [==============================] - 0s 21ms/step\n"
          ]
        }
      ]
    },
    {
      "cell_type": "code",
      "source": [
        "true_predictions = scaler.inverse_transform(test_predictions)\n",
        "test.loc[:,'LSTM_predictions'] = true_predictions\n",
        "test.plot(figsize=(12,8))"
      ],
      "metadata": {
        "colab": {
          "base_uri": "https://localhost:8080/",
          "height": 797
        },
        "id": "CRx_bju8L6Pa",
        "outputId": "26e318c4-ee00-4bbf-e42e-d5503400ef76"
      },
      "execution_count": null,
      "outputs": [
        {
          "output_type": "stream",
          "name": "stderr",
          "text": [
            "<ipython-input-99-763b8d252c92>:2: SettingWithCopyWarning: \n",
            "A value is trying to be set on a copy of a slice from a DataFrame.\n",
            "Try using .loc[row_indexer,col_indexer] = value instead\n",
            "\n",
            "See the caveats in the documentation: https://pandas.pydata.org/pandas-docs/stable/user_guide/indexing.html#returning-a-view-versus-a-copy\n",
            "  test.loc[:,'LSTM_predictions'] = true_predictions\n"
          ]
        },
        {
          "output_type": "execute_result",
          "data": {
            "text/plain": [
              "<Axes: >"
            ]
          },
          "metadata": {},
          "execution_count": 99
        },
        {
          "output_type": "display_data",
          "data": {
            "text/plain": [
              "<Figure size 1200x800 with 1 Axes>"
            ],
            "image/png": "[encoded data removed]"
          },
          "metadata": {}
        }
      ]
    },
    {
      "cell_type": "code",
      "source": [
        "forecast = []\n",
        "\n",
        "first_eval_batch = scaled_train[-length:]\n",
        "current_batch = first_eval_batch.reshape((1,length,n_features))\n",
        "\n",
        "for i in range(15):\n",
        "\n",
        "  #get prediction 1 time stamp ahead ([8] is for grabbing just the number instead of (array])\n",
        "  current_pred = model.predict(current_batch)[0]\n",
        "\n",
        "  #store prediction\n",
        "  forecast.append(current_pred)\n",
        "\n",
        "  #update batch to now include prediction and drop first value\n",
        "  current_batch = np.append(current_batch[:,1:,:],[[current_pred]],axis=1)"
      ],
      "metadata": {
        "colab": {
          "base_uri": "https://localhost:8080/"
        },
        "id": "pZp4hGSoMAy_",
        "outputId": "3fbf8643-c5b9-4991-9a15-96172889203d"
      },
      "execution_count": null,
      "outputs": [
        {
          "output_type": "stream",
          "name": "stdout",
          "text": [
            "1/1 [==============================] - 0s 75ms/step\n",
            "1/1 [==============================] - 0s 51ms/step\n",
            "1/1 [==============================] - 0s 35ms/step\n",
            "1/1 [==============================] - 0s 35ms/step\n",
            "1/1 [==============================] - 0s 111ms/step\n",
            "1/1 [==============================] - 0s 33ms/step\n",
            "1/1 [==============================] - 0s 26ms/step\n",
            "1/1 [==============================] - 0s 21ms/step\n",
            "1/1 [==============================] - 0s 25ms/step\n",
            "1/1 [==============================] - 0s 22ms/step\n",
            "1/1 [==============================] - 0s 21ms/step\n",
            "1/1 [==============================] - 0s 21ms/step\n",
            "1/1 [==============================] - 0s 21ms/step\n",
            "1/1 [==============================] - 0s 22ms/step\n",
            "1/1 [==============================] - 0s 22ms/step\n"
          ]
        }
      ]
    },
    {
      "cell_type": "code",
      "source": [
        "forecast=scaler.inverse_transform(forecast)"
      ],
      "metadata": {
        "id": "GQw1rwDjMCzT"
      },
      "execution_count": null,
      "outputs": []
    },
    {
      "cell_type": "code",
      "source": [
        "full_data = pd.DataFrame(np.concatenate((df_array.flatten(), forecast.flatten())))"
      ],
      "metadata": {
        "id": "ayU3kcRAMETx"
      },
      "execution_count": null,
      "outputs": []
    },
    {
      "cell_type": "code",
      "source": [
        "full_data.plot();"
      ],
      "metadata": {
        "colab": {
          "base_uri": "https://localhost:8080/",
          "height": 430
        },
        "id": "Ust6w_H5MGot",
        "outputId": "5ff357d5-1ede-49df-9834-8f71bc7ee61e"
      },
      "execution_count": null,
      "outputs": [
        {
          "output_type": "display_data",
          "data": {
            "text/plain": [
              "<Figure size 640x480 with 1 Axes>"
            ],
            "image/png": "[encoded data removed]"
          },
          "metadata": {}
        }
      ]
    },
    {
      "cell_type": "code",
      "source": [
        "forecast"
      ],
      "metadata": {
        "colab": {
          "base_uri": "https://localhost:8080/"
        },
        "id": "op-GUiNBMILq",
        "outputId": "db3c7e73-c79c-4927-af9b-b5c367614e11"
      },
      "execution_count": null,
      "outputs": [
        {
          "output_type": "execute_result",
          "data": {
            "text/plain": [
              "array([[937.18034804],\n",
              "       [934.60501423],\n",
              "       [931.64261554],\n",
              "       [928.41189649],\n",
              "       [925.02821569],\n",
              "       [922.27526304],\n",
              "       [919.40105635],\n",
              "       [916.61293046],\n",
              "       [913.87017526],\n",
              "       [911.04217576],\n",
              "       [908.17183294],\n",
              "       [905.3580541 ],\n",
              "       [902.60820848],\n",
              "       [899.78821557],\n",
              "       [897.04052098]])"
            ]
          },
          "metadata": {},
          "execution_count": 104
        }
      ]
    },
    {
      "cell_type": "code",
      "source": [
        "full_data.tail(30)"
      ],
      "metadata": {
        "colab": {
          "base_uri": "https://localhost:8080/",
          "height": 990
        },
        "id": "VMVq7qxmMK_h",
        "outputId": "addb9d27-8372-46a1-9010-2be8adc79af2"
      },
      "execution_count": null,
      "outputs": [
        {
          "output_type": "execute_result",
          "data": {
            "text/plain": [
              "              0\n",
              "481  943.600000\n",
              "482  923.950000\n",
              "483  923.000000\n",
              "484  950.450000\n",
              "485  903.900000\n",
              "486  929.950000\n",
              "487  938.250000\n",
              "488  970.500000\n",
              "489  975.150000\n",
              "490  987.100000\n",
              "491  988.700000\n",
              "492  985.850000\n",
              "493  993.400000\n",
              "494  985.900000\n",
              "495  977.350000\n",
              "496  937.180348\n",
              "497  934.605014\n",
              "498  931.642616\n",
              "499  928.411896\n",
              "500  925.028216\n",
              "501  922.275263\n",
              "502  919.401056\n",
              "503  916.612930\n",
              "504  913.870175\n",
              "505  911.042176\n",
              "506  908.171833\n",
              "507  905.358054\n",
              "508  902.608208\n",
              "509  899.788216\n",
              "510  897.040521"
            ],
            "text/html": [
              "\n",
              "  <div id=\"df-2ca818cd-ba08-4e7d-901a-12fdb8d354b3\" class=\"colab-df-container\">\n",
              "    <div>\n",
              "<style scoped>\n",
              "    .dataframe tbody tr th:only-of-type {\n",
              "        vertical-align: middle;\n",
              "    }\n",
              "\n",
              "    .dataframe tbody tr th {\n",
              "        vertical-align: top;\n",
              "    }\n",
              "\n",
              "    .dataframe thead th {\n",
              "        text-align: right;\n",
              "    }\n",
              "</style>\n",
              "<table border=\"1\" class=\"dataframe\">\n",
              "  <thead>\n",
              "    <tr style=\"text-align: right;\">\n",
              "      <th></th>\n",
              "      <th>0</th>\n",
              "    </tr>\n",
              "  </thead>\n",
              "  <tbody>\n",
              "    <tr>\n",
              "      <th>481</th>\n",
              "      <td>943.600000</td>\n",
              "    </tr>\n",
              "    <tr>\n",
              "      <th>482</th>\n",
              "      <td>923.950000</td>\n",
              "    </tr>\n",
              "    <tr>\n",
              "      <th>483</th>\n",
              "      <td>923.000000</td>\n",
              "    </tr>\n",
              "    <tr>\n",
              "      <th>484</th>\n",
              "      <td>950.450000</td>\n",
              "    </tr>\n",
              "    <tr>\n",
              "      <th>485</th>\n",
              "      <td>903.900000</td>\n",
              "    </tr>\n",
              "    <tr>\n",
              "      <th>486</th>\n",
              "      <td>929.950000</td>\n",
              "    </tr>\n",
              "    <tr>\n",
              "      <th>487</th>\n",
              "      <td>938.250000</td>\n",
              "    </tr>\n",
              "    <tr>\n",
              "      <th>488</th>\n",
              "      <td>970.500000</td>\n",
              "    </tr>\n",
              "    <tr>\n",
              "      <th>489</th>\n",
              "      <td>975.150000</td>\n",
              "    </tr>\n",
              "    <tr>\n",
              "      <th>490</th>\n",
              "      <td>987.100000</td>\n",
              "    </tr>\n",
              "    <tr>\n",
              "      <th>491</th>\n",
              "      <td>988.700000</td>\n",
              "    </tr>\n",
              "    <tr>\n",
              "      <th>492</th>\n",
              "      <td>985.850000</td>\n",
              "    </tr>\n",
              "    <tr>\n",
              "      <th>493</th>\n",
              "      <td>993.400000</td>\n",
              "    </tr>\n",
              "    <tr>\n",
              "      <th>494</th>\n",
              "      <td>985.900000</td>\n",
              "    </tr>\n",
              "    <tr>\n",
              "      <th>495</th>\n",
              "      <td>977.350000</td>\n",
              "    </tr>\n",
              "    <tr>\n",
              "      <th>496</th>\n",
              "      <td>937.180348</td>\n",
              "    </tr>\n",
              "    <tr>\n",
              "      <th>497</th>\n",
              "      <td>934.605014</td>\n",
              "    </tr>\n",
              "    <tr>\n",
              "      <th>498</th>\n",
              "      <td>931.642616</td>\n",
              "    </tr>\n",
              "    <tr>\n",
              "      <th>499</th>\n",
              "      <td>928.411896</td>\n",
              "    </tr>\n",
              "    <tr>\n",
              "      <th>500</th>\n",
              "      <td>925.028216</td>\n",
              "    </tr>\n",
              "    <tr>\n",
              "      <th>501</th>\n",
              "      <td>922.275263</td>\n",
              "    </tr>\n",
              "    <tr>\n",
              "      <th>502</th>\n",
              "      <td>919.401056</td>\n",
              "    </tr>\n",
              "    <tr>\n",
              "      <th>503</th>\n",
              "      <td>916.612930</td>\n",
              "    </tr>\n",
              "    <tr>\n",
              "      <th>504</th>\n",
              "      <td>913.870175</td>\n",
              "    </tr>\n",
              "    <tr>\n",
              "      <th>505</th>\n",
              "      <td>911.042176</td>\n",
              "    </tr>\n",
              "    <tr>\n",
              "      <th>506</th>\n",
              "      <td>908.171833</td>\n",
              "    </tr>\n",
              "    <tr>\n",
              "      <th>507</th>\n",
              "      <td>905.358054</td>\n",
              "    </tr>\n",
              "    <tr>\n",
              "      <th>508</th>\n",
              "      <td>902.608208</td>\n",
              "    </tr>\n",
              "    <tr>\n",
              "      <th>509</th>\n",
              "      <td>899.788216</td>\n",
              "    </tr>\n",
              "    <tr>\n",
              "      <th>510</th>\n",
              "      <td>897.040521</td>\n",
              "    </tr>\n",
              "  </tbody>\n",
              "</table>\n",
              "</div>\n",
              "    <div class=\"colab-df-buttons\">\n",
              "\n",
              "  <div class=\"colab-df-container\">\n",
              "    <button class=\"colab-df-convert\" onclick=\"convertToInteractive('df-2ca818cd-ba08-4e7d-901a-12fdb8d354b3')\"\n",
              "            title=\"Convert this dataframe to an interactive table.\"\n",
              "            style=\"display:none;\">\n",
              "\n",
              "  <svg xmlns=\"http://www.w3.org/2000/svg\" height=\"24px\" viewBox=\"0 -960 960 960\">\n",
              "    <path d=\"M120-120v-720h720v720H120Zm60-500h600v-160H180v160Zm220 220h160v-160H400v160Zm0 220h160v-160H400v160ZM180-400h160v-160H180v160Zm440 0h160v-160H620v160ZM180-180h160v-160H180v160Zm440 0h160v-160H620v160Z\"/>\n",
              "  </svg>\n",
              "    </button>\n",
              "\n",
              "  <style>\n",
              "    .colab-df-container {\n",
              "      display:flex;\n",
              "      gap: 12px;\n",
              "    }\n",
              "\n",
              "    .colab-df-convert {\n",
              "      background-color: #E8F0FE;\n",
              "      border: none;\n",
              "      border-radius: 50%;\n",
              "      cursor: pointer;\n",
              "      display: none;\n",
              "      fill: #1967D2;\n",
              "      height: 32px;\n",
              "      padding: 0 0 0 0;\n",
              "      width: 32px;\n",
              "    }\n",
              "\n",
              "    .colab-df-convert:hover {\n",
              "      background-color: #E2EBFA;\n",
              "      box-shadow: 0px 1px 2px rgba(60, 64, 67, 0.3), 0px 1px 3px 1px rgba(60, 64, 67, 0.15);\n",
              "      fill: #174EA6;\n",
              "    }\n",
              "\n",
              "    .colab-df-buttons div {\n",
              "      margin-bottom: 4px;\n",
              "    }\n",
              "\n",
              "    [theme=dark] .colab-df-convert {\n",
              "      background-color: #3B4455;\n",
              "      fill: #D2E3FC;\n",
              "    }\n",
              "\n",
              "    [theme=dark] .colab-df-convert:hover {\n",
              "      background-color: #434B5C;\n",
              "      box-shadow: 0px 1px 3px 1px rgba(0, 0, 0, 0.15);\n",
              "      filter: drop-shadow(0px 1px 2px rgba(0, 0, 0, 0.3));\n",
              "      fill: #FFFFFF;\n",
              "    }\n",
              "  </style>\n",
              "\n",
              "    <script>\n",
              "      const buttonEl =\n",
              "        document.querySelector('#df-2ca818cd-ba08-4e7d-901a-12fdb8d354b3 button.colab-df-convert');\n",
              "      buttonEl.style.display =\n",
              "        google.colab.kernel.accessAllowed ? 'block' : 'none';\n",
              "\n",
              "      async function convertToInteractive(key) {\n",
              "        const element = document.querySelector('#df-2ca818cd-ba08-4e7d-901a-12fdb8d354b3');\n",
              "        const dataTable =\n",
              "          await google.colab.kernel.invokeFunction('convertToInteractive',\n",
              "                                                    [key], {});\n",
              "        if (!dataTable) return;\n",
              "\n",
              "        const docLinkHtml = 'Like what you see? Visit the ' +\n",
              "          '<a target=\"_blank\" href=https://colab.research.google.com/notebooks/data_table.ipynb>data table notebook</a>'\n",
              "          + ' to learn more about interactive tables.';\n",
              "        element.innerHTML = '';\n",
              "        dataTable['output_type'] = 'display_data';\n",
              "        await google.colab.output.renderOutput(dataTable, element);\n",
              "        const docLink = document.createElement('div');\n",
              "        docLink.innerHTML = docLinkHtml;\n",
              "        element.appendChild(docLink);\n",
              "      }\n",
              "    </script>\n",
              "  </div>\n",
              "\n",
              "\n",
              "<div id=\"df-655f07f5-6d34-4739-ba0c-634d691d58bf\">\n",
              "  <button class=\"colab-df-quickchart\" onclick=\"quickchart('df-655f07f5-6d34-4739-ba0c-634d691d58bf')\"\n",
              "            title=\"Suggest charts\"\n",
              "            style=\"display:none;\">\n",
              "\n",
              "<svg xmlns=\"http://www.w3.org/2000/svg\" height=\"24px\"viewBox=\"0 0 24 24\"\n",
              "     width=\"24px\">\n",
              "    <g>\n",
              "        <path d=\"M19 3H5c-1.1 0-2 .9-2 2v14c0 1.1.9 2 2 2h14c1.1 0 2-.9 2-2V5c0-1.1-.9-2-2-2zM9 17H7v-7h2v7zm4 0h-2V7h2v10zm4 0h-2v-4h2v4z\"/>\n",
              "    </g>\n",
              "</svg>\n",
              "  </button>\n",
              "\n",
              "<style>\n",
              "  .colab-df-quickchart {\n",
              "      --bg-color: #E8F0FE;\n",
              "      --fill-color: #1967D2;\n",
              "      --hover-bg-color: #E2EBFA;\n",
              "      --hover-fill-color: #174EA6;\n",
              "      --disabled-fill-color: #AAA;\n",
              "      --disabled-bg-color: #DDD;\n",
              "  }\n",
              "\n",
              "  [theme=dark] .colab-df-quickchart {\n",
              "      --bg-color: #3B4455;\n",
              "      --fill-color: #D2E3FC;\n",
              "      --hover-bg-color: #434B5C;\n",
              "      --hover-fill-color: #FFFFFF;\n",
              "      --disabled-bg-color: #3B4455;\n",
              "      --disabled-fill-color: #666;\n",
              "  }\n",
              "\n",
              "  .colab-df-quickchart {\n",
              "    background-color: var(--bg-color);\n",
              "    border: none;\n",
              "    border-radius: 50%;\n",
              "    cursor: pointer;\n",
              "    display: none;\n",
              "    fill: var(--fill-color);\n",
              "    height: 32px;\n",
              "    padding: 0;\n",
              "    width: 32px;\n",
              "  }\n",
              "\n",
              "  .colab-df-quickchart:hover {\n",
              "    background-color: var(--hover-bg-color);\n",
              "    box-shadow: 0 1px 2px rgba(60, 64, 67, 0.3), 0 1px 3px 1px rgba(60, 64, 67, 0.15);\n",
              "    fill: var(--button-hover-fill-color);\n",
              "  }\n",
              "\n",
              "  .colab-df-quickchart-complete:disabled,\n",
              "  .colab-df-quickchart-complete:disabled:hover {\n",
              "    background-color: var(--disabled-bg-color);\n",
              "    fill: var(--disabled-fill-color);\n",
              "    box-shadow: none;\n",
              "  }\n",
              "\n",
              "  .colab-df-spinner {\n",
              "    border: 2px solid var(--fill-color);\n",
              "    border-color: transparent;\n",
              "    border-bottom-color: var(--fill-color);\n",
              "    animation:\n",
              "      spin 1s steps(1) infinite;\n",
              "  }\n",
              "\n",
              "  @keyframes spin {\n",
              "    0% {\n",
              "      border-color: transparent;\n",
              "      border-bottom-color: var(--fill-color);\n",
              "      border-left-color: var(--fill-color);\n",
              "    }\n",
              "    20% {\n",
              "      border-color: transparent;\n",
              "      border-left-color: var(--fill-color);\n",
              "      border-top-color: var(--fill-color);\n",
              "    }\n",
              "    30% {\n",
              "      border-color: transparent;\n",
              "      border-left-color: var(--fill-color);\n",
              "      border-top-color: var(--fill-color);\n",
              "      border-right-color: var(--fill-color);\n",
              "    }\n",
              "    40% {\n",
              "      border-color: transparent;\n",
              "      border-right-color: var(--fill-color);\n",
              "      border-top-color: var(--fill-color);\n",
              "    }\n",
              "    60% {\n",
              "      border-color: transparent;\n",
              "      border-right-color: var(--fill-color);\n",
              "    }\n",
              "    80% {\n",
              "      border-color: transparent;\n",
              "      border-right-color: var(--fill-color);\n",
              "      border-bottom-color: var(--fill-color);\n",
              "    }\n",
              "    90% {\n",
              "      border-color: transparent;\n",
              "      border-bottom-color: var(--fill-color);\n",
              "    }\n",
              "  }\n",
              "</style>\n",
              "\n",
              "  <script>\n",
              "    async function quickchart(key) {\n",
              "      const quickchartButtonEl =\n",
              "        document.querySelector('#' + key + ' button');\n",
              "      quickchartButtonEl.disabled = true;  // To prevent multiple clicks.\n",
              "      quickchartButtonEl.classList.add('colab-df-spinner');\n",
              "      try {\n",
              "        const charts = await google.colab.kernel.invokeFunction(\n",
              "            'suggestCharts', [key], {});\n",
              "      } catch (error) {\n",
              "        console.error('Error during call to suggestCharts:', error);\n",
              "      }\n",
              "      quickchartButtonEl.classList.remove('colab-df-spinner');\n",
              "      quickchartButtonEl.classList.add('colab-df-quickchart-complete');\n",
              "    }\n",
              "    (() => {\n",
              "      let quickchartButtonEl =\n",
              "        document.querySelector('#df-655f07f5-6d34-4739-ba0c-634d691d58bf button');\n",
              "      quickchartButtonEl.style.display =\n",
              "        google.colab.kernel.accessAllowed ? 'block' : 'none';\n",
              "    })();\n",
              "  </script>\n",
              "</div>\n",
              "\n",
              "    </div>\n",
              "  </div>\n"
            ],
            "application/vnd.google.colaboratory.intrinsic+json": {
              "type": "dataframe",
              "summary": "{\n  \"name\": \"full_data\",\n  \"rows\": 30,\n  \"fields\": [\n    {\n      \"column\": 0,\n      \"properties\": {\n        \"dtype\": \"number\",\n        \"std\": 30.77753693915028,\n        \"min\": 897.040520977974,\n        \"max\": 993.4,\n        \"num_unique_values\": 30,\n        \"samples\": [\n          902.6082084834576,\n          937.1803480446339,\n          913.8701752603055\n        ],\n        \"semantic_type\": \"\",\n        \"description\": \"\"\n      }\n    }\n  ]\n}"
            }
          },
          "metadata": {},
          "execution_count": 105
        }
      ]
    }
  ]
}