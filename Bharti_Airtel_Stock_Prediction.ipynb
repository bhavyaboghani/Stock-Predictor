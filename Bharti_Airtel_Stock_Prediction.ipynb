{
  "nbformat": 4,
  "nbformat_minor": 0,
  "metadata": {
    "colab": {
      "provenance": []
    },
    "kernelspec": {
      "name": "python3",
      "display_name": "Python 3"
    },
    "language_info": {
      "name": "python"
    }
  },
  "cells": [
    {
      "cell_type": "code",
      "execution_count": null,
      "metadata": {
        "id": "JPeOl5b7yDM6"
      },
      "outputs": [],
      "source": [
        "import pandas as pd\n",
        "import numpy as np\n",
        "import matplotlib.pyplot as plt"
      ]
    },
    {
      "cell_type": "code",
      "source": [
        "df = pd.read_excel('Bharti_Airtel_Prices.xlsx',parse_dates=True,index_col='Date ')"
      ],
      "metadata": {
        "id": "FiYJIfisykDh"
      },
      "execution_count": null,
      "outputs": []
    },
    {
      "cell_type": "code",
      "source": [
        "df.head()"
      ],
      "metadata": {
        "colab": {
          "base_uri": "https://localhost:8080/",
          "height": 237
        },
        "id": "FUWbaoaQzE5G",
        "outputId": "dcf5b60b-6ad8-40d1-dfd2-42697dd727b4"
      },
      "execution_count": null,
      "outputs": [
        {
          "output_type": "execute_result",
          "data": {
            "text/plain": [
              "             OPEN    HIGH     LOW   PREV. CLOSE   ...  52W L   VOLUME         VALUE   No of trades \n",
              "Date                                              ...                                              \n",
              "2019-07-01  347.00  349.85  345.15        346.65  ...  276.85  3405198  1.183867e+09          74444\n",
              "2019-07-02  349.00  354.50  347.35        348.50  ...  276.85  3745884  1.317578e+09          50799\n",
              "2019-07-03  352.90  356.50  349.75        353.60  ...  276.85  8317090  2.945468e+09          50960\n",
              "2019-07-04  353.35  365.00  353.00        353.20  ...  276.85  8407402  3.041005e+09          86438\n",
              "2019-07-05  362.75  371.15  360.50        362.75  ...  276.85  6751716  2.465131e+09          75154\n",
              "\n",
              "[5 rows x 12 columns]"
            ],
            "text/html": [
              "\n",
              "  <div id=\"df-52073f0f-f9b5-42b5-bbce-39f105f689b8\" class=\"colab-df-container\">\n",
              "    <div>\n",
              "<style scoped>\n",
              "    .dataframe tbody tr th:only-of-type {\n",
              "        vertical-align: middle;\n",
              "    }\n",
              "\n",
              "    .dataframe tbody tr th {\n",
              "        vertical-align: top;\n",
              "    }\n",
              "\n",
              "    .dataframe thead th {\n",
              "        text-align: right;\n",
              "    }\n",
              "</style>\n",
              "<table border=\"1\" class=\"dataframe\">\n",
              "  <thead>\n",
              "    <tr style=\"text-align: right;\">\n",
              "      <th></th>\n",
              "      <th>OPEN</th>\n",
              "      <th>HIGH</th>\n",
              "      <th>LOW</th>\n",
              "      <th>PREV. CLOSE</th>\n",
              "      <th>ltp</th>\n",
              "      <th>close</th>\n",
              "      <th>vwap</th>\n",
              "      <th>52W H</th>\n",
              "      <th>52W L</th>\n",
              "      <th>VOLUME</th>\n",
              "      <th>VALUE</th>\n",
              "      <th>No of trades</th>\n",
              "    </tr>\n",
              "    <tr>\n",
              "      <th>Date</th>\n",
              "      <th></th>\n",
              "      <th></th>\n",
              "      <th></th>\n",
              "      <th></th>\n",
              "      <th></th>\n",
              "      <th></th>\n",
              "      <th></th>\n",
              "      <th></th>\n",
              "      <th></th>\n",
              "      <th></th>\n",
              "      <th></th>\n",
              "      <th></th>\n",
              "    </tr>\n",
              "  </thead>\n",
              "  <tbody>\n",
              "    <tr>\n",
              "      <th>2019-07-01</th>\n",
              "      <td>347.00</td>\n",
              "      <td>349.85</td>\n",
              "      <td>345.15</td>\n",
              "      <td>346.65</td>\n",
              "      <td>348.45</td>\n",
              "      <td>348.50</td>\n",
              "      <td>347.66</td>\n",
              "      <td>399.0</td>\n",
              "      <td>276.85</td>\n",
              "      <td>3405198</td>\n",
              "      <td>1.183867e+09</td>\n",
              "      <td>74444</td>\n",
              "    </tr>\n",
              "    <tr>\n",
              "      <th>2019-07-02</th>\n",
              "      <td>349.00</td>\n",
              "      <td>354.50</td>\n",
              "      <td>347.35</td>\n",
              "      <td>348.50</td>\n",
              "      <td>352.70</td>\n",
              "      <td>353.60</td>\n",
              "      <td>351.74</td>\n",
              "      <td>399.0</td>\n",
              "      <td>276.85</td>\n",
              "      <td>3745884</td>\n",
              "      <td>1.317578e+09</td>\n",
              "      <td>50799</td>\n",
              "    </tr>\n",
              "    <tr>\n",
              "      <th>2019-07-03</th>\n",
              "      <td>352.90</td>\n",
              "      <td>356.50</td>\n",
              "      <td>349.75</td>\n",
              "      <td>353.60</td>\n",
              "      <td>352.90</td>\n",
              "      <td>353.20</td>\n",
              "      <td>354.15</td>\n",
              "      <td>399.0</td>\n",
              "      <td>276.85</td>\n",
              "      <td>8317090</td>\n",
              "      <td>2.945468e+09</td>\n",
              "      <td>50960</td>\n",
              "    </tr>\n",
              "    <tr>\n",
              "      <th>2019-07-04</th>\n",
              "      <td>353.35</td>\n",
              "      <td>365.00</td>\n",
              "      <td>353.00</td>\n",
              "      <td>353.20</td>\n",
              "      <td>362.10</td>\n",
              "      <td>362.75</td>\n",
              "      <td>361.71</td>\n",
              "      <td>399.0</td>\n",
              "      <td>276.85</td>\n",
              "      <td>8407402</td>\n",
              "      <td>3.041005e+09</td>\n",
              "      <td>86438</td>\n",
              "    </tr>\n",
              "    <tr>\n",
              "      <th>2019-07-05</th>\n",
              "      <td>362.75</td>\n",
              "      <td>371.15</td>\n",
              "      <td>360.50</td>\n",
              "      <td>362.75</td>\n",
              "      <td>364.85</td>\n",
              "      <td>364.80</td>\n",
              "      <td>365.11</td>\n",
              "      <td>399.0</td>\n",
              "      <td>276.85</td>\n",
              "      <td>6751716</td>\n",
              "      <td>2.465131e+09</td>\n",
              "      <td>75154</td>\n",
              "    </tr>\n",
              "  </tbody>\n",
              "</table>\n",
              "</div>\n",
              "    <div class=\"colab-df-buttons\">\n",
              "\n",
              "  <div class=\"colab-df-container\">\n",
              "    <button class=\"colab-df-convert\" onclick=\"convertToInteractive('df-52073f0f-f9b5-42b5-bbce-39f105f689b8')\"\n",
              "            title=\"Convert this dataframe to an interactive table.\"\n",
              "            style=\"display:none;\">\n",
              "\n",
              "  <svg xmlns=\"http://www.w3.org/2000/svg\" height=\"24px\" viewBox=\"0 -960 960 960\">\n",
              "    <path d=\"M120-120v-720h720v720H120Zm60-500h600v-160H180v160Zm220 220h160v-160H400v160Zm0 220h160v-160H400v160ZM180-400h160v-160H180v160Zm440 0h160v-160H620v160ZM180-180h160v-160H180v160Zm440 0h160v-160H620v160Z\"/>\n",
              "  </svg>\n",
              "    </button>\n",
              "\n",
              "  <style>\n",
              "    .colab-df-container {\n",
              "      display:flex;\n",
              "      gap: 12px;\n",
              "    }\n",
              "\n",
              "    .colab-df-convert {\n",
              "      background-color: #E8F0FE;\n",
              "      border: none;\n",
              "      border-radius: 50%;\n",
              "      cursor: pointer;\n",
              "      display: none;\n",
              "      fill: #1967D2;\n",
              "      height: 32px;\n",
              "      padding: 0 0 0 0;\n",
              "      width: 32px;\n",
              "    }\n",
              "\n",
              "    .colab-df-convert:hover {\n",
              "      background-color: #E2EBFA;\n",
              "      box-shadow: 0px 1px 2px rgba(60, 64, 67, 0.3), 0px 1px 3px 1px rgba(60, 64, 67, 0.15);\n",
              "      fill: #174EA6;\n",
              "    }\n",
              "\n",
              "    .colab-df-buttons div {\n",
              "      margin-bottom: 4px;\n",
              "    }\n",
              "\n",
              "    [theme=dark] .colab-df-convert {\n",
              "      background-color: #3B4455;\n",
              "      fill: #D2E3FC;\n",
              "    }\n",
              "\n",
              "    [theme=dark] .colab-df-convert:hover {\n",
              "      background-color: #434B5C;\n",
              "      box-shadow: 0px 1px 3px 1px rgba(0, 0, 0, 0.15);\n",
              "      filter: drop-shadow(0px 1px 2px rgba(0, 0, 0, 0.3));\n",
              "      fill: #FFFFFF;\n",
              "    }\n",
              "  </style>\n",
              "\n",
              "    <script>\n",
              "      const buttonEl =\n",
              "        document.querySelector('#df-52073f0f-f9b5-42b5-bbce-39f105f689b8 button.colab-df-convert');\n",
              "      buttonEl.style.display =\n",
              "        google.colab.kernel.accessAllowed ? 'block' : 'none';\n",
              "\n",
              "      async function convertToInteractive(key) {\n",
              "        const element = document.querySelector('#df-52073f0f-f9b5-42b5-bbce-39f105f689b8');\n",
              "        const dataTable =\n",
              "          await google.colab.kernel.invokeFunction('convertToInteractive',\n",
              "                                                    [key], {});\n",
              "        if (!dataTable) return;\n",
              "\n",
              "        const docLinkHtml = 'Like what you see? Visit the ' +\n",
              "          '<a target=\"_blank\" href=https://colab.research.google.com/notebooks/data_table.ipynb>data table notebook</a>'\n",
              "          + ' to learn more about interactive tables.';\n",
              "        element.innerHTML = '';\n",
              "        dataTable['output_type'] = 'display_data';\n",
              "        await google.colab.output.renderOutput(dataTable, element);\n",
              "        const docLink = document.createElement('div');\n",
              "        docLink.innerHTML = docLinkHtml;\n",
              "        element.appendChild(docLink);\n",
              "      }\n",
              "    </script>\n",
              "  </div>\n",
              "\n",
              "\n",
              "<div id=\"df-cc1da1ce-19b0-48f9-bd2c-71c0947a2bae\">\n",
              "  <button class=\"colab-df-quickchart\" onclick=\"quickchart('df-cc1da1ce-19b0-48f9-bd2c-71c0947a2bae')\"\n",
              "            title=\"Suggest charts\"\n",
              "            style=\"display:none;\">\n",
              "\n",
              "<svg xmlns=\"http://www.w3.org/2000/svg\" height=\"24px\"viewBox=\"0 0 24 24\"\n",
              "     width=\"24px\">\n",
              "    <g>\n",
              "        <path d=\"M19 3H5c-1.1 0-2 .9-2 2v14c0 1.1.9 2 2 2h14c1.1 0 2-.9 2-2V5c0-1.1-.9-2-2-2zM9 17H7v-7h2v7zm4 0h-2V7h2v10zm4 0h-2v-4h2v4z\"/>\n",
              "    </g>\n",
              "</svg>\n",
              "  </button>\n",
              "\n",
              "<style>\n",
              "  .colab-df-quickchart {\n",
              "      --bg-color: #E8F0FE;\n",
              "      --fill-color: #1967D2;\n",
              "      --hover-bg-color: #E2EBFA;\n",
              "      --hover-fill-color: #174EA6;\n",
              "      --disabled-fill-color: #AAA;\n",
              "      --disabled-bg-color: #DDD;\n",
              "  }\n",
              "\n",
              "  [theme=dark] .colab-df-quickchart {\n",
              "      --bg-color: #3B4455;\n",
              "      --fill-color: #D2E3FC;\n",
              "      --hover-bg-color: #434B5C;\n",
              "      --hover-fill-color: #FFFFFF;\n",
              "      --disabled-bg-color: #3B4455;\n",
              "      --disabled-fill-color: #666;\n",
              "  }\n",
              "\n",
              "  .colab-df-quickchart {\n",
              "    background-color: var(--bg-color);\n",
              "    border: none;\n",
              "    border-radius: 50%;\n",
              "    cursor: pointer;\n",
              "    display: none;\n",
              "    fill: var(--fill-color);\n",
              "    height: 32px;\n",
              "    padding: 0;\n",
              "    width: 32px;\n",
              "  }\n",
              "\n",
              "  .colab-df-quickchart:hover {\n",
              "    background-color: var(--hover-bg-color);\n",
              "    box-shadow: 0 1px 2px rgba(60, 64, 67, 0.3), 0 1px 3px 1px rgba(60, 64, 67, 0.15);\n",
              "    fill: var(--button-hover-fill-color);\n",
              "  }\n",
              "\n",
              "  .colab-df-quickchart-complete:disabled,\n",
              "  .colab-df-quickchart-complete:disabled:hover {\n",
              "    background-color: var(--disabled-bg-color);\n",
              "    fill: var(--disabled-fill-color);\n",
              "    box-shadow: none;\n",
              "  }\n",
              "\n",
              "  .colab-df-spinner {\n",
              "    border: 2px solid var(--fill-color);\n",
              "    border-color: transparent;\n",
              "    border-bottom-color: var(--fill-color);\n",
              "    animation:\n",
              "      spin 1s steps(1) infinite;\n",
              "  }\n",
              "\n",
              "  @keyframes spin {\n",
              "    0% {\n",
              "      border-color: transparent;\n",
              "      border-bottom-color: var(--fill-color);\n",
              "      border-left-color: var(--fill-color);\n",
              "    }\n",
              "    20% {\n",
              "      border-color: transparent;\n",
              "      border-left-color: var(--fill-color);\n",
              "      border-top-color: var(--fill-color);\n",
              "    }\n",
              "    30% {\n",
              "      border-color: transparent;\n",
              "      border-left-color: var(--fill-color);\n",
              "      border-top-color: var(--fill-color);\n",
              "      border-right-color: var(--fill-color);\n",
              "    }\n",
              "    40% {\n",
              "      border-color: transparent;\n",
              "      border-right-color: var(--fill-color);\n",
              "      border-top-color: var(--fill-color);\n",
              "    }\n",
              "    60% {\n",
              "      border-color: transparent;\n",
              "      border-right-color: var(--fill-color);\n",
              "    }\n",
              "    80% {\n",
              "      border-color: transparent;\n",
              "      border-right-color: var(--fill-color);\n",
              "      border-bottom-color: var(--fill-color);\n",
              "    }\n",
              "    90% {\n",
              "      border-color: transparent;\n",
              "      border-bottom-color: var(--fill-color);\n",
              "    }\n",
              "  }\n",
              "</style>\n",
              "\n",
              "  <script>\n",
              "    async function quickchart(key) {\n",
              "      const quickchartButtonEl =\n",
              "        document.querySelector('#' + key + ' button');\n",
              "      quickchartButtonEl.disabled = true;  // To prevent multiple clicks.\n",
              "      quickchartButtonEl.classList.add('colab-df-spinner');\n",
              "      try {\n",
              "        const charts = await google.colab.kernel.invokeFunction(\n",
              "            'suggestCharts', [key], {});\n",
              "      } catch (error) {\n",
              "        console.error('Error during call to suggestCharts:', error);\n",
              "      }\n",
              "      quickchartButtonEl.classList.remove('colab-df-spinner');\n",
              "      quickchartButtonEl.classList.add('colab-df-quickchart-complete');\n",
              "    }\n",
              "    (() => {\n",
              "      let quickchartButtonEl =\n",
              "        document.querySelector('#df-cc1da1ce-19b0-48f9-bd2c-71c0947a2bae button');\n",
              "      quickchartButtonEl.style.display =\n",
              "        google.colab.kernel.accessAllowed ? 'block' : 'none';\n",
              "    })();\n",
              "  </script>\n",
              "</div>\n",
              "\n",
              "    </div>\n",
              "  </div>\n"
            ],
            "application/vnd.google.colaboratory.intrinsic+json": {
              "type": "dataframe",
              "variable_name": "df",
              "summary": "{\n  \"name\": \"df\",\n  \"rows\": 496,\n  \"fields\": [\n    {\n      \"column\": \"Date \",\n      \"properties\": {\n        \"dtype\": \"date\",\n        \"min\": \"2019-07-01 00:00:00\",\n        \"max\": \"2021-06-29 00:00:00\",\n        \"num_unique_values\": 496,\n        \"samples\": [\n          \"2021-05-05 00:00:00\",\n          \"2019-10-18 00:00:00\",\n          \"2020-06-10 00:00:00\"\n        ],\n        \"semantic_type\": \"\",\n        \"description\": \"\"\n      }\n    },\n    {\n      \"column\": \"OPEN \",\n      \"properties\": {\n        \"dtype\": \"number\",\n        \"std\": 77.05351878875159,\n        \"min\": 332.0,\n        \"max\": 614.9,\n        \"num_unique_values\": 413,\n        \"samples\": [\n          547.5,\n          614.9,\n          525.5\n        ],\n        \"semantic_type\": \"\",\n        \"description\": \"\"\n      }\n    },\n    {\n      \"column\": \"HIGH \",\n      \"properties\": {\n        \"dtype\": \"number\",\n        \"std\": 76.86220617929446,\n        \"min\": 336.45,\n        \"max\": 623.0,\n        \"num_unique_values\": 454,\n        \"samples\": [\n          430.0,\n          349.6,\n          482.5\n        ],\n        \"semantic_type\": \"\",\n        \"description\": \"\"\n      }\n    },\n    {\n      \"column\": \"LOW \",\n      \"properties\": {\n        \"dtype\": \"number\",\n        \"std\": 76.24672315229695,\n        \"min\": 321.15,\n        \"max\": 599.45,\n        \"num_unique_values\": 467,\n        \"samples\": [\n          345.0,\n          334.25,\n          357.4\n        ],\n        \"semantic_type\": \"\",\n        \"description\": \"\"\n      }\n    },\n    {\n      \"column\": \"PREV. CLOSE \",\n      \"properties\": {\n        \"dtype\": \"number\",\n        \"std\": 76.32262959060193,\n        \"min\": 323.9,\n        \"max\": 608.85,\n        \"num_unique_values\": 463,\n        \"samples\": [\n          567.8,\n          371.15,\n          348.3\n        ],\n        \"semantic_type\": \"\",\n        \"description\": \"\"\n      }\n    },\n    {\n      \"column\": \"ltp \",\n      \"properties\": {\n        \"dtype\": \"number\",\n        \"std\": 76.04906981062676,\n        \"min\": 325.0,\n        \"max\": 611.9,\n        \"num_unique_values\": 456,\n        \"samples\": [\n          584.2,\n          347.95,\n          504.25\n        ],\n        \"semantic_type\": \"\",\n        \"description\": \"\"\n      }\n    },\n    {\n      \"column\": \"close \",\n      \"properties\": {\n        \"dtype\": \"number\",\n        \"std\": 76.09076286337854,\n        \"min\": 323.9,\n        \"max\": 608.85,\n        \"num_unique_values\": 463,\n        \"samples\": [\n          567.1,\n          351.65,\n          345.8\n        ],\n        \"semantic_type\": \"\",\n        \"description\": \"\"\n      }\n    },\n    {\n      \"column\": \"vwap \",\n      \"properties\": {\n        \"dtype\": \"number\",\n        \"std\": 76.44615360950377,\n        \"min\": 329.6,\n        \"max\": 613.31,\n        \"num_unique_values\": 491,\n        \"samples\": [\n          547.44,\n          381.36,\n          519.84\n        ],\n        \"semantic_type\": \"\",\n        \"description\": \"\"\n      }\n    },\n    {\n      \"column\": \"52W H \",\n      \"properties\": {\n        \"dtype\": \"number\",\n        \"std\": 86.46958866750052,\n        \"min\": 378.75,\n        \"max\": 623.0,\n        \"num_unique_values\": 29,\n        \"samples\": [\n          622.5,\n          523.75,\n          485.6\n        ],\n        \"semantic_type\": \"\",\n        \"description\": \"\"\n      }\n    },\n    {\n      \"column\": \"52W L \",\n      \"properties\": {\n        \"dtype\": \"number\",\n        \"std\": 38.912523885522155,\n        \"min\": 276.85,\n        \"max\": 394.0,\n        \"num_unique_values\": 16,\n        \"samples\": [\n          276.85,\n          278.9,\n          300.05\n        ],\n        \"semantic_type\": \"\",\n        \"description\": \"\"\n      }\n    },\n    {\n      \"column\": \"VOLUME \",\n      \"properties\": {\n        \"dtype\": \"number\",\n        \"std\": 17401123,\n        \"min\": 1995673,\n        \"max\": 194887984,\n        \"num_unique_values\": 496,\n        \"samples\": [\n          11872729,\n          3979009,\n          19130490\n        ],\n        \"semantic_type\": \"\",\n        \"description\": \"\"\n      }\n    },\n    {\n      \"column\": \"VALUE \",\n      \"properties\": {\n        \"dtype\": \"number\",\n        \"std\": 9165500810.08929,\n        \"min\": 739983259.2,\n        \"max\": 109075644627.25,\n        \"num_unique_values\": 496,\n        \"samples\": [\n          6657315674.9,\n          1524909665.4,\n          10894636931.85\n        ],\n        \"semantic_type\": \"\",\n        \"description\": \"\"\n      }\n    },\n    {\n      \"column\": \"No of trades \",\n      \"properties\": {\n        \"dtype\": \"number\",\n        \"std\": 113187,\n        \"min\": 16824,\n        \"max\": 946705,\n        \"num_unique_values\": 495,\n        \"samples\": [\n          156159,\n          47678,\n          233149\n        ],\n        \"semantic_type\": \"\",\n        \"description\": \"\"\n      }\n    }\n  ]\n}"
            }
          },
          "metadata": {},
          "execution_count": 138
        }
      ]
    },
    {
      "cell_type": "code",
      "source": [
        "df.info"
      ],
      "metadata": {
        "colab": {
          "base_uri": "https://localhost:8080/",
          "height": 203
        },
        "id": "RpcKLFgJzIiE",
        "outputId": "419a89d1-ec05-4c3f-d5e6-92ee49e229d2"
      },
      "execution_count": null,
      "outputs": [
        {
          "output_type": "execute_result",
          "data": {
            "text/plain": [
              "<bound method DataFrame.info of              OPEN    HIGH     LOW   PREV. CLOSE   ...  52W L   VOLUME         VALUE   No of trades \n",
              "Date                                              ...                                              \n",
              "2019-07-01  347.00  349.85  345.15        346.65  ...  276.85  3405198  1.183867e+09          74444\n",
              "2019-07-02  349.00  354.50  347.35        348.50  ...  276.85  3745884  1.317578e+09          50799\n",
              "2019-07-03  352.90  356.50  349.75        353.60  ...  276.85  8317090  2.945468e+09          50960\n",
              "2019-07-04  353.35  365.00  353.00        353.20  ...  276.85  8407402  3.041005e+09          86438\n",
              "2019-07-05  362.75  371.15  360.50        362.75  ...  276.85  6751716  2.465131e+09          75154\n",
              "...            ...     ...     ...           ...  ...     ...      ...           ...            ...\n",
              "2021-06-23  538.00  539.20  532.70        536.40  ...  394.00  4679563  2.508527e+09          63718\n",
              "2021-06-24  535.00  535.45  527.40        534.05  ...  394.00  6301610  3.341441e+09          75005\n",
              "2021-06-25  531.30  535.90  529.35        528.75  ...  394.00  5402768  2.880566e+09          63409\n",
              "2021-06-28  537.00  537.00  530.45        535.10  ...  394.00  5168753  2.751757e+09          79465\n",
              "2021-06-29  531.25  532.25  524.00        531.20  ...  394.00  8553386  4.511159e+09         136722\n",
              "\n",
              "[496 rows x 12 columns]>"
            ],
            "text/html": [
              "<div style=\"max-width:800px; border: 1px solid var(--colab-border-color);\"><style>\n",
              "      pre.function-repr-contents {\n",
              "        overflow-x: auto;\n",
              "        padding: 8px 12px;\n",
              "        max-height: 500px;\n",
              "      }\n",
              "\n",
              "      pre.function-repr-contents.function-repr-contents-collapsed {\n",
              "        cursor: pointer;\n",
              "        max-height: 100px;\n",
              "      }\n",
              "    </style>\n",
              "    <pre style=\"white-space: initial; background:\n",
              "         var(--colab-secondary-surface-color); padding: 8px 12px;\n",
              "         border-bottom: 1px solid var(--colab-border-color);\"><b>pandas.core.frame.DataFrame.info</b><br/>def info(verbose: bool | None=None, buf: WriteBuffer[str] | None=None, max_cols: int | None=None, memory_usage: bool | str | None=None, show_counts: bool | None=None) -&gt; None</pre><pre class=\"function-repr-contents function-repr-contents-collapsed\" style=\"\"><a class=\"filepath\" style=\"display:none\" href=\"#\">/usr/local/lib/python3.10/dist-packages/pandas/core/frame.py</a>Print a concise summary of a DataFrame.\n",
              "\n",
              "This method prints information about a DataFrame including\n",
              "the index dtype and columns, non-null values and memory usage.\n",
              "\n",
              "Parameters\n",
              "----------\n",
              "verbose : bool, optional\n",
              "    Whether to print the full summary. By default, the setting in\n",
              "    ``pandas.options.display.max_info_columns`` is followed.\n",
              "buf : writable buffer, defaults to sys.stdout\n",
              "    Where to send the output. By default, the output is printed to\n",
              "    sys.stdout. Pass a writable buffer if you need to further process\n",
              "    the output.\n",
              "max_cols : int, optional\n",
              "    When to switch from the verbose to the truncated output. If the\n",
              "    DataFrame has more than `max_cols` columns, the truncated output\n",
              "    is used. By default, the setting in\n",
              "    ``pandas.options.display.max_info_columns`` is used.\n",
              "memory_usage : bool, str, optional\n",
              "    Specifies whether total memory usage of the DataFrame\n",
              "    elements (including the index) should be displayed. By default,\n",
              "    this follows the ``pandas.options.display.memory_usage`` setting.\n",
              "\n",
              "    True always show memory usage. False never shows memory usage.\n",
              "    A value of &#x27;deep&#x27; is equivalent to &quot;True with deep introspection&quot;.\n",
              "    Memory usage is shown in human-readable units (base-2\n",
              "    representation). Without deep introspection a memory estimation is\n",
              "    made based in column dtype and number of rows assuming values\n",
              "    consume the same memory amount for corresponding dtypes. With deep\n",
              "    memory introspection, a real memory usage calculation is performed\n",
              "    at the cost of computational resources. See the\n",
              "    :ref:`Frequently Asked Questions &lt;df-memory-usage&gt;` for more\n",
              "    details.\n",
              "show_counts : bool, optional\n",
              "    Whether to show the non-null counts. By default, this is shown\n",
              "    only if the DataFrame is smaller than\n",
              "    ``pandas.options.display.max_info_rows`` and\n",
              "    ``pandas.options.display.max_info_columns``. A value of True always\n",
              "    shows the counts, and False never shows the counts.\n",
              "\n",
              "Returns\n",
              "-------\n",
              "None\n",
              "    This method prints a summary of a DataFrame and returns None.\n",
              "\n",
              "See Also\n",
              "--------\n",
              "DataFrame.describe: Generate descriptive statistics of DataFrame\n",
              "    columns.\n",
              "DataFrame.memory_usage: Memory usage of DataFrame columns.\n",
              "\n",
              "Examples\n",
              "--------\n",
              "&gt;&gt;&gt; int_values = [1, 2, 3, 4, 5]\n",
              "&gt;&gt;&gt; text_values = [&#x27;alpha&#x27;, &#x27;beta&#x27;, &#x27;gamma&#x27;, &#x27;delta&#x27;, &#x27;epsilon&#x27;]\n",
              "&gt;&gt;&gt; float_values = [0.0, 0.25, 0.5, 0.75, 1.0]\n",
              "&gt;&gt;&gt; df = pd.DataFrame({&quot;int_col&quot;: int_values, &quot;text_col&quot;: text_values,\n",
              "...                   &quot;float_col&quot;: float_values})\n",
              "&gt;&gt;&gt; df\n",
              "    int_col text_col  float_col\n",
              "0        1    alpha       0.00\n",
              "1        2     beta       0.25\n",
              "2        3    gamma       0.50\n",
              "3        4    delta       0.75\n",
              "4        5  epsilon       1.00\n",
              "\n",
              "Prints information of all columns:\n",
              "\n",
              "&gt;&gt;&gt; df.info(verbose=True)\n",
              "&lt;class &#x27;pandas.core.frame.DataFrame&#x27;&gt;\n",
              "RangeIndex: 5 entries, 0 to 4\n",
              "Data columns (total 3 columns):\n",
              " #   Column     Non-Null Count  Dtype\n",
              "---  ------     --------------  -----\n",
              " 0   int_col    5 non-null      int64\n",
              " 1   text_col   5 non-null      object\n",
              " 2   float_col  5 non-null      float64\n",
              "dtypes: float64(1), int64(1), object(1)\n",
              "memory usage: 248.0+ bytes\n",
              "\n",
              "Prints a summary of columns count and its dtypes but not per column\n",
              "information:\n",
              "\n",
              "&gt;&gt;&gt; df.info(verbose=False)\n",
              "&lt;class &#x27;pandas.core.frame.DataFrame&#x27;&gt;\n",
              "RangeIndex: 5 entries, 0 to 4\n",
              "Columns: 3 entries, int_col to float_col\n",
              "dtypes: float64(1), int64(1), object(1)\n",
              "memory usage: 248.0+ bytes\n",
              "\n",
              "Pipe output of DataFrame.info to buffer instead of sys.stdout, get\n",
              "buffer content and writes to a text file:\n",
              "\n",
              "&gt;&gt;&gt; import io\n",
              "&gt;&gt;&gt; buffer = io.StringIO()\n",
              "&gt;&gt;&gt; df.info(buf=buffer)\n",
              "&gt;&gt;&gt; s = buffer.getvalue()\n",
              "&gt;&gt;&gt; with open(&quot;df_info.txt&quot;, &quot;w&quot;,\n",
              "...           encoding=&quot;utf-8&quot;) as f:  # doctest: +SKIP\n",
              "...     f.write(s)\n",
              "260\n",
              "\n",
              "The `memory_usage` parameter allows deep introspection mode, specially\n",
              "useful for big DataFrames and fine-tune memory optimization:\n",
              "\n",
              "&gt;&gt;&gt; random_strings_array = np.random.choice([&#x27;a&#x27;, &#x27;b&#x27;, &#x27;c&#x27;], 10 ** 6)\n",
              "&gt;&gt;&gt; df = pd.DataFrame({\n",
              "...     &#x27;column_1&#x27;: np.random.choice([&#x27;a&#x27;, &#x27;b&#x27;, &#x27;c&#x27;], 10 ** 6),\n",
              "...     &#x27;column_2&#x27;: np.random.choice([&#x27;a&#x27;, &#x27;b&#x27;, &#x27;c&#x27;], 10 ** 6),\n",
              "...     &#x27;column_3&#x27;: np.random.choice([&#x27;a&#x27;, &#x27;b&#x27;, &#x27;c&#x27;], 10 ** 6)\n",
              "... })\n",
              "&gt;&gt;&gt; df.info()\n",
              "&lt;class &#x27;pandas.core.frame.DataFrame&#x27;&gt;\n",
              "RangeIndex: 1000000 entries, 0 to 999999\n",
              "Data columns (total 3 columns):\n",
              " #   Column    Non-Null Count    Dtype\n",
              "---  ------    --------------    -----\n",
              " 0   column_1  1000000 non-null  object\n",
              " 1   column_2  1000000 non-null  object\n",
              " 2   column_3  1000000 non-null  object\n",
              "dtypes: object(3)\n",
              "memory usage: 22.9+ MB\n",
              "\n",
              "&gt;&gt;&gt; df.info(memory_usage=&#x27;deep&#x27;)\n",
              "&lt;class &#x27;pandas.core.frame.DataFrame&#x27;&gt;\n",
              "RangeIndex: 1000000 entries, 0 to 999999\n",
              "Data columns (total 3 columns):\n",
              " #   Column    Non-Null Count    Dtype\n",
              "---  ------    --------------    -----\n",
              " 0   column_1  1000000 non-null  object\n",
              " 1   column_2  1000000 non-null  object\n",
              " 2   column_3  1000000 non-null  object\n",
              "dtypes: object(3)\n",
              "memory usage: 165.9 MB</pre>\n",
              "      <script>\n",
              "      if (google.colab.kernel.accessAllowed && google.colab.files && google.colab.files.view) {\n",
              "        for (const element of document.querySelectorAll('.filepath')) {\n",
              "          element.style.display = 'block'\n",
              "          element.onclick = (event) => {\n",
              "            event.preventDefault();\n",
              "            event.stopPropagation();\n",
              "            google.colab.files.view(element.textContent, 3345);\n",
              "          };\n",
              "        }\n",
              "      }\n",
              "      for (const element of document.querySelectorAll('.function-repr-contents')) {\n",
              "        element.onclick = (event) => {\n",
              "          event.preventDefault();\n",
              "          event.stopPropagation();\n",
              "          element.classList.toggle('function-repr-contents-collapsed');\n",
              "        };\n",
              "      }\n",
              "      </script>\n",
              "      </div>"
            ]
          },
          "metadata": {},
          "execution_count": 139
        }
      ]
    },
    {
      "cell_type": "code",
      "source": [
        "df['close '].plot()"
      ],
      "metadata": {
        "colab": {
          "base_uri": "https://localhost:8080/",
          "height": 450
        },
        "id": "Mjy4_U1jzQTT",
        "outputId": "28139e90-10f1-4382-b210-479b28d6f93a"
      },
      "execution_count": null,
      "outputs": [
        {
          "output_type": "execute_result",
          "data": {
            "text/plain": [
              "<Axes: xlabel='Date '>"
            ]
          },
          "metadata": {},
          "execution_count": 141
        },
        {
          "output_type": "display_data",
          "data": {
            "text/plain": [
              "<Figure size 640x480 with 1 Axes>"
            ],
            "image/png": "[encoded data removed]"
          },
          "metadata": {}
        }
      ]
    },
    {
      "cell_type": "code",
      "source": [
        "len(df)"
      ],
      "metadata": {
        "colab": {
          "base_uri": "https://localhost:8080/"
        },
        "id": "q9TfpT6W1sNB",
        "outputId": "c11f5cd4-a795-45dd-86db-8b5f01410684"
      },
      "execution_count": null,
      "outputs": [
        {
          "output_type": "execute_result",
          "data": {
            "text/plain": [
              "496"
            ]
          },
          "metadata": {},
          "execution_count": 142
        }
      ]
    },
    {
      "cell_type": "code",
      "source": [
        "airtel_close = df['close ']"
      ],
      "metadata": {
        "id": "By9_p_qj12Gp"
      },
      "execution_count": null,
      "outputs": []
    },
    {
      "cell_type": "code",
      "source": [
        "airtel_close.reset_index(drop=True,inplace=True)\n",
        "airtel_close.shape"
      ],
      "metadata": {
        "colab": {
          "base_uri": "https://localhost:8080/"
        },
        "id": "gk3fBBtJ19ds",
        "outputId": "c6ddbda3-f431-4249-dd09-86030990c59e"
      },
      "execution_count": null,
      "outputs": [
        {
          "output_type": "execute_result",
          "data": {
            "text/plain": [
              "(496,)"
            ]
          },
          "metadata": {},
          "execution_count": 144
        }
      ]
    },
    {
      "cell_type": "code",
      "source": [
        "airtel_close = pd.DataFrame(airtel_close)"
      ],
      "metadata": {
        "id": "py7NQoafXWjT"
      },
      "execution_count": null,
      "outputs": []
    },
    {
      "cell_type": "code",
      "source": [
        "train = airtel_close.iloc[:480]\n",
        "test = airtel_close.iloc[480:]"
      ],
      "metadata": {
        "id": "wTK5y70A2cpb"
      },
      "execution_count": null,
      "outputs": []
    },
    {
      "cell_type": "code",
      "source": [
        "from sklearn.preprocessing import MinMaxScaler"
      ],
      "metadata": {
        "id": "LOUC8exl2mnI"
      },
      "execution_count": null,
      "outputs": []
    },
    {
      "cell_type": "code",
      "source": [
        "scaler = MinMaxScaler()"
      ],
      "metadata": {
        "id": "FCuvzpcq2wGN"
      },
      "execution_count": null,
      "outputs": []
    },
    {
      "cell_type": "code",
      "source": [
        "scaler.fit(train)"
      ],
      "metadata": {
        "colab": {
          "base_uri": "https://localhost:8080/",
          "height": 74
        },
        "id": "c7p5Y2ZPXwbx",
        "outputId": "90a0542a-27e1-4f5a-d958-947a399f3275"
      },
      "execution_count": null,
      "outputs": [
        {
          "output_type": "execute_result",
          "data": {
            "text/plain": [
              "MinMaxScaler()"
            ],
            "text/html": [
              "<style>#sk-container-id-2 {color: black;background-color: white;}#sk-container-id-2 pre{padding: 0;}#sk-container-id-2 div.sk-toggleable {background-color: white;}#sk-container-id-2 label.sk-toggleable__label {cursor: pointer;display: block;width: 100%;margin-bottom: 0;padding: 0.3em;box-sizing: border-box;text-align: center;}#sk-container-id-2 label.sk-toggleable__label-arrow:before {content: \"▸\";float: left;margin-right: 0.25em;color: #696969;}#sk-container-id-2 label.sk-toggleable__label-arrow:hover:before {color: black;}#sk-container-id-2 div.sk-estimator:hover label.sk-toggleable__label-arrow:before {color: black;}#sk-container-id-2 div.sk-toggleable__content {max-height: 0;max-width: 0;overflow: hidden;text-align: left;background-color: #f0f8ff;}#sk-container-id-2 div.sk-toggleable__content pre {margin: 0.2em;color: black;border-radius: 0.25em;background-color: #f0f8ff;}#sk-container-id-2 input.sk-toggleable__control:checked~div.sk-toggleable__content {max-height: 200px;max-width: 100%;overflow: auto;}#sk-container-id-2 input.sk-toggleable__control:checked~label.sk-toggleable__label-arrow:before {content: \"▾\";}#sk-container-id-2 div.sk-estimator input.sk-toggleable__control:checked~label.sk-toggleable__label {background-color: #d4ebff;}#sk-container-id-2 div.sk-label input.sk-toggleable__control:checked~label.sk-toggleable__label {background-color: #d4ebff;}#sk-container-id-2 input.sk-hidden--visually {border: 0;clip: rect(1px 1px 1px 1px);clip: rect(1px, 1px, 1px, 1px);height: 1px;margin: -1px;overflow: hidden;padding: 0;position: absolute;width: 1px;}#sk-container-id-2 div.sk-estimator {font-family: monospace;background-color: #f0f8ff;border: 1px dotted black;border-radius: 0.25em;box-sizing: border-box;margin-bottom: 0.5em;}#sk-container-id-2 div.sk-estimator:hover {background-color: #d4ebff;}#sk-container-id-2 div.sk-parallel-item::after {content: \"\";width: 100%;border-bottom: 1px solid gray;flex-grow: 1;}#sk-container-id-2 div.sk-label:hover label.sk-toggleable__label {background-color: #d4ebff;}#sk-container-id-2 div.sk-serial::before {content: \"\";position: absolute;border-left: 1px solid gray;box-sizing: border-box;top: 0;bottom: 0;left: 50%;z-index: 0;}#sk-container-id-2 div.sk-serial {display: flex;flex-direction: column;align-items: center;background-color: white;padding-right: 0.2em;padding-left: 0.2em;position: relative;}#sk-container-id-2 div.sk-item {position: relative;z-index: 1;}#sk-container-id-2 div.sk-parallel {display: flex;align-items: stretch;justify-content: center;background-color: white;position: relative;}#sk-container-id-2 div.sk-item::before, #sk-container-id-2 div.sk-parallel-item::before {content: \"\";position: absolute;border-left: 1px solid gray;box-sizing: border-box;top: 0;bottom: 0;left: 50%;z-index: -1;}#sk-container-id-2 div.sk-parallel-item {display: flex;flex-direction: column;z-index: 1;position: relative;background-color: white;}#sk-container-id-2 div.sk-parallel-item:first-child::after {align-self: flex-end;width: 50%;}#sk-container-id-2 div.sk-parallel-item:last-child::after {align-self: flex-start;width: 50%;}#sk-container-id-2 div.sk-parallel-item:only-child::after {width: 0;}#sk-container-id-2 div.sk-dashed-wrapped {border: 1px dashed gray;margin: 0 0.4em 0.5em 0.4em;box-sizing: border-box;padding-bottom: 0.4em;background-color: white;}#sk-container-id-2 div.sk-label label {font-family: monospace;font-weight: bold;display: inline-block;line-height: 1.2em;}#sk-container-id-2 div.sk-label-container {text-align: center;}#sk-container-id-2 div.sk-container {/* jupyter's `normalize.less` sets `[hidden] { display: none; }` but bootstrap.min.css set `[hidden] { display: none !important; }` so we also need the `!important` here to be able to override the default hidden behavior on the sphinx rendered scikit-learn.org. See: https://github.com/scikit-learn/scikit-learn/issues/21755 */display: inline-block !important;position: relative;}#sk-container-id-2 div.sk-text-repr-fallback {display: none;}</style><div id=\"sk-container-id-2\" class=\"sk-top-container\"><div class=\"sk-text-repr-fallback\"><pre>MinMaxScaler()</pre><b>In a Jupyter environment, please rerun this cell to show the HTML representation or trust the notebook. <br />On GitHub, the HTML representation is unable to render, please try loading this page with nbviewer.org.</b></div><div class=\"sk-container\" hidden><div class=\"sk-item\"><div class=\"sk-estimator sk-toggleable\"><input class=\"sk-toggleable__control sk-hidden--visually\" id=\"sk-estimator-id-2\" type=\"checkbox\" checked><label for=\"sk-estimator-id-2\" class=\"sk-toggleable__label sk-toggleable__label-arrow\">MinMaxScaler</label><div class=\"sk-toggleable__content\"><pre>MinMaxScaler()</pre></div></div></div></div></div>"
            ]
          },
          "metadata": {},
          "execution_count": 149
        }
      ]
    },
    {
      "cell_type": "code",
      "source": [
        "scaled_train = scaler.transform(train)\n",
        "scaled_test = scaler.transform(test)"
      ],
      "metadata": {
        "id": "olDmhwoaXzXW"
      },
      "execution_count": null,
      "outputs": []
    },
    {
      "cell_type": "markdown",
      "source": [
        "# CREATING THE MODEL :"
      ],
      "metadata": {
        "id": "_qTHWwRLuEO_"
      }
    },
    {
      "cell_type": "code",
      "source": [
        "from tensorflow.keras.preprocessing.sequence import TimeseriesGenerator"
      ],
      "metadata": {
        "id": "02WZWGdMIJ-t"
      },
      "execution_count": null,
      "outputs": []
    },
    {
      "cell_type": "code",
      "source": [
        "test.shape"
      ],
      "metadata": {
        "colab": {
          "base_uri": "https://localhost:8080/"
        },
        "id": "utz29YXSYd_N",
        "outputId": "477e6254-2359-4156-bc23-5d987765d26d"
      },
      "execution_count": null,
      "outputs": [
        {
          "output_type": "execute_result",
          "data": {
            "text/plain": [
              "(16, 1)"
            ]
          },
          "metadata": {},
          "execution_count": 152
        }
      ]
    },
    {
      "cell_type": "code",
      "source": [
        "length = 16\n",
        "batch_size = 32\n",
        "\n",
        "generator = TimeseriesGenerator(scaled_train,scaled_train,\n",
        "                                length = length, batch_size=batch_size)\n",
        "\n",
        "#creates an object of train - length and last 16 values will be predicted and validated"
      ],
      "metadata": {
        "id": "l9n9oEDXZZp9"
      },
      "execution_count": null,
      "outputs": []
    },
    {
      "cell_type": "code",
      "source": [
        "from tensorflow.keras.models import Sequential\n",
        "from tensorflow.keras.layers import Dense,SimpleRNN,LSTM,Dropout"
      ],
      "metadata": {
        "id": "Wd9lCwlhaAD_"
      },
      "execution_count": null,
      "outputs": []
    },
    {
      "cell_type": "code",
      "source": [
        "n_features = 1"
      ],
      "metadata": {
        "id": "yJ0XnJJWejMe"
      },
      "execution_count": null,
      "outputs": []
    },
    {
      "cell_type": "code",
      "source": [
        "model = Sequential()\n",
        "\n",
        "model.add(SimpleRNN(30,input_shape=(length,n_features)))\n",
        "\n",
        "model.add(Dropout(rate=0.2))\n",
        "#fully connected layer occupies most of the parameters, and hence, neurons develop co-dependency amongst each other\n",
        "#during training which curbs the individual power of each neuron leading to over-fitting of training data.\n",
        "model.add(Dense(1))\n",
        "\n",
        "model.compile(optimizer='adam', loss='mse')"
      ],
      "metadata": {
        "id": "8pF-oN41p-Kr"
      },
      "execution_count": null,
      "outputs": []
    },
    {
      "cell_type": "code",
      "source": [
        "model.fit(generator,epochs=10,shuffle=False) #generally takes much longer time than ANN"
      ],
      "metadata": {
        "colab": {
          "base_uri": "https://localhost:8080/"
        },
        "id": "IVmFMo0nqAfO",
        "outputId": "cc71b5c4-41ed-4084-a291-c245c0dcf899"
      },
      "execution_count": null,
      "outputs": [
        {
          "output_type": "stream",
          "name": "stdout",
          "text": [
            "Epoch 1/10\n",
            "15/15 [==============================] - 2s 6ms/step - loss: 0.1104\n",
            "Epoch 2/10\n",
            "15/15 [==============================] - 0s 5ms/step - loss: 0.0627\n",
            "Epoch 3/10\n",
            "15/15 [==============================] - 0s 5ms/step - loss: 0.0436\n",
            "Epoch 4/10\n",
            "15/15 [==============================] - 0s 5ms/step - loss: 0.0319\n",
            "Epoch 5/10\n",
            "15/15 [==============================] - 0s 5ms/step - loss: 0.0254\n",
            "Epoch 6/10\n",
            "15/15 [==============================] - 0s 6ms/step - loss: 0.0235\n",
            "Epoch 7/10\n",
            "15/15 [==============================] - 0s 5ms/step - loss: 0.0183\n",
            "Epoch 8/10\n",
            "15/15 [==============================] - 0s 5ms/step - loss: 0.0163\n",
            "Epoch 9/10\n",
            "15/15 [==============================] - 0s 5ms/step - loss: 0.0157\n",
            "Epoch 10/10\n",
            "15/15 [==============================] - 0s 6ms/step - loss: 0.0138\n"
          ]
        },
        {
          "output_type": "execute_result",
          "data": {
            "text/plain": [
              "<keras.src.callbacks.History at 0x7fcec333db40>"
            ]
          },
          "metadata": {},
          "execution_count": 171
        }
      ]
    },
    {
      "cell_type": "code",
      "source": [
        "model.summary()"
      ],
      "metadata": {
        "colab": {
          "base_uri": "https://localhost:8080/"
        },
        "id": "Z34pakoKqH57",
        "outputId": "924055a2-3d47-4ed0-ef75-93260c628b25"
      },
      "execution_count": null,
      "outputs": [
        {
          "output_type": "stream",
          "name": "stdout",
          "text": [
            "Model: \"sequential_5\"\n",
            "_________________________________________________________________\n",
            " Layer (type)                Output Shape              Param #   \n",
            "=================================================================\n",
            " simple_rnn_5 (SimpleRNN)    (None, 30)                960       \n",
            "                                                                 \n",
            " dropout_5 (Dropout)         (None, 30)                0         \n",
            "                                                                 \n",
            " dense_5 (Dense)             (None, 1)                 31        \n",
            "                                                                 \n",
            "=================================================================\n",
            "Total params: 991 (3.87 KB)\n",
            "Trainable params: 991 (3.87 KB)\n",
            "Non-trainable params: 0 (0.00 Byte)\n",
            "_________________________________________________________________\n"
          ]
        }
      ]
    },
    {
      "cell_type": "code",
      "source": [
        "losses = pd.DataFrame(model.history.history)"
      ],
      "metadata": {
        "id": "86lYM_ydg491"
      },
      "execution_count": null,
      "outputs": []
    },
    {
      "cell_type": "code",
      "source": [
        "losses.plot()"
      ],
      "metadata": {
        "colab": {
          "base_uri": "https://localhost:8080/",
          "height": 447
        },
        "id": "XB_IScshg_cd",
        "outputId": "39c4c66f-cec9-4573-8d8e-3ddecd065e48"
      },
      "execution_count": null,
      "outputs": [
        {
          "output_type": "execute_result",
          "data": {
            "text/plain": [
              "<Axes: >"
            ]
          },
          "metadata": {},
          "execution_count": 174
        },
        {
          "output_type": "display_data",
          "data": {
            "text/plain": [
              "<Figure size 640x480 with 1 Axes>"
            ],
            "image/png": "[encoded data removed]"
          },
          "metadata": {}
        }
      ]
    },
    {
      "cell_type": "markdown",
      "source": [
        "****"
      ],
      "metadata": {
        "id": "E6TSiy6pjDeM"
      }
    },
    {
      "cell_type": "markdown",
      "source": [
        "#EVALUATING TEST SET :"
      ],
      "metadata": {
        "id": "Gg-5zcgeuRdz"
      }
    },
    {
      "cell_type": "code",
      "source": [
        "first_eval_batch = scaled_train[-length:] #picks last 16 values in train set"
      ],
      "metadata": {
        "id": "MYIKWFw0jJD2"
      },
      "execution_count": null,
      "outputs": []
    },
    {
      "cell_type": "code",
      "source": [
        "first_eval_batch"
      ],
      "metadata": {
        "colab": {
          "base_uri": "https://localhost:8080/"
        },
        "id": "e6rTcH76jbC8",
        "outputId": "620b1492-debc-4798-c55e-88f1ce933f30"
      },
      "execution_count": null,
      "outputs": [
        {
          "output_type": "execute_result",
          "data": {
            "text/plain": [
              "array([[0.79224425],\n",
              "       [0.7455694 ],\n",
              "       [0.71696789],\n",
              "       [0.69047201],\n",
              "       [0.72661871],\n",
              "       [0.71205475],\n",
              "       [0.70959818],\n",
              "       [0.70836989],\n",
              "       [0.68748903],\n",
              "       [0.70082471],\n",
              "       [0.74048079],\n",
              "       [0.73346201],\n",
              "       [0.72153009],\n",
              "       [0.73047903],\n",
              "       [0.73276013],\n",
              "       [0.74592034]])"
            ]
          },
          "metadata": {},
          "execution_count": 176
        }
      ]
    },
    {
      "cell_type": "code",
      "source": [
        "first_eval_batch = first_eval_batch.reshape((1,length,1))"
      ],
      "metadata": {
        "id": "BbKASsUsj3cW"
      },
      "execution_count": null,
      "outputs": []
    },
    {
      "cell_type": "code",
      "source": [
        "first_eval_batch"
      ],
      "metadata": {
        "colab": {
          "base_uri": "https://localhost:8080/"
        },
        "id": "yFl-SgQ3kHe3",
        "outputId": "1a1a2ace-a4a3-4b52-db1d-6cdd68b0fe79"
      },
      "execution_count": null,
      "outputs": [
        {
          "output_type": "execute_result",
          "data": {
            "text/plain": [
              "array([[[0.79224425],\n",
              "        [0.7455694 ],\n",
              "        [0.71696789],\n",
              "        [0.69047201],\n",
              "        [0.72661871],\n",
              "        [0.71205475],\n",
              "        [0.70959818],\n",
              "        [0.70836989],\n",
              "        [0.68748903],\n",
              "        [0.70082471],\n",
              "        [0.74048079],\n",
              "        [0.73346201],\n",
              "        [0.72153009],\n",
              "        [0.73047903],\n",
              "        [0.73276013],\n",
              "        [0.74592034]]])"
            ]
          },
          "metadata": {},
          "execution_count": 178
        }
      ]
    },
    {
      "cell_type": "code",
      "source": [
        "model.predict(first_eval_batch)"
      ],
      "metadata": {
        "colab": {
          "base_uri": "https://localhost:8080/"
        },
        "id": "RRnLiXhGqozB",
        "outputId": "0c85c1b2-4e98-4139-ce87-474ea9f6f3a4"
      },
      "execution_count": null,
      "outputs": [
        {
          "output_type": "stream",
          "name": "stdout",
          "text": [
            "1/1 [==============================] - 0s 155ms/step\n"
          ]
        },
        {
          "output_type": "execute_result",
          "data": {
            "text/plain": [
              "array([[0.741815]], dtype=float32)"
            ]
          },
          "metadata": {},
          "execution_count": 179
        }
      ]
    },
    {
      "cell_type": "code",
      "source": [
        "scaled_test[0]"
      ],
      "metadata": {
        "colab": {
          "base_uri": "https://localhost:8080/"
        },
        "id": "dMhFW5IwqrQ2",
        "outputId": "a88be105-554f-49d3-f83c-4f1117d35296"
      },
      "execution_count": null,
      "outputs": [
        {
          "output_type": "execute_result",
          "data": {
            "text/plain": [
              "array([0.7822425])"
            ]
          },
          "metadata": {},
          "execution_count": 180
        }
      ]
    },
    {
      "cell_type": "code",
      "source": [
        "test_predictions = []\n",
        "\n",
        "first_eval_batch = scaled_train[-length:]\n",
        "current_batch = first_eval_batch.reshape((1,length,n_features))\n",
        "\n",
        "for i in range(len(test)):\n",
        "\n",
        "  #get prediction 1 time stamp ahead ([8] is for grabbing just the number instead of (array])\n",
        "  current_pred = model.predict(current_batch)[0]\n",
        "\n",
        "  #store prediction\n",
        "  test_predictions.append(current_pred)\n",
        "\n",
        "  #update batch to now include prediction and drop first value\n",
        "  current_batch = np.append(current_batch[:,1:,:],[[current_pred]],axis=1)"
      ],
      "metadata": {
        "colab": {
          "base_uri": "https://localhost:8080/"
        },
        "id": "v-sGnad-qvGj",
        "outputId": "8fb0013d-e35c-4250-9f5e-876ae3645c5e"
      },
      "execution_count": null,
      "outputs": [
        {
          "output_type": "stream",
          "name": "stdout",
          "text": [
            "1/1 [==============================] - 0s 24ms/step\n",
            "1/1 [==============================] - 0s 23ms/step\n",
            "1/1 [==============================] - 0s 21ms/step\n",
            "1/1 [==============================] - 0s 25ms/step\n",
            "1/1 [==============================] - 0s 22ms/step\n",
            "1/1 [==============================] - 0s 22ms/step\n",
            "1/1 [==============================] - 0s 22ms/step\n",
            "1/1 [==============================] - 0s 22ms/step\n",
            "1/1 [==============================] - 0s 25ms/step\n",
            "1/1 [==============================] - 0s 28ms/step\n",
            "1/1 [==============================] - 0s 28ms/step\n",
            "1/1 [==============================] - 0s 23ms/step\n",
            "1/1 [==============================] - 0s 23ms/step\n",
            "1/1 [==============================] - 0s 20ms/step\n",
            "1/1 [==============================] - 0s 21ms/step\n",
            "1/1 [==============================] - 0s 21ms/step\n"
          ]
        }
      ]
    },
    {
      "cell_type": "code",
      "source": [
        "test_predictions"
      ],
      "metadata": {
        "colab": {
          "base_uri": "https://localhost:8080/"
        },
        "id": "pqIEh6Lch1yG",
        "outputId": "7096b4ba-c914-4c57-a182-8fe429fa962f"
      },
      "execution_count": null,
      "outputs": [
        {
          "output_type": "execute_result",
          "data": {
            "text/plain": [
              "[array([0.741815], dtype=float32),\n",
              " array([0.72390604], dtype=float32),\n",
              " array([0.72934175], dtype=float32),\n",
              " array([0.7187327], dtype=float32),\n",
              " array([0.7049266], dtype=float32),\n",
              " array([0.7019937], dtype=float32),\n",
              " array([0.69917595], dtype=float32),\n",
              " array([0.6881311], dtype=float32),\n",
              " array([0.66806304], dtype=float32),\n",
              " array([0.65625966], dtype=float32),\n",
              " array([0.6639409], dtype=float32),\n",
              " array([0.659155], dtype=float32),\n",
              " array([0.639065], dtype=float32),\n",
              " array([0.6345879], dtype=float32),\n",
              " array([0.6397574], dtype=float32),\n",
              " array([0.64006054], dtype=float32)]"
            ]
          },
          "metadata": {},
          "execution_count": 183
        }
      ]
    },
    {
      "cell_type": "code",
      "source": [
        "true_predictions = scaler.inverse_transform(test_predictions)"
      ],
      "metadata": {
        "id": "4o3VebFoh4wA"
      },
      "execution_count": null,
      "outputs": []
    },
    {
      "cell_type": "code",
      "source": [
        "true_predictions"
      ],
      "metadata": {
        "colab": {
          "base_uri": "https://localhost:8080/"
        },
        "id": "3mrD3V2gh_OE",
        "outputId": "40aa966c-1822-4346-cf1b-3418fac2bdb1"
      },
      "execution_count": null,
      "outputs": [
        {
          "output_type": "execute_result",
          "data": {
            "text/plain": [
              "array([[535.28017598],\n",
              "       [530.17702615],\n",
              "       [531.72593035],\n",
              "       [528.70288704],\n",
              "       [524.76883752],\n",
              "       [523.93310591],\n",
              "       [523.13018805],\n",
              "       [519.98295523],\n",
              "       [514.26456454],\n",
              "       [510.90118896],\n",
              "       [513.08996131],\n",
              "       [511.72622043],\n",
              "       [506.00157951],\n",
              "       [504.72581753],\n",
              "       [506.19886965],\n",
              "       [506.28525202]])"
            ]
          },
          "metadata": {},
          "execution_count": 187
        }
      ]
    },
    {
      "cell_type": "code",
      "source": [
        "\n",
        "test.loc[:,'predictions'] = true_predictions"
      ],
      "metadata": {
        "id": "_4mn2YEVgS_F"
      },
      "execution_count": null,
      "outputs": []
    },
    {
      "cell_type": "code",
      "source": [
        "test"
      ],
      "metadata": {
        "colab": {
          "base_uri": "https://localhost:8080/",
          "height": 551
        },
        "id": "X_rgk5MWtGLW",
        "outputId": "aeb82c00-c16f-4a98-c0b1-6ae692ed1036"
      },
      "execution_count": null,
      "outputs": [
        {
          "output_type": "execute_result",
          "data": {
            "text/plain": [
              "     close   predictions\n",
              "480  546.80   535.280176\n",
              "481  540.00   530.177026\n",
              "482  545.15   531.725930\n",
              "483  540.85   528.702887\n",
              "484  539.35   524.768838\n",
              "485  542.50   523.933106\n",
              "486  536.75   523.130188\n",
              "487  528.65   519.982955\n",
              "488  538.75   514.264565\n",
              "489  539.60   510.901189\n",
              "490  536.40   513.089961\n",
              "491  534.05   511.726220\n",
              "492  528.75   506.001580\n",
              "493  535.10   504.725818\n",
              "494  531.20   506.198870\n",
              "495  524.95   506.285252"
            ],
            "text/html": [
              "\n",
              "  <div id=\"df-98568d4b-8d78-494a-93a1-ed0d279a9fa1\" class=\"colab-df-container\">\n",
              "    <div>\n",
              "<style scoped>\n",
              "    .dataframe tbody tr th:only-of-type {\n",
              "        vertical-align: middle;\n",
              "    }\n",
              "\n",
              "    .dataframe tbody tr th {\n",
              "        vertical-align: top;\n",
              "    }\n",
              "\n",
              "    .dataframe thead th {\n",
              "        text-align: right;\n",
              "    }\n",
              "</style>\n",
              "<table border=\"1\" class=\"dataframe\">\n",
              "  <thead>\n",
              "    <tr style=\"text-align: right;\">\n",
              "      <th></th>\n",
              "      <th>close</th>\n",
              "      <th>predictions</th>\n",
              "    </tr>\n",
              "  </thead>\n",
              "  <tbody>\n",
              "    <tr>\n",
              "      <th>480</th>\n",
              "      <td>546.80</td>\n",
              "      <td>535.280176</td>\n",
              "    </tr>\n",
              "    <tr>\n",
              "      <th>481</th>\n",
              "      <td>540.00</td>\n",
              "      <td>530.177026</td>\n",
              "    </tr>\n",
              "    <tr>\n",
              "      <th>482</th>\n",
              "      <td>545.15</td>\n",
              "      <td>531.725930</td>\n",
              "    </tr>\n",
              "    <tr>\n",
              "      <th>483</th>\n",
              "      <td>540.85</td>\n",
              "      <td>528.702887</td>\n",
              "    </tr>\n",
              "    <tr>\n",
              "      <th>484</th>\n",
              "      <td>539.35</td>\n",
              "      <td>524.768838</td>\n",
              "    </tr>\n",
              "    <tr>\n",
              "      <th>485</th>\n",
              "      <td>542.50</td>\n",
              "      <td>523.933106</td>\n",
              "    </tr>\n",
              "    <tr>\n",
              "      <th>486</th>\n",
              "      <td>536.75</td>\n",
              "      <td>523.130188</td>\n",
              "    </tr>\n",
              "    <tr>\n",
              "      <th>487</th>\n",
              "      <td>528.65</td>\n",
              "      <td>519.982955</td>\n",
              "    </tr>\n",
              "    <tr>\n",
              "      <th>488</th>\n",
              "      <td>538.75</td>\n",
              "      <td>514.264565</td>\n",
              "    </tr>\n",
              "    <tr>\n",
              "      <th>489</th>\n",
              "      <td>539.60</td>\n",
              "      <td>510.901189</td>\n",
              "    </tr>\n",
              "    <tr>\n",
              "      <th>490</th>\n",
              "      <td>536.40</td>\n",
              "      <td>513.089961</td>\n",
              "    </tr>\n",
              "    <tr>\n",
              "      <th>491</th>\n",
              "      <td>534.05</td>\n",
              "      <td>511.726220</td>\n",
              "    </tr>\n",
              "    <tr>\n",
              "      <th>492</th>\n",
              "      <td>528.75</td>\n",
              "      <td>506.001580</td>\n",
              "    </tr>\n",
              "    <tr>\n",
              "      <th>493</th>\n",
              "      <td>535.10</td>\n",
              "      <td>504.725818</td>\n",
              "    </tr>\n",
              "    <tr>\n",
              "      <th>494</th>\n",
              "      <td>531.20</td>\n",
              "      <td>506.198870</td>\n",
              "    </tr>\n",
              "    <tr>\n",
              "      <th>495</th>\n",
              "      <td>524.95</td>\n",
              "      <td>506.285252</td>\n",
              "    </tr>\n",
              "  </tbody>\n",
              "</table>\n",
              "</div>\n",
              "    <div class=\"colab-df-buttons\">\n",
              "\n",
              "  <div class=\"colab-df-container\">\n",
              "    <button class=\"colab-df-convert\" onclick=\"convertToInteractive('df-98568d4b-8d78-494a-93a1-ed0d279a9fa1')\"\n",
              "            title=\"Convert this dataframe to an interactive table.\"\n",
              "            style=\"display:none;\">\n",
              "\n",
              "  <svg xmlns=\"http://www.w3.org/2000/svg\" height=\"24px\" viewBox=\"0 -960 960 960\">\n",
              "    <path d=\"M120-120v-720h720v720H120Zm60-500h600v-160H180v160Zm220 220h160v-160H400v160Zm0 220h160v-160H400v160ZM180-400h160v-160H180v160Zm440 0h160v-160H620v160ZM180-180h160v-160H180v160Zm440 0h160v-160H620v160Z\"/>\n",
              "  </svg>\n",
              "    </button>\n",
              "\n",
              "  <style>\n",
              "    .colab-df-container {\n",
              "      display:flex;\n",
              "      gap: 12px;\n",
              "    }\n",
              "\n",
              "    .colab-df-convert {\n",
              "      background-color: #E8F0FE;\n",
              "      border: none;\n",
              "      border-radius: 50%;\n",
              "      cursor: pointer;\n",
              "      display: none;\n",
              "      fill: #1967D2;\n",
              "      height: 32px;\n",
              "      padding: 0 0 0 0;\n",
              "      width: 32px;\n",
              "    }\n",
              "\n",
              "    .colab-df-convert:hover {\n",
              "      background-color: #E2EBFA;\n",
              "      box-shadow: 0px 1px 2px rgba(60, 64, 67, 0.3), 0px 1px 3px 1px rgba(60, 64, 67, 0.15);\n",
              "      fill: #174EA6;\n",
              "    }\n",
              "\n",
              "    .colab-df-buttons div {\n",
              "      margin-bottom: 4px;\n",
              "    }\n",
              "\n",
              "    [theme=dark] .colab-df-convert {\n",
              "      background-color: #3B4455;\n",
              "      fill: #D2E3FC;\n",
              "    }\n",
              "\n",
              "    [theme=dark] .colab-df-convert:hover {\n",
              "      background-color: #434B5C;\n",
              "      box-shadow: 0px 1px 3px 1px rgba(0, 0, 0, 0.15);\n",
              "      filter: drop-shadow(0px 1px 2px rgba(0, 0, 0, 0.3));\n",
              "      fill: #FFFFFF;\n",
              "    }\n",
              "  </style>\n",
              "\n",
              "    <script>\n",
              "      const buttonEl =\n",
              "        document.querySelector('#df-98568d4b-8d78-494a-93a1-ed0d279a9fa1 button.colab-df-convert');\n",
              "      buttonEl.style.display =\n",
              "        google.colab.kernel.accessAllowed ? 'block' : 'none';\n",
              "\n",
              "      async function convertToInteractive(key) {\n",
              "        const element = document.querySelector('#df-98568d4b-8d78-494a-93a1-ed0d279a9fa1');\n",
              "        const dataTable =\n",
              "          await google.colab.kernel.invokeFunction('convertToInteractive',\n",
              "                                                    [key], {});\n",
              "        if (!dataTable) return;\n",
              "\n",
              "        const docLinkHtml = 'Like what you see? Visit the ' +\n",
              "          '<a target=\"_blank\" href=https://colab.research.google.com/notebooks/data_table.ipynb>data table notebook</a>'\n",
              "          + ' to learn more about interactive tables.';\n",
              "        element.innerHTML = '';\n",
              "        dataTable['output_type'] = 'display_data';\n",
              "        await google.colab.output.renderOutput(dataTable, element);\n",
              "        const docLink = document.createElement('div');\n",
              "        docLink.innerHTML = docLinkHtml;\n",
              "        element.appendChild(docLink);\n",
              "      }\n",
              "    </script>\n",
              "  </div>\n",
              "\n",
              "\n",
              "<div id=\"df-f12db74d-40c4-41b3-ae1a-da23637f2835\">\n",
              "  <button class=\"colab-df-quickchart\" onclick=\"quickchart('df-f12db74d-40c4-41b3-ae1a-da23637f2835')\"\n",
              "            title=\"Suggest charts\"\n",
              "            style=\"display:none;\">\n",
              "\n",
              "<svg xmlns=\"http://www.w3.org/2000/svg\" height=\"24px\"viewBox=\"0 0 24 24\"\n",
              "     width=\"24px\">\n",
              "    <g>\n",
              "        <path d=\"M19 3H5c-1.1 0-2 .9-2 2v14c0 1.1.9 2 2 2h14c1.1 0 2-.9 2-2V5c0-1.1-.9-2-2-2zM9 17H7v-7h2v7zm4 0h-2V7h2v10zm4 0h-2v-4h2v4z\"/>\n",
              "    </g>\n",
              "</svg>\n",
              "  </button>\n",
              "\n",
              "<style>\n",
              "  .colab-df-quickchart {\n",
              "      --bg-color: #E8F0FE;\n",
              "      --fill-color: #1967D2;\n",
              "      --hover-bg-color: #E2EBFA;\n",
              "      --hover-fill-color: #174EA6;\n",
              "      --disabled-fill-color: #AAA;\n",
              "      --disabled-bg-color: #DDD;\n",
              "  }\n",
              "\n",
              "  [theme=dark] .colab-df-quickchart {\n",
              "      --bg-color: #3B4455;\n",
              "      --fill-color: #D2E3FC;\n",
              "      --hover-bg-color: #434B5C;\n",
              "      --hover-fill-color: #FFFFFF;\n",
              "      --disabled-bg-color: #3B4455;\n",
              "      --disabled-fill-color: #666;\n",
              "  }\n",
              "\n",
              "  .colab-df-quickchart {\n",
              "    background-color: var(--bg-color);\n",
              "    border: none;\n",
              "    border-radius: 50%;\n",
              "    cursor: pointer;\n",
              "    display: none;\n",
              "    fill: var(--fill-color);\n",
              "    height: 32px;\n",
              "    padding: 0;\n",
              "    width: 32px;\n",
              "  }\n",
              "\n",
              "  .colab-df-quickchart:hover {\n",
              "    background-color: var(--hover-bg-color);\n",
              "    box-shadow: 0 1px 2px rgba(60, 64, 67, 0.3), 0 1px 3px 1px rgba(60, 64, 67, 0.15);\n",
              "    fill: var(--button-hover-fill-color);\n",
              "  }\n",
              "\n",
              "  .colab-df-quickchart-complete:disabled,\n",
              "  .colab-df-quickchart-complete:disabled:hover {\n",
              "    background-color: var(--disabled-bg-color);\n",
              "    fill: var(--disabled-fill-color);\n",
              "    box-shadow: none;\n",
              "  }\n",
              "\n",
              "  .colab-df-spinner {\n",
              "    border: 2px solid var(--fill-color);\n",
              "    border-color: transparent;\n",
              "    border-bottom-color: var(--fill-color);\n",
              "    animation:\n",
              "      spin 1s steps(1) infinite;\n",
              "  }\n",
              "\n",
              "  @keyframes spin {\n",
              "    0% {\n",
              "      border-color: transparent;\n",
              "      border-bottom-color: var(--fill-color);\n",
              "      border-left-color: var(--fill-color);\n",
              "    }\n",
              "    20% {\n",
              "      border-color: transparent;\n",
              "      border-left-color: var(--fill-color);\n",
              "      border-top-color: var(--fill-color);\n",
              "    }\n",
              "    30% {\n",
              "      border-color: transparent;\n",
              "      border-left-color: var(--fill-color);\n",
              "      border-top-color: var(--fill-color);\n",
              "      border-right-color: var(--fill-color);\n",
              "    }\n",
              "    40% {\n",
              "      border-color: transparent;\n",
              "      border-right-color: var(--fill-color);\n",
              "      border-top-color: var(--fill-color);\n",
              "    }\n",
              "    60% {\n",
              "      border-color: transparent;\n",
              "      border-right-color: var(--fill-color);\n",
              "    }\n",
              "    80% {\n",
              "      border-color: transparent;\n",
              "      border-right-color: var(--fill-color);\n",
              "      border-bottom-color: var(--fill-color);\n",
              "    }\n",
              "    90% {\n",
              "      border-color: transparent;\n",
              "      border-bottom-color: var(--fill-color);\n",
              "    }\n",
              "  }\n",
              "</style>\n",
              "\n",
              "  <script>\n",
              "    async function quickchart(key) {\n",
              "      const quickchartButtonEl =\n",
              "        document.querySelector('#' + key + ' button');\n",
              "      quickchartButtonEl.disabled = true;  // To prevent multiple clicks.\n",
              "      quickchartButtonEl.classList.add('colab-df-spinner');\n",
              "      try {\n",
              "        const charts = await google.colab.kernel.invokeFunction(\n",
              "            'suggestCharts', [key], {});\n",
              "      } catch (error) {\n",
              "        console.error('Error during call to suggestCharts:', error);\n",
              "      }\n",
              "      quickchartButtonEl.classList.remove('colab-df-spinner');\n",
              "      quickchartButtonEl.classList.add('colab-df-quickchart-complete');\n",
              "    }\n",
              "    (() => {\n",
              "      let quickchartButtonEl =\n",
              "        document.querySelector('#df-f12db74d-40c4-41b3-ae1a-da23637f2835 button');\n",
              "      quickchartButtonEl.style.display =\n",
              "        google.colab.kernel.accessAllowed ? 'block' : 'none';\n",
              "    })();\n",
              "  </script>\n",
              "</div>\n",
              "\n",
              "  <div id=\"id_b80c6d49-d36c-4615-b182-295523f4d29b\">\n",
              "    <style>\n",
              "      .colab-df-generate {\n",
              "        background-color: #E8F0FE;\n",
              "        border: none;\n",
              "        border-radius: 50%;\n",
              "        cursor: pointer;\n",
              "        display: none;\n",
              "        fill: #1967D2;\n",
              "        height: 32px;\n",
              "        padding: 0 0 0 0;\n",
              "        width: 32px;\n",
              "      }\n",
              "\n",
              "      .colab-df-generate:hover {\n",
              "        background-color: #E2EBFA;\n",
              "        box-shadow: 0px 1px 2px rgba(60, 64, 67, 0.3), 0px 1px 3px 1px rgba(60, 64, 67, 0.15);\n",
              "        fill: #174EA6;\n",
              "      }\n",
              "\n",
              "      [theme=dark] .colab-df-generate {\n",
              "        background-color: #3B4455;\n",
              "        fill: #D2E3FC;\n",
              "      }\n",
              "\n",
              "      [theme=dark] .colab-df-generate:hover {\n",
              "        background-color: #434B5C;\n",
              "        box-shadow: 0px 1px 3px 1px rgba(0, 0, 0, 0.15);\n",
              "        filter: drop-shadow(0px 1px 2px rgba(0, 0, 0, 0.3));\n",
              "        fill: #FFFFFF;\n",
              "      }\n",
              "    </style>\n",
              "    <button class=\"colab-df-generate\" onclick=\"generateWithVariable('test')\"\n",
              "            title=\"Generate code using this dataframe.\"\n",
              "            style=\"display:none;\">\n",
              "\n",
              "  <svg xmlns=\"http://www.w3.org/2000/svg\" height=\"24px\"viewBox=\"0 0 24 24\"\n",
              "       width=\"24px\">\n",
              "    <path d=\"M7,19H8.4L18.45,9,17,7.55,7,17.6ZM5,21V16.75L18.45,3.32a2,2,0,0,1,2.83,0l1.4,1.43a1.91,1.91,0,0,1,.58,1.4,1.91,1.91,0,0,1-.58,1.4L9.25,21ZM18.45,9,17,7.55Zm-12,3A5.31,5.31,0,0,0,4.9,8.1,5.31,5.31,0,0,0,1,6.5,5.31,5.31,0,0,0,4.9,4.9,5.31,5.31,0,0,0,6.5,1,5.31,5.31,0,0,0,8.1,4.9,5.31,5.31,0,0,0,12,6.5,5.46,5.46,0,0,0,6.5,12Z\"/>\n",
              "  </svg>\n",
              "    </button>\n",
              "    <script>\n",
              "      (() => {\n",
              "      const buttonEl =\n",
              "        document.querySelector('#id_b80c6d49-d36c-4615-b182-295523f4d29b button.colab-df-generate');\n",
              "      buttonEl.style.display =\n",
              "        google.colab.kernel.accessAllowed ? 'block' : 'none';\n",
              "\n",
              "      buttonEl.onclick = () => {\n",
              "        google.colab.notebook.generateWithVariable('test');\n",
              "      }\n",
              "      })();\n",
              "    </script>\n",
              "  </div>\n",
              "\n",
              "    </div>\n",
              "  </div>\n"
            ],
            "application/vnd.google.colaboratory.intrinsic+json": {
              "type": "dataframe",
              "variable_name": "test",
              "summary": "{\n  \"name\": \"test\",\n  \"rows\": 16,\n  \"fields\": [\n    {\n      \"column\": \"close \",\n      \"properties\": {\n        \"dtype\": \"number\",\n        \"std\": 6.113495147349553,\n        \"min\": 524.95,\n        \"max\": 546.8,\n        \"num_unique_values\": 16,\n        \"samples\": [\n          546.8,\n          540.0,\n          542.5\n        ],\n        \"semantic_type\": \"\",\n        \"description\": \"\"\n      }\n    },\n    {\n      \"column\": \"predictions\",\n      \"properties\": {\n        \"dtype\": \"number\",\n        \"std\": 10.27964653785003,\n        \"min\": 504.7258175313473,\n        \"max\": 535.2801759779453,\n        \"num_unique_values\": 16,\n        \"samples\": [\n          535.2801759779453,\n          530.1770261526108,\n          523.9331059098243\n        ],\n        \"semantic_type\": \"\",\n        \"description\": \"\"\n      }\n    }\n  ]\n}"
            }
          },
          "metadata": {},
          "execution_count": 192
        }
      ]
    },
    {
      "cell_type": "code",
      "source": [
        "test.plot(figsize=(12,8))\n",
        "airtel_close.plot()"
      ],
      "metadata": {
        "colab": {
          "base_uri": "https://localhost:8080/",
          "height": 1000
        },
        "id": "G6iXjM_NtRB-",
        "outputId": "24a12492-e276-4cba-8bb4-a6f5dd5b53e5"
      },
      "execution_count": null,
      "outputs": [
        {
          "output_type": "execute_result",
          "data": {
            "text/plain": [
              "<Axes: >"
            ]
          },
          "metadata": {},
          "execution_count": 193
        },
        {
          "output_type": "display_data",
          "data": {
            "text/plain": [
              "<Figure size 1200x800 with 1 Axes>"
            ],
            "image/png": "[encoded data removed]"
          },
          "metadata": {}
        },
        {
          "output_type": "display_data",
          "data": {
            "text/plain": [
              "<Figure size 640x480 with 1 Axes>"
            ],
            "image/png": "[encoded data removed]"
          },
          "metadata": {}
        }
      ]
    },
    {
      "cell_type": "markdown",
      "source": [],
      "metadata": {
        "id": "WbZEfHGyt0oc"
      }
    },
    {
      "cell_type": "markdown",
      "source": [
        "# Creating Full Model"
      ],
      "metadata": {
        "id": "fMLDQDHjt2B7"
      }
    },
    {
      "cell_type": "markdown",
      "source": [],
      "metadata": {
        "id": "EDJFGEmnt-Ap"
      }
    },
    {
      "cell_type": "code",
      "source": [
        "full_scaler = MinMaxScaler()\n",
        "scaled_full_data = full_scaler.fit_transform(airtel_close)"
      ],
      "metadata": {
        "id": "YWttsmr3uY1U"
      },
      "execution_count": null,
      "outputs": []
    },
    {
      "cell_type": "code",
      "source": [
        "generator = TimeseriesGenerator(scaled_full_data,scaled_full_data,\n",
        "                                length = length, batch_size=32)"
      ],
      "metadata": {
        "id": "0ZXqOEt7u61z"
      },
      "execution_count": null,
      "outputs": []
    },
    {
      "cell_type": "code",
      "source": [
        "model = Sequential()\n",
        "\n",
        "model.add(SimpleRNN(30,input_shape=(length,n_features)))\n",
        "\n",
        "model.add(Dropout(rate=0.2))\n",
        "\n",
        "model.add(Dense(1))\n",
        "\n",
        "model.compile(optimizer='adam', loss='mse')"
      ],
      "metadata": {
        "id": "KfAKPW4qvHW2"
      },
      "execution_count": null,
      "outputs": []
    },
    {
      "cell_type": "code",
      "source": [
        "model.summary()"
      ],
      "metadata": {
        "colab": {
          "base_uri": "https://localhost:8080/"
        },
        "id": "7oXXgfQLri07",
        "outputId": "e0a6ff4b-c00d-47bc-a72c-b00fc5f619f6"
      },
      "execution_count": null,
      "outputs": [
        {
          "output_type": "stream",
          "name": "stdout",
          "text": [
            "Model: \"sequential_6\"\n",
            "_________________________________________________________________\n",
            " Layer (type)                Output Shape              Param #   \n",
            "=================================================================\n",
            " simple_rnn_6 (SimpleRNN)    (None, 30)                960       \n",
            "                                                                 \n",
            " dropout_6 (Dropout)         (None, 30)                0         \n",
            "                                                                 \n",
            " dense_6 (Dense)             (None, 1)                 31        \n",
            "                                                                 \n",
            "=================================================================\n",
            "Total params: 991 (3.87 KB)\n",
            "Trainable params: 991 (3.87 KB)\n",
            "Non-trainable params: 0 (0.00 Byte)\n",
            "_________________________________________________________________\n"
          ]
        }
      ]
    },
    {
      "cell_type": "code",
      "source": [
        "model.fit_generator(generator,epochs=10,shuffle=False)"
      ],
      "metadata": {
        "colab": {
          "base_uri": "https://localhost:8080/"
        },
        "id": "a3pm4E96rmji",
        "outputId": "d008d3ac-1ba8-4c4a-b62c-0e01f52d80c8"
      },
      "execution_count": null,
      "outputs": [
        {
          "output_type": "stream",
          "name": "stdout",
          "text": [
            "Epoch 1/10\n",
            "15/15 [==============================] - 0s 6ms/step - loss: 0.0042\n"
          ]
        },
        {
          "output_type": "stream",
          "name": "stderr",
          "text": [
            "<ipython-input-208-b5005ef83afd>:1: UserWarning: `Model.fit_generator` is deprecated and will be removed in a future version. Please use `Model.fit`, which supports generators.\n",
            "  model.fit_generator(generator,epochs=10,shuffle=False)\n"
          ]
        },
        {
          "output_type": "stream",
          "name": "stdout",
          "text": [
            "Epoch 2/10\n",
            "15/15 [==============================] - 0s 6ms/step - loss: 0.0043\n",
            "Epoch 3/10\n",
            "15/15 [==============================] - 0s 5ms/step - loss: 0.0043\n",
            "Epoch 4/10\n",
            "15/15 [==============================] - 0s 6ms/step - loss: 0.0042\n",
            "Epoch 5/10\n",
            "15/15 [==============================] - 0s 7ms/step - loss: 0.0038\n",
            "Epoch 6/10\n",
            "15/15 [==============================] - 0s 9ms/step - loss: 0.0040\n",
            "Epoch 7/10\n",
            "15/15 [==============================] - 0s 8ms/step - loss: 0.0043\n",
            "Epoch 8/10\n",
            "15/15 [==============================] - 0s 8ms/step - loss: 0.0040\n",
            "Epoch 9/10\n",
            "15/15 [==============================] - 0s 9ms/step - loss: 0.0042\n",
            "Epoch 10/10\n",
            "15/15 [==============================] - 0s 9ms/step - loss: 0.0039\n"
          ]
        },
        {
          "output_type": "execute_result",
          "data": {
            "text/plain": [
              "<keras.src.callbacks.History at 0x7fcec20e3af0>"
            ]
          },
          "metadata": {},
          "execution_count": 208
        }
      ]
    },
    {
      "cell_type": "code",
      "source": [
        "full_model_losses = pd.DataFrame(model.history.history)\n",
        "full_model_losses.plot()"
      ],
      "metadata": {
        "colab": {
          "base_uri": "https://localhost:8080/",
          "height": 447
        },
        "id": "9gHQrkYHw1dW",
        "outputId": "08e9338e-8555-4ccc-bf35-935deb874953"
      },
      "execution_count": null,
      "outputs": [
        {
          "output_type": "execute_result",
          "data": {
            "text/plain": [
              "<Axes: >"
            ]
          },
          "metadata": {},
          "execution_count": 209
        },
        {
          "output_type": "display_data",
          "data": {
            "text/plain": [
              "<Figure size 640x480 with 1 Axes>"
            ],
            "image/png": "[encoded data removed]"
          },
          "metadata": {}
        }
      ]
    },
    {
      "cell_type": "code",
      "source": [
        "forecast = []\n",
        "\n",
        "first_eval_batch = scaled_train[-length:]\n",
        "current_batch = first_eval_batch.reshape((1,length,n_features))\n",
        "\n",
        "for i in range(20):\n",
        "\n",
        "  #get prediction 1 time stamp ahead ([8] is for grabbing just the number instead of (array])\n",
        "  current_pred = model.predict(current_batch)[0]\n",
        "\n",
        "  #store prediction\n",
        "  forecast.append(current_pred)\n",
        "\n",
        "  #update batch to now include prediction and drop first value\n",
        "  current_batch = np.append(current_batch[:,1:,:],[[current_pred]],axis=1)"
      ],
      "metadata": {
        "colab": {
          "base_uri": "https://localhost:8080/"
        },
        "id": "B2ye3FrqxINM",
        "outputId": "46b5fe79-9e3e-43f2-910f-9ebeaa9bbd5d"
      },
      "execution_count": null,
      "outputs": [
        {
          "output_type": "stream",
          "name": "stdout",
          "text": [
            "1/1 [==============================] - 0s 256ms/step\n",
            "1/1 [==============================] - 0s 39ms/step\n",
            "1/1 [==============================] - 0s 31ms/step\n",
            "1/1 [==============================] - 0s 32ms/step\n",
            "1/1 [==============================] - 0s 32ms/step\n",
            "1/1 [==============================] - 0s 33ms/step\n",
            "1/1 [==============================] - 0s 37ms/step\n",
            "1/1 [==============================] - 0s 46ms/step\n",
            "1/1 [==============================] - 0s 31ms/step\n",
            "1/1 [==============================] - 0s 43ms/step\n",
            "1/1 [==============================] - 0s 43ms/step\n",
            "1/1 [==============================] - 0s 36ms/step\n",
            "1/1 [==============================] - 0s 37ms/step\n",
            "1/1 [==============================] - 0s 38ms/step\n",
            "1/1 [==============================] - 0s 38ms/step\n",
            "1/1 [==============================] - 0s 36ms/step\n",
            "1/1 [==============================] - 0s 32ms/step\n",
            "1/1 [==============================] - 0s 47ms/step\n",
            "1/1 [==============================] - 0s 34ms/step\n",
            "1/1 [==============================] - 0s 36ms/step\n"
          ]
        }
      ]
    },
    {
      "cell_type": "code",
      "source": [
        "forecast = scaler.inverse_transform(forecast)"
      ],
      "metadata": {
        "id": "qlNvoApTxWfM"
      },
      "execution_count": null,
      "outputs": []
    },
    {
      "cell_type": "code",
      "source": [
        "forecast"
      ],
      "metadata": {
        "colab": {
          "base_uri": "https://localhost:8080/"
        },
        "id": "JsClYjMuxfBH",
        "outputId": "20a856b2-e28f-4bc9-fed4-17b58eae931e"
      },
      "execution_count": null,
      "outputs": [
        {
          "output_type": "execute_result",
          "data": {
            "text/plain": [
              "array([[534.66851881],\n",
              "       [533.50186426],\n",
              "       [531.50537166],\n",
              "       [530.71434284],\n",
              "       [530.45779434],\n",
              "       [529.47270241],\n",
              "       [528.64018084],\n",
              "       [527.33705709],\n",
              "       [526.19226138],\n",
              "       [525.68707907],\n",
              "       [524.64288163],\n",
              "       [523.92515724],\n",
              "       [522.71133716],\n",
              "       [521.88090467],\n",
              "       [520.9963091 ],\n",
              "       [520.22591626],\n",
              "       [519.46070365],\n",
              "       [518.60812357],\n",
              "       [517.81257692],\n",
              "       [517.04605651]])"
            ]
          },
          "metadata": {},
          "execution_count": 212
        }
      ]
    },
    {
      "cell_type": "code",
      "source": [
        "forecast.flatten()"
      ],
      "metadata": {
        "colab": {
          "base_uri": "https://localhost:8080/"
        },
        "id": "CNlB_mhmxh8G",
        "outputId": "bc3aeb26-ff31-4859-b9b0-7403132d36fd"
      },
      "execution_count": null,
      "outputs": [
        {
          "output_type": "execute_result",
          "data": {
            "text/plain": [
              "array([534.66851881, 533.50186426, 531.50537166, 530.71434284,\n",
              "       530.45779434, 529.47270241, 528.64018084, 527.33705709,\n",
              "       526.19226138, 525.68707907, 524.64288163, 523.92515724,\n",
              "       522.71133716, 521.88090467, 520.9963091 , 520.22591626,\n",
              "       519.46070365, 518.60812357, 517.81257692, 517.04605651])"
            ]
          },
          "metadata": {},
          "execution_count": 213
        }
      ]
    },
    {
      "cell_type": "code",
      "source": [
        "df_array = np.array(airtel_close)\n",
        "df_array"
      ],
      "metadata": {
        "colab": {
          "base_uri": "https://localhost:8080/"
        },
        "id": "tv5iMSPWx1UJ",
        "outputId": "b7a9c463-3e72-4748-c4dc-99988739c97e"
      },
      "execution_count": null,
      "outputs": [
        {
          "output_type": "execute_result",
          "data": {
            "text/plain": [
              "array([[348.5 ],\n",
              "       [353.6 ],\n",
              "       [353.2 ],\n",
              "       [362.75],\n",
              "       [364.8 ],\n",
              "       [356.4 ],\n",
              "       [362.3 ],\n",
              "       [358.55],\n",
              "       [360.75],\n",
              "       [356.1 ],\n",
              "       [350.6 ],\n",
              "       [350.75],\n",
              "       [346.25],\n",
              "       [342.5 ],\n",
              "       [339.95],\n",
              "       [342.55],\n",
              "       [343.6 ],\n",
              "       [338.9 ],\n",
              "       [339.  ],\n",
              "       [334.9 ],\n",
              "       [334.55],\n",
              "       [345.75],\n",
              "       [337.6 ],\n",
              "       [323.9 ],\n",
              "       [343.55],\n",
              "       [357.7 ],\n",
              "       [368.45],\n",
              "       [366.1 ],\n",
              "       [372.15],\n",
              "       [371.15],\n",
              "       [351.65],\n",
              "       [361.2 ],\n",
              "       [361.55],\n",
              "       [361.  ],\n",
              "       [358.05],\n",
              "       [354.9 ],\n",
              "       [352.75],\n",
              "       [356.4 ],\n",
              "       [360.65],\n",
              "       [348.3 ],\n",
              "       [345.8 ],\n",
              "       [343.5 ],\n",
              "       [346.8 ],\n",
              "       [336.85],\n",
              "       [345.7 ],\n",
              "       [347.7 ],\n",
              "       [349.25],\n",
              "       [356.45],\n",
              "       [355.1 ],\n",
              "       [347.55],\n",
              "       [343.05],\n",
              "       [344.  ],\n",
              "       [339.85],\n",
              "       [335.6 ],\n",
              "       [337.6 ],\n",
              "       [356.4 ],\n",
              "       [348.  ],\n",
              "       [348.65],\n",
              "       [341.65],\n",
              "       [344.05],\n",
              "       [349.1 ],\n",
              "       [367.05],\n",
              "       [350.95],\n",
              "       [344.9 ],\n",
              "       [339.5 ],\n",
              "       [341.55],\n",
              "       [359.4 ],\n",
              "       [377.25],\n",
              "       [382.9 ],\n",
              "       [393.55],\n",
              "       [383.65],\n",
              "       [385.25],\n",
              "       [385.85],\n",
              "       [383.5 ],\n",
              "       [374.1 ],\n",
              "       [360.35],\n",
              "       [372.35],\n",
              "       [375.15],\n",
              "       [373.1 ],\n",
              "       [359.9 ],\n",
              "       [367.95],\n",
              "       [374.25],\n",
              "       [373.05],\n",
              "       [378.  ],\n",
              "       [383.95],\n",
              "       [371.45],\n",
              "       [371.75],\n",
              "       [369.15],\n",
              "       [371.5 ],\n",
              "       [368.6 ],\n",
              "       [362.5 ],\n",
              "       [393.05],\n",
              "       [409.2 ],\n",
              "       [439.35],\n",
              "       [437.3 ],\n",
              "       [426.3 ],\n",
              "       [420.65],\n",
              "       [451.4 ],\n",
              "       [432.35],\n",
              "       [433.35],\n",
              "       [436.65],\n",
              "       [442.45],\n",
              "       [458.6 ],\n",
              "       [459.1 ],\n",
              "       [461.4 ],\n",
              "       [447.35],\n",
              "       [444.85],\n",
              "       [445.85],\n",
              "       [447.  ],\n",
              "       [442.75],\n",
              "       [438.65],\n",
              "       [427.8 ],\n",
              "       [421.85],\n",
              "       [439.95],\n",
              "       [438.3 ],\n",
              "       [449.45],\n",
              "       [453.8 ],\n",
              "       [454.8 ],\n",
              "       [457.15],\n",
              "       [447.55],\n",
              "       [455.1 ],\n",
              "       [460.5 ],\n",
              "       [455.8 ],\n",
              "       [453.3 ],\n",
              "       [455.2 ],\n",
              "       [455.1 ],\n",
              "       [449.65],\n",
              "       [445.1 ],\n",
              "       [458.85],\n",
              "       [460.1 ],\n",
              "       [457.  ],\n",
              "       [468.9 ],\n",
              "       [469.35],\n",
              "       [467.85],\n",
              "       [473.9 ],\n",
              "       [500.05],\n",
              "       [508.7 ],\n",
              "       [511.75],\n",
              "       [514.5 ],\n",
              "       [523.65],\n",
              "       [524.25],\n",
              "       [514.4 ],\n",
              "       [491.25],\n",
              "       [490.25],\n",
              "       [489.8 ],\n",
              "       [496.45],\n",
              "       [497.2 ],\n",
              "       [510.05],\n",
              "       [518.9 ],\n",
              "       [533.35],\n",
              "       [546.8 ],\n",
              "       [539.45],\n",
              "       [538.7 ],\n",
              "       [534.3 ],\n",
              "       [539.6 ],\n",
              "       [539.95],\n",
              "       [565.  ],\n",
              "       [564.85],\n",
              "       [548.25],\n",
              "       [543.4 ],\n",
              "       [545.6 ],\n",
              "       [529.9 ],\n",
              "       [535.25],\n",
              "       [535.95],\n",
              "       [531.65],\n",
              "       [523.5 ],\n",
              "       [518.35],\n",
              "       [520.8 ],\n",
              "       [516.75],\n",
              "       [526.9 ],\n",
              "       [519.15],\n",
              "       [496.25],\n",
              "       [493.8 ],\n",
              "       [464.95],\n",
              "       [491.85],\n",
              "       [464.8 ],\n",
              "       [454.7 ],\n",
              "       [425.55],\n",
              "       [444.75],\n",
              "       [462.65],\n",
              "       [407.35],\n",
              "       [404.05],\n",
              "       [429.1 ],\n",
              "       [470.7 ],\n",
              "       [448.95],\n",
              "       [431.05],\n",
              "       [440.9 ],\n",
              "       [421.35],\n",
              "       [423.95],\n",
              "       [470.2 ],\n",
              "       [461.65],\n",
              "       [488.7 ],\n",
              "       [512.2 ],\n",
              "       [510.5 ],\n",
              "       [500.45],\n",
              "       [502.45],\n",
              "       [490.3 ],\n",
              "       [500.5 ],\n",
              "       [501.4 ],\n",
              "       [496.  ],\n",
              "       [494.25],\n",
              "       [494.05],\n",
              "       [485.65],\n",
              "       [496.  ],\n",
              "       [514.3 ],\n",
              "       [532.5 ],\n",
              "       [528.05],\n",
              "       [546.  ],\n",
              "       [528.05],\n",
              "       [530.05],\n",
              "       [536.2 ],\n",
              "       [559.85],\n",
              "       [555.95],\n",
              "       [539.85],\n",
              "       [554.1 ],\n",
              "       [538.05],\n",
              "       [598.8 ],\n",
              "       [594.05],\n",
              "       [594.55],\n",
              "       [593.2 ],\n",
              "       [559.25],\n",
              "       [563.1 ],\n",
              "       [562.75],\n",
              "       [552.6 ],\n",
              "       [559.05],\n",
              "       [558.1 ],\n",
              "       [551.65],\n",
              "       [572.45],\n",
              "       [584.35],\n",
              "       [585.15],\n",
              "       [567.8 ],\n",
              "       [567.1 ],\n",
              "       [551.85],\n",
              "       [560.1 ],\n",
              "       [550.7 ],\n",
              "       [544.9 ],\n",
              "       [563.45],\n",
              "       [560.9 ],\n",
              "       [572.5 ],\n",
              "       [581.05],\n",
              "       [578.8 ],\n",
              "       [557.35],\n",
              "       [559.  ],\n",
              "       [560.4 ],\n",
              "       [567.1 ],\n",
              "       [559.85],\n",
              "       [560.15],\n",
              "       [558.45],\n",
              "       [581.45],\n",
              "       [576.6 ],\n",
              "       [567.15],\n",
              "       [561.3 ],\n",
              "       [568.65],\n",
              "       [574.7 ],\n",
              "       [586.8 ],\n",
              "       [589.35],\n",
              "       [563.6 ],\n",
              "       [562.75],\n",
              "       [566.75],\n",
              "       [575.75],\n",
              "       [567.75],\n",
              "       [569.15],\n",
              "       [567.2 ],\n",
              "       [559.45],\n",
              "       [559.5 ],\n",
              "       [564.6 ],\n",
              "       [566.2 ],\n",
              "       [552.7 ],\n",
              "       [554.85],\n",
              "       [547.35],\n",
              "       [549.  ],\n",
              "       [558.95],\n",
              "       [555.3 ],\n",
              "       [560.8 ],\n",
              "       [558.85],\n",
              "       [551.1 ],\n",
              "       [547.7 ],\n",
              "       [535.35],\n",
              "       [528.6 ],\n",
              "       [521.4 ],\n",
              "       [526.3 ],\n",
              "       [535.85],\n",
              "       [525.55],\n",
              "       [520.25],\n",
              "       [526.9 ],\n",
              "       [528.65],\n",
              "       [514.5 ],\n",
              "       [511.15],\n",
              "       [523.45],\n",
              "       [513.1 ],\n",
              "       [546.25],\n",
              "       [550.55],\n",
              "       [538.  ],\n",
              "       [523.15],\n",
              "       [515.45],\n",
              "       [498.1 ],\n",
              "       [504.25],\n",
              "       [497.35],\n",
              "       [491.65],\n",
              "       [474.1 ],\n",
              "       [485.55],\n",
              "       [481.75],\n",
              "       [479.  ],\n",
              "       [494.55],\n",
              "       [467.75],\n",
              "       [470.95],\n",
              "       [433.8 ],\n",
              "       [419.3 ],\n",
              "       [439.65],\n",
              "       [443.65],\n",
              "       [435.6 ],\n",
              "       [420.95],\n",
              "       [432.35],\n",
              "       [424.45],\n",
              "       [426.75],\n",
              "       [422.45],\n",
              "       [424.45],\n",
              "       [425.2 ],\n",
              "       [415.05],\n",
              "       [415.3 ],\n",
              "       [413.25],\n",
              "       [399.2 ],\n",
              "       [401.65],\n",
              "       [397.7 ],\n",
              "       [405.  ],\n",
              "       [419.  ],\n",
              "       [430.65],\n",
              "       [434.4 ],\n",
              "       [434.05],\n",
              "       [433.35],\n",
              "       [451.85],\n",
              "       [450.8 ],\n",
              "       [433.75],\n",
              "       [457.4 ],\n",
              "       [454.6 ],\n",
              "       [453.05],\n",
              "       [457.3 ],\n",
              "       [449.9 ],\n",
              "       [471.8 ],\n",
              "       [466.4 ],\n",
              "       [478.6 ],\n",
              "       [479.85],\n",
              "       [475.75],\n",
              "       [481.5 ],\n",
              "       [484.55],\n",
              "       [478.4 ],\n",
              "       [468.55],\n",
              "       [483.7 ],\n",
              "       [477.25],\n",
              "       [474.25],\n",
              "       [464.1 ],\n",
              "       [468.4 ],\n",
              "       [463.25],\n",
              "       [479.45],\n",
              "       [484.9 ],\n",
              "       [479.9 ],\n",
              "       [493.75],\n",
              "       [508.95],\n",
              "       [503.6 ],\n",
              "       [503.05],\n",
              "       [505.15],\n",
              "       [504.4 ],\n",
              "       [503.05],\n",
              "       [504.2 ],\n",
              "       [516.2 ],\n",
              "       [515.1 ],\n",
              "       [510.65],\n",
              "       [490.9 ],\n",
              "       [500.3 ],\n",
              "       [507.2 ],\n",
              "       [517.3 ],\n",
              "       [521.6 ],\n",
              "       [520.25],\n",
              "       [516.15],\n",
              "       [509.7 ],\n",
              "       [515.15],\n",
              "       [517.1 ],\n",
              "       [514.  ],\n",
              "       [525.3 ],\n",
              "       [545.25],\n",
              "       [540.25],\n",
              "       [547.15],\n",
              "       [565.75],\n",
              "       [578.25],\n",
              "       [580.55],\n",
              "       [602.65],\n",
              "       [586.95],\n",
              "       [592.3 ],\n",
              "       [596.15],\n",
              "       [581.35],\n",
              "       [576.85],\n",
              "       [580.75],\n",
              "       [570.8 ],\n",
              "       [570.9 ],\n",
              "       [553.6 ],\n",
              "       [579.15],\n",
              "       [599.35],\n",
              "       [608.85],\n",
              "       [600.6 ],\n",
              "       [581.1 ],\n",
              "       [597.3 ],\n",
              "       [598.95],\n",
              "       [590.2 ],\n",
              "       [598.1 ],\n",
              "       [586.25],\n",
              "       [593.7 ],\n",
              "       [593.95],\n",
              "       [593.85],\n",
              "       [589.05],\n",
              "       [581.35],\n",
              "       [570.3 ],\n",
              "       [565.55],\n",
              "       [572.95],\n",
              "       [579.15],\n",
              "       [556.3 ],\n",
              "       [532.2 ],\n",
              "       [541.2 ],\n",
              "       [546.3 ],\n",
              "       [539.6 ],\n",
              "       [532.8 ],\n",
              "       [525.7 ],\n",
              "       [521.75],\n",
              "       [525.85],\n",
              "       [524.2 ],\n",
              "       [522.85],\n",
              "       [529.3 ],\n",
              "       [522.9 ],\n",
              "       [527.2 ],\n",
              "       [529.95],\n",
              "       [528.  ],\n",
              "       [529.25],\n",
              "       [523.65],\n",
              "       [507.75],\n",
              "       [522.5 ],\n",
              "       [521.5 ],\n",
              "       [517.3 ],\n",
              "       [520.8 ],\n",
              "       [528.25],\n",
              "       [532.2 ],\n",
              "       [541.6 ],\n",
              "       [543.  ],\n",
              "       [545.25],\n",
              "       [522.45],\n",
              "       [536.15],\n",
              "       [539.35],\n",
              "       [540.75],\n",
              "       [526.45],\n",
              "       [530.2 ],\n",
              "       [530.85],\n",
              "       [522.6 ],\n",
              "       [527.55],\n",
              "       [534.3 ],\n",
              "       [544.3 ],\n",
              "       [540.85],\n",
              "       [536.75],\n",
              "       [558.85],\n",
              "       [552.45],\n",
              "       [559.95],\n",
              "       [558.75],\n",
              "       [568.5 ],\n",
              "       [572.55],\n",
              "       [568.4 ],\n",
              "       [561.75],\n",
              "       [560.4 ],\n",
              "       [549.65],\n",
              "       [536.35],\n",
              "       [528.2 ],\n",
              "       [520.65],\n",
              "       [530.95],\n",
              "       [526.8 ],\n",
              "       [526.1 ],\n",
              "       [525.75],\n",
              "       [519.8 ],\n",
              "       [523.6 ],\n",
              "       [534.9 ],\n",
              "       [532.9 ],\n",
              "       [529.5 ],\n",
              "       [532.05],\n",
              "       [532.7 ],\n",
              "       [536.45],\n",
              "       [546.8 ],\n",
              "       [540.  ],\n",
              "       [545.15],\n",
              "       [540.85],\n",
              "       [539.35],\n",
              "       [542.5 ],\n",
              "       [536.75],\n",
              "       [528.65],\n",
              "       [538.75],\n",
              "       [539.6 ],\n",
              "       [536.4 ],\n",
              "       [534.05],\n",
              "       [528.75],\n",
              "       [535.1 ],\n",
              "       [531.2 ],\n",
              "       [524.95]])"
            ]
          },
          "metadata": {},
          "execution_count": 214
        }
      ]
    },
    {
      "cell_type": "code",
      "source": [
        "full_data = pd.DataFrame(np.concatenate((df_array.flatten(), forecast.flatten())))"
      ],
      "metadata": {
        "id": "YvxKMdvYyKFO"
      },
      "execution_count": null,
      "outputs": []
    },
    {
      "cell_type": "code",
      "source": [
        "full_data.plot()"
      ],
      "metadata": {
        "id": "LEb15DVeyQZn",
        "outputId": "b522d6db-f778-4e44-860d-05cf1e817cb0",
        "colab": {
          "base_uri": "https://localhost:8080/",
          "height": 447
        }
      },
      "execution_count": null,
      "outputs": [
        {
          "output_type": "execute_result",
          "data": {
            "text/plain": [
              "<Axes: >"
            ]
          },
          "metadata": {},
          "execution_count": 216
        },
        {
          "output_type": "display_data",
          "data": {
            "text/plain": [
              "<Figure size 640x480 with 1 Axes>"
            ],
            "image/png": "[encoded data removed]"
          },
          "metadata": {}
        }
      ]
    },
    {
      "cell_type": "markdown",
      "source": [
        "# LSTM Model"
      ],
      "metadata": {
        "id": "56EXFo3fdMq0"
      }
    },
    {
      "cell_type": "code",
      "source": [
        "from tensorflow.keras.callbacks import EarlyStopping\n",
        "early_stop = EarlyStopping(monitor='val_loss',patience=2)"
      ],
      "metadata": {
        "id": "XSSN08qbdQak"
      },
      "execution_count": null,
      "outputs": []
    },
    {
      "cell_type": "code",
      "source": [
        "length"
      ],
      "metadata": {
        "colab": {
          "base_uri": "https://localhost:8080/"
        },
        "id": "x60I9dNidglT",
        "outputId": "cc17ffc6-4fcd-429d-9096-8b341e2d92b5"
      },
      "execution_count": null,
      "outputs": [
        {
          "output_type": "execute_result",
          "data": {
            "text/plain": [
              "16"
            ]
          },
          "metadata": {},
          "execution_count": 218
        }
      ]
    },
    {
      "cell_type": "code",
      "source": [
        "scaled_test.shape"
      ],
      "metadata": {
        "colab": {
          "base_uri": "https://localhost:8080/"
        },
        "id": "SFtuZJWtelzS",
        "outputId": "8ec0760e-6854-4306-cf6b-71b4df8a7a36"
      },
      "execution_count": null,
      "outputs": [
        {
          "output_type": "execute_result",
          "data": {
            "text/plain": [
              "(16, 1)"
            ]
          },
          "metadata": {},
          "execution_count": 219
        }
      ]
    },
    {
      "cell_type": "code",
      "source": [
        "length = 15\n",
        "generator = TimeseriesGenerator(scaled_train,scaled_train,\n",
        "                                length = length, batch_size=32)\n",
        "validation_generator = TimeseriesGenerator(scaled_test,scaled_test,\n",
        "                                length = length, batch_size=32)\n"
      ],
      "metadata": {
        "id": "g17nUdPFeosS"
      },
      "execution_count": null,
      "outputs": []
    },
    {
      "cell_type": "code",
      "source": [
        "model = Sequential()\n",
        "\n",
        "model.add(LSTM(30,input_shape=(length,n_features)))\n",
        "\n",
        "#model.add(LSTM(30)) - stacked LSTM\n",
        "\n",
        "model.add(Dropout(rate=0.2))\n",
        "\n",
        "model.add(Dense(1))\n",
        "\n",
        "model.compile(optimizer='adam',loss='mse')"
      ],
      "metadata": {
        "id": "_Bd7-qPEsM1l"
      },
      "execution_count": null,
      "outputs": []
    },
    {
      "cell_type": "code",
      "source": [
        "model.fit(generator,epochs=20,\n",
        "          validation_data = validation_generator,\n",
        "          callbacks=[early_stop],shuffle=False)\n"
      ],
      "metadata": {
        "colab": {
          "base_uri": "https://localhost:8080/"
        },
        "id": "rA2Zb5WW4D07",
        "outputId": "f289d3ef-7c9b-41a0-decd-475b98052a75"
      },
      "execution_count": null,
      "outputs": [
        {
          "output_type": "stream",
          "name": "stdout",
          "text": [
            "Epoch 1/20\n",
            "15/15 [==============================] - 3s 46ms/step - loss: 0.3648 - val_loss: 0.2775\n",
            "Epoch 2/20\n",
            "15/15 [==============================] - 0s 12ms/step - loss: 0.1073 - val_loss: 0.0215\n",
            "Epoch 3/20\n",
            "15/15 [==============================] - 0s 11ms/step - loss: 0.0207 - val_loss: 0.0108\n",
            "Epoch 4/20\n",
            "15/15 [==============================] - 0s 12ms/step - loss: 0.0221 - val_loss: 9.9545e-05\n",
            "Epoch 5/20\n",
            "15/15 [==============================] - 0s 11ms/step - loss: 0.0171 - val_loss: 4.3656e-04\n",
            "Epoch 6/20\n",
            "15/15 [==============================] - 0s 12ms/step - loss: 0.0170 - val_loss: 0.0011\n"
          ]
        },
        {
          "output_type": "execute_result",
          "data": {
            "text/plain": [
              "<keras.src.callbacks.History at 0x7fcebfbe5e10>"
            ]
          },
          "metadata": {},
          "execution_count": 234
        }
      ]
    },
    {
      "cell_type": "code",
      "source": [
        "losses=pd.DataFrame(model.history.history)\n",
        "losses.plot()"
      ],
      "metadata": {
        "colab": {
          "base_uri": "https://localhost:8080/",
          "height": 447
        },
        "id": "nCCW15AZ3z2X",
        "outputId": "0eae4b6b-9578-41c1-9e15-c211c410ad73"
      },
      "execution_count": null,
      "outputs": [
        {
          "output_type": "execute_result",
          "data": {
            "text/plain": [
              "<Axes: >"
            ]
          },
          "metadata": {},
          "execution_count": 235
        },
        {
          "output_type": "display_data",
          "data": {
            "text/plain": [
              "<Figure size 640x480 with 1 Axes>"
            ],
            "image/png": "[encoded data removed]"
          },
          "metadata": {}
        }
      ]
    },
    {
      "cell_type": "code",
      "source": [
        "test_predictions = []\n",
        "\n",
        "first_eval_batch = scaled_train[-length:]\n",
        "current_batch = first_eval_batch.reshape((1,length,n_features))\n",
        "\n",
        "for i in range(len(test)):\n",
        "\n",
        "  #get prediction 1 time stamp ahead ([8] is for grabbing just the number instead of (array])\n",
        "  current_pred = model.predict(current_batch)[0]\n",
        "\n",
        "  #store prediction\n",
        "  test_predictions.append(current_pred)\n",
        "\n",
        "  #update batch to now include prediction and drop first value\n",
        "  current_batch = np.append(current_batch[:,1:,:],[[current_pred]],axis=1)"
      ],
      "metadata": {
        "colab": {
          "base_uri": "https://localhost:8080/"
        },
        "id": "-xbK4Pi74hAU",
        "outputId": "3f02b3a0-5f34-46f8-ee89-d4d31437e596"
      },
      "execution_count": null,
      "outputs": [
        {
          "output_type": "stream",
          "name": "stdout",
          "text": [
            "1/1 [==============================] - 0s 451ms/step\n",
            "1/1 [==============================] - 0s 24ms/step\n",
            "1/1 [==============================] - 0s 21ms/step\n",
            "1/1 [==============================] - 0s 22ms/step\n",
            "1/1 [==============================] - 0s 22ms/step\n",
            "1/1 [==============================] - 0s 21ms/step\n",
            "1/1 [==============================] - 0s 21ms/step\n",
            "1/1 [==============================] - 0s 22ms/step\n",
            "1/1 [==============================] - 0s 21ms/step\n",
            "1/1 [==============================] - 0s 24ms/step\n",
            "1/1 [==============================] - 0s 26ms/step\n",
            "1/1 [==============================] - 0s 23ms/step\n",
            "1/1 [==============================] - 0s 22ms/step\n",
            "1/1 [==============================] - 0s 23ms/step\n",
            "1/1 [==============================] - 0s 28ms/step\n",
            "1/1 [==============================] - 0s 23ms/step\n"
          ]
        }
      ]
    },
    {
      "cell_type": "code",
      "source": [
        "true_predictions = scaler.inverse_transform(test_predictions)\n",
        "test.loc[:,'LSTM_predictions'] = true_predictions\n",
        "test.plot(figsize=(12,8))"
      ],
      "metadata": {
        "colab": {
          "base_uri": "https://localhost:8080/",
          "height": 797
        },
        "id": "pFc8UrEf40zW",
        "outputId": "492079f3-a13c-425d-a0d0-d067f8a3bfc5"
      },
      "execution_count": null,
      "outputs": [
        {
          "output_type": "stream",
          "name": "stderr",
          "text": [
            "<ipython-input-237-763b8d252c92>:2: SettingWithCopyWarning: \n",
            "A value is trying to be set on a copy of a slice from a DataFrame.\n",
            "Try using .loc[row_indexer,col_indexer] = value instead\n",
            "\n",
            "See the caveats in the documentation: https://pandas.pydata.org/pandas-docs/stable/user_guide/indexing.html#returning-a-view-versus-a-copy\n",
            "  test.loc[:,'LSTM_predictions'] = true_predictions\n"
          ]
        },
        {
          "output_type": "execute_result",
          "data": {
            "text/plain": [
              "<Axes: >"
            ]
          },
          "metadata": {},
          "execution_count": 237
        },
        {
          "output_type": "display_data",
          "data": {
            "text/plain": [
              "<Figure size 1200x800 with 1 Axes>"
            ],
            "image/png": "[encoded data removed]"
          },
          "metadata": {}
        }
      ]
    },
    {
      "cell_type": "code",
      "source": [
        "forecast = []\n",
        "\n",
        "first_eval_batch = scaled_train[-length:]\n",
        "current_batch = first_eval_batch.reshape((1,length,n_features))\n",
        "\n",
        "for i in range(15):\n",
        "\n",
        "  #get prediction 1 time stamp ahead ([8] is for grabbing just the number instead of (array])\n",
        "  current_pred = model.predict(current_batch)[0]\n",
        "\n",
        "  #store prediction\n",
        "  forecast.append(current_pred)\n",
        "\n",
        "  #update batch to now include prediction and drop first value\n",
        "  current_batch = np.append(current_batch[:,1:,:],[[current_pred]],axis=1)"
      ],
      "metadata": {
        "colab": {
          "base_uri": "https://localhost:8080/"
        },
        "id": "eMtTmEZm5sfB",
        "outputId": "56e68d4c-c8f2-49d8-d27b-79d33d747101"
      },
      "execution_count": null,
      "outputs": [
        {
          "output_type": "stream",
          "name": "stdout",
          "text": [
            "1/1 [==============================] - 0s 43ms/step\n",
            "1/1 [==============================] - 0s 84ms/step\n",
            "1/1 [==============================] - 0s 46ms/step\n",
            "1/1 [==============================] - 0s 25ms/step\n",
            "1/1 [==============================] - 0s 23ms/step\n",
            "1/1 [==============================] - 0s 22ms/step\n",
            "1/1 [==============================] - 0s 23ms/step\n",
            "1/1 [==============================] - 0s 26ms/step\n",
            "1/1 [==============================] - 0s 22ms/step\n",
            "1/1 [==============================] - 0s 22ms/step\n",
            "1/1 [==============================] - 0s 22ms/step\n",
            "1/1 [==============================] - 0s 25ms/step\n",
            "1/1 [==============================] - 0s 23ms/step\n",
            "1/1 [==============================] - 0s 24ms/step\n",
            "1/1 [==============================] - 0s 35ms/step\n"
          ]
        }
      ]
    },
    {
      "cell_type": "code",
      "source": [
        "forecast=scaler.inverse_transform(forecast)"
      ],
      "metadata": {
        "id": "dmjJFXeT5wZD"
      },
      "execution_count": null,
      "outputs": []
    },
    {
      "cell_type": "code",
      "source": [
        "full_data = pd.DataFrame(np.concatenate((df_array.flatten(), forecast.flatten())))"
      ],
      "metadata": {
        "id": "iXa-jviP58zu"
      },
      "execution_count": null,
      "outputs": []
    },
    {
      "cell_type": "code",
      "source": [
        "full_data.plot();"
      ],
      "metadata": {
        "colab": {
          "base_uri": "https://localhost:8080/",
          "height": 430
        },
        "id": "2n4Acon26DVR",
        "outputId": "4db41690-1d80-413b-d4f1-644cfd84c389"
      },
      "execution_count": null,
      "outputs": [
        {
          "output_type": "display_data",
          "data": {
            "text/plain": [
              "<Figure size 640x480 with 1 Axes>"
            ],
            "image/png": "[encoded data removed]"
          },
          "metadata": {}
        }
      ]
    },
    {
      "cell_type": "code",
      "source": [
        "forecast"
      ],
      "metadata": {
        "colab": {
          "base_uri": "https://localhost:8080/"
        },
        "id": "HhpwKjSX6Q92",
        "outputId": "b8e8ffdb-3a39-457c-d08f-031afecd713e"
      },
      "execution_count": null,
      "outputs": [
        {
          "output_type": "execute_result",
          "data": {
            "text/plain": [
              "array([[528.22769908],\n",
              "       [528.65716519],\n",
              "       [528.99335328],\n",
              "       [529.27843549],\n",
              "       [529.29018866],\n",
              "       [529.32412337],\n",
              "       [529.33202109],\n",
              "       [529.32106619],\n",
              "       [529.3832119 ],\n",
              "       [529.35985843],\n",
              "       [529.16197385],\n",
              "       [529.02688038],\n",
              "       [528.95732949],\n",
              "       [528.84861271],\n",
              "       [528.73838432]])"
            ]
          },
          "metadata": {},
          "execution_count": 244
        }
      ]
    },
    {
      "cell_type": "code",
      "source": [
        "full_data.tail(30)"
      ],
      "metadata": {
        "colab": {
          "base_uri": "https://localhost:8080/",
          "height": 990
        },
        "id": "jJP7QZOs6Uig",
        "outputId": "742c3ea9-4362-4284-c3dc-d92c58fe073c"
      },
      "execution_count": null,
      "outputs": [
        {
          "output_type": "execute_result",
          "data": {
            "text/plain": [
              "              0\n",
              "481  540.000000\n",
              "482  545.150000\n",
              "483  540.850000\n",
              "484  539.350000\n",
              "485  542.500000\n",
              "486  536.750000\n",
              "487  528.650000\n",
              "488  538.750000\n",
              "489  539.600000\n",
              "490  536.400000\n",
              "491  534.050000\n",
              "492  528.750000\n",
              "493  535.100000\n",
              "494  531.200000\n",
              "495  524.950000\n",
              "496  528.227699\n",
              "497  528.657165\n",
              "498  528.993353\n",
              "499  529.278435\n",
              "500  529.290189\n",
              "501  529.324123\n",
              "502  529.332021\n",
              "503  529.321066\n",
              "504  529.383212\n",
              "505  529.359858\n",
              "506  529.161974\n",
              "507  529.026880\n",
              "508  528.957329\n",
              "509  528.848613\n",
              "510  528.738384"
            ],
            "text/html": [
              "\n",
              "  <div id=\"df-28785178-0010-4b1b-a3b2-d56b4585211b\" class=\"colab-df-container\">\n",
              "    <div>\n",
              "<style scoped>\n",
              "    .dataframe tbody tr th:only-of-type {\n",
              "        vertical-align: middle;\n",
              "    }\n",
              "\n",
              "    .dataframe tbody tr th {\n",
              "        vertical-align: top;\n",
              "    }\n",
              "\n",
              "    .dataframe thead th {\n",
              "        text-align: right;\n",
              "    }\n",
              "</style>\n",
              "<table border=\"1\" class=\"dataframe\">\n",
              "  <thead>\n",
              "    <tr style=\"text-align: right;\">\n",
              "      <th></th>\n",
              "      <th>0</th>\n",
              "    </tr>\n",
              "  </thead>\n",
              "  <tbody>\n",
              "    <tr>\n",
              "      <th>481</th>\n",
              "      <td>540.000000</td>\n",
              "    </tr>\n",
              "    <tr>\n",
              "      <th>482</th>\n",
              "      <td>545.150000</td>\n",
              "    </tr>\n",
              "    <tr>\n",
              "      <th>483</th>\n",
              "      <td>540.850000</td>\n",
              "    </tr>\n",
              "    <tr>\n",
              "      <th>484</th>\n",
              "      <td>539.350000</td>\n",
              "    </tr>\n",
              "    <tr>\n",
              "      <th>485</th>\n",
              "      <td>542.500000</td>\n",
              "    </tr>\n",
              "    <tr>\n",
              "      <th>486</th>\n",
              "      <td>536.750000</td>\n",
              "    </tr>\n",
              "    <tr>\n",
              "      <th>487</th>\n",
              "      <td>528.650000</td>\n",
              "    </tr>\n",
              "    <tr>\n",
              "      <th>488</th>\n",
              "      <td>538.750000</td>\n",
              "    </tr>\n",
              "    <tr>\n",
              "      <th>489</th>\n",
              "      <td>539.600000</td>\n",
              "    </tr>\n",
              "    <tr>\n",
              "      <th>490</th>\n",
              "      <td>536.400000</td>\n",
              "    </tr>\n",
              "    <tr>\n",
              "      <th>491</th>\n",
              "      <td>534.050000</td>\n",
              "    </tr>\n",
              "    <tr>\n",
              "      <th>492</th>\n",
              "      <td>528.750000</td>\n",
              "    </tr>\n",
              "    <tr>\n",
              "      <th>493</th>\n",
              "      <td>535.100000</td>\n",
              "    </tr>\n",
              "    <tr>\n",
              "      <th>494</th>\n",
              "      <td>531.200000</td>\n",
              "    </tr>\n",
              "    <tr>\n",
              "      <th>495</th>\n",
              "      <td>524.950000</td>\n",
              "    </tr>\n",
              "    <tr>\n",
              "      <th>496</th>\n",
              "      <td>528.227699</td>\n",
              "    </tr>\n",
              "    <tr>\n",
              "      <th>497</th>\n",
              "      <td>528.657165</td>\n",
              "    </tr>\n",
              "    <tr>\n",
              "      <th>498</th>\n",
              "      <td>528.993353</td>\n",
              "    </tr>\n",
              "    <tr>\n",
              "      <th>499</th>\n",
              "      <td>529.278435</td>\n",
              "    </tr>\n",
              "    <tr>\n",
              "      <th>500</th>\n",
              "      <td>529.290189</td>\n",
              "    </tr>\n",
              "    <tr>\n",
              "      <th>501</th>\n",
              "      <td>529.324123</td>\n",
              "    </tr>\n",
              "    <tr>\n",
              "      <th>502</th>\n",
              "      <td>529.332021</td>\n",
              "    </tr>\n",
              "    <tr>\n",
              "      <th>503</th>\n",
              "      <td>529.321066</td>\n",
              "    </tr>\n",
              "    <tr>\n",
              "      <th>504</th>\n",
              "      <td>529.383212</td>\n",
              "    </tr>\n",
              "    <tr>\n",
              "      <th>505</th>\n",
              "      <td>529.359858</td>\n",
              "    </tr>\n",
              "    <tr>\n",
              "      <th>506</th>\n",
              "      <td>529.161974</td>\n",
              "    </tr>\n",
              "    <tr>\n",
              "      <th>507</th>\n",
              "      <td>529.026880</td>\n",
              "    </tr>\n",
              "    <tr>\n",
              "      <th>508</th>\n",
              "      <td>528.957329</td>\n",
              "    </tr>\n",
              "    <tr>\n",
              "      <th>509</th>\n",
              "      <td>528.848613</td>\n",
              "    </tr>\n",
              "    <tr>\n",
              "      <th>510</th>\n",
              "      <td>528.738384</td>\n",
              "    </tr>\n",
              "  </tbody>\n",
              "</table>\n",
              "</div>\n",
              "    <div class=\"colab-df-buttons\">\n",
              "\n",
              "  <div class=\"colab-df-container\">\n",
              "    <button class=\"colab-df-convert\" onclick=\"convertToInteractive('df-28785178-0010-4b1b-a3b2-d56b4585211b')\"\n",
              "            title=\"Convert this dataframe to an interactive table.\"\n",
              "            style=\"display:none;\">\n",
              "\n",
              "  <svg xmlns=\"http://www.w3.org/2000/svg\" height=\"24px\" viewBox=\"0 -960 960 960\">\n",
              "    <path d=\"M120-120v-720h720v720H120Zm60-500h600v-160H180v160Zm220 220h160v-160H400v160Zm0 220h160v-160H400v160ZM180-400h160v-160H180v160Zm440 0h160v-160H620v160ZM180-180h160v-160H180v160Zm440 0h160v-160H620v160Z\"/>\n",
              "  </svg>\n",
              "    </button>\n",
              "\n",
              "  <style>\n",
              "    .colab-df-container {\n",
              "      display:flex;\n",
              "      gap: 12px;\n",
              "    }\n",
              "\n",
              "    .colab-df-convert {\n",
              "      background-color: #E8F0FE;\n",
              "      border: none;\n",
              "      border-radius: 50%;\n",
              "      cursor: pointer;\n",
              "      display: none;\n",
              "      fill: #1967D2;\n",
              "      height: 32px;\n",
              "      padding: 0 0 0 0;\n",
              "      width: 32px;\n",
              "    }\n",
              "\n",
              "    .colab-df-convert:hover {\n",
              "      background-color: #E2EBFA;\n",
              "      box-shadow: 0px 1px 2px rgba(60, 64, 67, 0.3), 0px 1px 3px 1px rgba(60, 64, 67, 0.15);\n",
              "      fill: #174EA6;\n",
              "    }\n",
              "\n",
              "    .colab-df-buttons div {\n",
              "      margin-bottom: 4px;\n",
              "    }\n",
              "\n",
              "    [theme=dark] .colab-df-convert {\n",
              "      background-color: #3B4455;\n",
              "      fill: #D2E3FC;\n",
              "    }\n",
              "\n",
              "    [theme=dark] .colab-df-convert:hover {\n",
              "      background-color: #434B5C;\n",
              "      box-shadow: 0px 1px 3px 1px rgba(0, 0, 0, 0.15);\n",
              "      filter: drop-shadow(0px 1px 2px rgba(0, 0, 0, 0.3));\n",
              "      fill: #FFFFFF;\n",
              "    }\n",
              "  </style>\n",
              "\n",
              "    <script>\n",
              "      const buttonEl =\n",
              "        document.querySelector('#df-28785178-0010-4b1b-a3b2-d56b4585211b button.colab-df-convert');\n",
              "      buttonEl.style.display =\n",
              "        google.colab.kernel.accessAllowed ? 'block' : 'none';\n",
              "\n",
              "      async function convertToInteractive(key) {\n",
              "        const element = document.querySelector('#df-28785178-0010-4b1b-a3b2-d56b4585211b');\n",
              "        const dataTable =\n",
              "          await google.colab.kernel.invokeFunction('convertToInteractive',\n",
              "                                                    [key], {});\n",
              "        if (!dataTable) return;\n",
              "\n",
              "        const docLinkHtml = 'Like what you see? Visit the ' +\n",
              "          '<a target=\"_blank\" href=https://colab.research.google.com/notebooks/data_table.ipynb>data table notebook</a>'\n",
              "          + ' to learn more about interactive tables.';\n",
              "        element.innerHTML = '';\n",
              "        dataTable['output_type'] = 'display_data';\n",
              "        await google.colab.output.renderOutput(dataTable, element);\n",
              "        const docLink = document.createElement('div');\n",
              "        docLink.innerHTML = docLinkHtml;\n",
              "        element.appendChild(docLink);\n",
              "      }\n",
              "    </script>\n",
              "  </div>\n",
              "\n",
              "\n",
              "<div id=\"df-5e484834-904f-47c5-8917-e53dcd45f80f\">\n",
              "  <button class=\"colab-df-quickchart\" onclick=\"quickchart('df-5e484834-904f-47c5-8917-e53dcd45f80f')\"\n",
              "            title=\"Suggest charts\"\n",
              "            style=\"display:none;\">\n",
              "\n",
              "<svg xmlns=\"http://www.w3.org/2000/svg\" height=\"24px\"viewBox=\"0 0 24 24\"\n",
              "     width=\"24px\">\n",
              "    <g>\n",
              "        <path d=\"M19 3H5c-1.1 0-2 .9-2 2v14c0 1.1.9 2 2 2h14c1.1 0 2-.9 2-2V5c0-1.1-.9-2-2-2zM9 17H7v-7h2v7zm4 0h-2V7h2v10zm4 0h-2v-4h2v4z\"/>\n",
              "    </g>\n",
              "</svg>\n",
              "  </button>\n",
              "\n",
              "<style>\n",
              "  .colab-df-quickchart {\n",
              "      --bg-color: #E8F0FE;\n",
              "      --fill-color: #1967D2;\n",
              "      --hover-bg-color: #E2EBFA;\n",
              "      --hover-fill-color: #174EA6;\n",
              "      --disabled-fill-color: #AAA;\n",
              "      --disabled-bg-color: #DDD;\n",
              "  }\n",
              "\n",
              "  [theme=dark] .colab-df-quickchart {\n",
              "      --bg-color: #3B4455;\n",
              "      --fill-color: #D2E3FC;\n",
              "      --hover-bg-color: #434B5C;\n",
              "      --hover-fill-color: #FFFFFF;\n",
              "      --disabled-bg-color: #3B4455;\n",
              "      --disabled-fill-color: #666;\n",
              "  }\n",
              "\n",
              "  .colab-df-quickchart {\n",
              "    background-color: var(--bg-color);\n",
              "    border: none;\n",
              "    border-radius: 50%;\n",
              "    cursor: pointer;\n",
              "    display: none;\n",
              "    fill: var(--fill-color);\n",
              "    height: 32px;\n",
              "    padding: 0;\n",
              "    width: 32px;\n",
              "  }\n",
              "\n",
              "  .colab-df-quickchart:hover {\n",
              "    background-color: var(--hover-bg-color);\n",
              "    box-shadow: 0 1px 2px rgba(60, 64, 67, 0.3), 0 1px 3px 1px rgba(60, 64, 67, 0.15);\n",
              "    fill: var(--button-hover-fill-color);\n",
              "  }\n",
              "\n",
              "  .colab-df-quickchart-complete:disabled,\n",
              "  .colab-df-quickchart-complete:disabled:hover {\n",
              "    background-color: var(--disabled-bg-color);\n",
              "    fill: var(--disabled-fill-color);\n",
              "    box-shadow: none;\n",
              "  }\n",
              "\n",
              "  .colab-df-spinner {\n",
              "    border: 2px solid var(--fill-color);\n",
              "    border-color: transparent;\n",
              "    border-bottom-color: var(--fill-color);\n",
              "    animation:\n",
              "      spin 1s steps(1) infinite;\n",
              "  }\n",
              "\n",
              "  @keyframes spin {\n",
              "    0% {\n",
              "      border-color: transparent;\n",
              "      border-bottom-color: var(--fill-color);\n",
              "      border-left-color: var(--fill-color);\n",
              "    }\n",
              "    20% {\n",
              "      border-color: transparent;\n",
              "      border-left-color: var(--fill-color);\n",
              "      border-top-color: var(--fill-color);\n",
              "    }\n",
              "    30% {\n",
              "      border-color: transparent;\n",
              "      border-left-color: var(--fill-color);\n",
              "      border-top-color: var(--fill-color);\n",
              "      border-right-color: var(--fill-color);\n",
              "    }\n",
              "    40% {\n",
              "      border-color: transparent;\n",
              "      border-right-color: var(--fill-color);\n",
              "      border-top-color: var(--fill-color);\n",
              "    }\n",
              "    60% {\n",
              "      border-color: transparent;\n",
              "      border-right-color: var(--fill-color);\n",
              "    }\n",
              "    80% {\n",
              "      border-color: transparent;\n",
              "      border-right-color: var(--fill-color);\n",
              "      border-bottom-color: var(--fill-color);\n",
              "    }\n",
              "    90% {\n",
              "      border-color: transparent;\n",
              "      border-bottom-color: var(--fill-color);\n",
              "    }\n",
              "  }\n",
              "</style>\n",
              "\n",
              "  <script>\n",
              "    async function quickchart(key) {\n",
              "      const quickchartButtonEl =\n",
              "        document.querySelector('#' + key + ' button');\n",
              "      quickchartButtonEl.disabled = true;  // To prevent multiple clicks.\n",
              "      quickchartButtonEl.classList.add('colab-df-spinner');\n",
              "      try {\n",
              "        const charts = await google.colab.kernel.invokeFunction(\n",
              "            'suggestCharts', [key], {});\n",
              "      } catch (error) {\n",
              "        console.error('Error during call to suggestCharts:', error);\n",
              "      }\n",
              "      quickchartButtonEl.classList.remove('colab-df-spinner');\n",
              "      quickchartButtonEl.classList.add('colab-df-quickchart-complete');\n",
              "    }\n",
              "    (() => {\n",
              "      let quickchartButtonEl =\n",
              "        document.querySelector('#df-5e484834-904f-47c5-8917-e53dcd45f80f button');\n",
              "      quickchartButtonEl.style.display =\n",
              "        google.colab.kernel.accessAllowed ? 'block' : 'none';\n",
              "    })();\n",
              "  </script>\n",
              "</div>\n",
              "\n",
              "    </div>\n",
              "  </div>\n"
            ],
            "application/vnd.google.colaboratory.intrinsic+json": {
              "type": "dataframe",
              "summary": "{\n  \"name\": \"full_data\",\n  \"rows\": 30,\n  \"fields\": [\n    {\n      \"column\": 0,\n      \"properties\": {\n        \"dtype\": \"number\",\n        \"std\": 5.353538514038545,\n        \"min\": 524.95,\n        \"max\": 545.15,\n        \"num_unique_values\": 30,\n        \"samples\": [\n          528.9573294907808,\n          528.2276990771294,\n          529.3832119047642\n        ],\n        \"semantic_type\": \"\",\n        \"description\": \"\"\n      }\n    }\n  ]\n}"
            }
          },
          "metadata": {},
          "execution_count": 246
        }
      ]
    }
  ]
}